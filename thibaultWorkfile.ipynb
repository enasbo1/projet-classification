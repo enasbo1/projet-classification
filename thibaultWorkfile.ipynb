{
 "cells": [
  {
   "cell_type": "code",
   "execution_count": 1,
   "metadata": {},
   "outputs": [
    {
     "ename": "ModuleNotFoundError",
     "evalue": "No module named 'pandas'",
     "output_type": "error",
     "traceback": [
      "\u001b[1;31m---------------------------------------------------------------------------\u001b[0m",
      "\u001b[1;31mModuleNotFoundError\u001b[0m                       Traceback (most recent call last)",
      "Cell \u001b[1;32mIn[1], line 1\u001b[0m\n\u001b[1;32m----> 1\u001b[0m \u001b[38;5;28;01mimport\u001b[39;00m \u001b[38;5;21;01mpandas\u001b[39;00m \u001b[38;5;28;01mas\u001b[39;00m \u001b[38;5;21;01mpd\u001b[39;00m\n\u001b[0;32m      2\u001b[0m \u001b[38;5;28;01mfrom\u001b[39;00m \u001b[38;5;21;01msklearn\u001b[39;00m\u001b[38;5;21;01m.\u001b[39;00m\u001b[38;5;21;01mmodel_selection\u001b[39;00m \u001b[38;5;28;01mimport\u001b[39;00m train_test_split\n\u001b[0;32m      3\u001b[0m \u001b[38;5;28;01mfrom\u001b[39;00m \u001b[38;5;21;01msklearn\u001b[39;00m\u001b[38;5;21;01m.\u001b[39;00m\u001b[38;5;21;01mensemble\u001b[39;00m \u001b[38;5;28;01mimport\u001b[39;00m RandomForestClassifier\n",
      "\u001b[1;31mModuleNotFoundError\u001b[0m: No module named 'pandas'"
     ]
    }
   ],
   "source": [
    "import pandas as pd\n",
    "from sklearn.model_selection import train_test_split\n",
    "from sklearn.ensemble import RandomForestClassifier\n",
    "from sklearn.preprocessing import LabelEncoder\n",
    "from sklearn.metrics import classification_report\n",
    "import matplotlib.pyplot as plt\n",
    "\n",
    "data = pd.read_csv(\"archive/GACTT_RESULTS_ANONYMIZED.csv\")\n",
    "\n",
    "selected_columns = [\n",
    "    \"What is your age?\", \"Gender\", \"Marital Status\", \n",
    "    \"Household Income\", \"Education Level\", \n",
    "    \"How many cups of coffee do you typically drink per day?\"\n",
    "]\n",
    "\n",
    "selected_data = data[selected_columns].copy()\n",
    "\n",
    "selected_data.rename(columns={\n",
    "    \"What is your age?\": \"Age\",\n",
    "    \"How many cups of coffee do you typically drink per day?\": \"Coffee Per Day\"\n",
    "}, inplace=True)\n",
    "\n",
    "for col in selected_data.columns:\n",
    "    selected_data[col].fillna(selected_data[col].mode()[0], inplace=True)\n",
    "\n",
    "label_encoders = {}\n",
    "for col in selected_data.columns[:-1]: \n",
    "    encoder = LabelEncoder()\n",
    "    selected_data[col] = encoder.fit_transform(selected_data[col])\n",
    "    label_encoders[col] = encoder\n",
    "\n",
    "selected_data['Coffee Per Day'] = selected_data['Coffee Per Day'].apply(lambda x: 0 if x in [\"0\", \"1\", \"2\"] else 1)\n",
    "\n",
    "X = selected_data.drop('Coffee Per Day', axis=1)\n",
    "y = selected_data['Coffee Per Day']\n",
    "X_train, X_test, y_train, y_test = train_test_split(X, y, test_size=0.3, random_state=42)\n",
    "\n",
    "rf_model = RandomForestClassifier(random_state=42)\n",
    "rf_model.fit(X_train, y_train)\n",
    "\n",
    "y_pred = rf_model.predict(X_test)\n",
    "report = classification_report(y_test, y_pred)\n",
    "\n",
    "feature_names = X.columns\n",
    "\n",
    "plt.figure(figsize=(10, 6))\n",
    "plt.barh(feature_names, feature_importance, color='skyblue')\n",
    "plt.xlabel('Importance')\n",
    "plt.ylabel('Caractéristique')\n",
    "plt.title('Importance des Caractéristiques dans la Forêt Aléatoire')\n",
    "plt.gca().invert_yaxis() \n",
    "plt.show()\n"
   ]
  }
 ],
 "metadata": {
  "kernelspec": {
   "display_name": "Python 3",
   "language": "python",
   "name": "python3"
  },
  "language_info": {
   "codemirror_mode": {
    "name": "ipython",
    "version": 3
   },
   "file_extension": ".py",
   "mimetype": "text/x-python",
   "name": "python",
   "nbconvert_exporter": "python",
   "pygments_lexer": "ipython3",
   "version": "3.12.0"
  }
 },
 "nbformat": 4,
 "nbformat_minor": 2
}
