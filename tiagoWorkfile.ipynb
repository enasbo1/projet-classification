{
 "cells": [
  {
   "cell_type": "code",
   "execution_count": null,
   "metadata": {},
   "outputs": [],
   "source": [
    "import pandas as pd\n",
    "from sklearn.model_selection import train_test_split\n",
    "from sklearn.ensemble import RandomForestClassifier\n",
    "from sklearn.preprocessing import LabelEncoder\n",
    "from sklearn.metrics import classification_report\n",
    "\n",
    "data = pd.read_csv(\"archive/GACTT_RESULTS_ANONYMIZED.csv\")\n",
    "\n",
    "selected_columns = [\n",
    "    \"What is your age?\", \"Gender\", \"Marital Status\", \n",
    "    \"Household Income\", \"Education Level\", \n",
    "    \"How many cups of coffee do you typically drink per day?\"\n",
    "]\n",
    "\n",
    "selected_data = data[selected_columns].copy()\n",
    "\n",
    "selected_data.rename(columns={\n",
    "    \"What is your age?\": \"Age\",\n",
    "    \"How many cups of coffee do you typically drink per day?\": \"Coffee Per Day\"\n",
    "}, inplace=True)\n",
    "\n",
    "for col in selected_data.columns:\n",
    "    selected_data[col].fillna(selected_data[col].mode()[0], inplace=True)\n",
    "\n",
    "label_encoders = {}\n",
    "for col in selected_data.columns[:-1]: \n",
    "    encoder = LabelEncoder()\n",
    "    selected_data[col] = encoder.fit_transform(selected_data[col])\n",
    "    label_encoders[col] = encoder\n",
    "\n",
    "selected_data['Coffee Per Day'] = selected_data['Coffee Per Day'].apply(lambda x: 0 if x in [\"0\", \"1\", \"2\"] else 1)\n",
    "\n",
    "X = selected_data.drop('Coffee Per Day', axis=1)\n",
    "y = selected_data['Coffee Per Day']\n",
    "X_train, X_test, y_train, y_test = train_test_split(X, y, test_size=0.3, random_state=42)\n",
    "\n",
    "rf_model = RandomForestClassifier(random_state=42)\n",
    "rf_model.fit(X_train, y_train)\n",
    "\n",
    "y_pred = rf_model.predict(X_test)\n",
    "report = classification_report(y_test, y_pred)\n",
    "\n",
    "print(report)\n",
    "\n",
    "feature_importance = rf_model.feature_importances_\n",
    "print(feature_importance)\n"
   ]
  }
 ],
 "metadata": {
  "language_info": {
   "name": "python"
  }
 },
 "nbformat": 4,
 "nbformat_minor": 2
}
