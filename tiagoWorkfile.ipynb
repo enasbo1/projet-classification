{
 "cells": [
  {
   "cell_type": "code",
   "execution_count": 4,
   "metadata": {},
   "outputs": [
    {
     "ename": "ModuleNotFoundError",
     "evalue": "No module named 'matplotlib'",
     "output_type": "error",
     "traceback": [
      "\u001b[1;31m---------------------------------------------------------------------------\u001b[0m",
      "\u001b[1;31mModuleNotFoundError\u001b[0m                       Traceback (most recent call last)",
      "Cell \u001b[1;32mIn[4], line 2\u001b[0m\n\u001b[0;32m      1\u001b[0m \u001b[38;5;28;01mimport\u001b[39;00m \u001b[38;5;21;01mpandas\u001b[39;00m \u001b[38;5;28;01mas\u001b[39;00m \u001b[38;5;21;01mpd\u001b[39;00m\n\u001b[1;32m----> 2\u001b[0m \u001b[38;5;28;01mimport\u001b[39;00m \u001b[38;5;21;01mmatplotlib\u001b[39;00m\u001b[38;5;21;01m.\u001b[39;00m\u001b[38;5;21;01mpyplot\u001b[39;00m \u001b[38;5;28;01mas\u001b[39;00m \u001b[38;5;21;01mplt\u001b[39;00m\n\u001b[0;32m      3\u001b[0m \u001b[38;5;28;01mimport\u001b[39;00m \u001b[38;5;21;01mseaborn\u001b[39;00m \u001b[38;5;28;01mas\u001b[39;00m \u001b[38;5;21;01msns\u001b[39;00m\n\u001b[0;32m      5\u001b[0m data \u001b[38;5;241m=\u001b[39m pd\u001b[38;5;241m.\u001b[39mread_csv(\u001b[38;5;124m\"\u001b[39m\u001b[38;5;124marchive/GACTT_RESULTS_ANONYMIZED.csv\u001b[39m\u001b[38;5;124m\"\u001b[39m)\n",
      "\u001b[1;31mModuleNotFoundError\u001b[0m: No module named 'matplotlib'"
     ]
    }
   ],
   "source": [
    "import pandas as pd\n",
    "import matplotlib.pyplot as plt\n",
    "import seaborn as sns\n",
    "\n",
    "data = pd.read_csv(\"archive/GACTT_RESULTS_ANONYMIZED.csv\")\n",
    "\n",
    "colonnes_ajouts = [\n",
    "    'Do you usually add anything to your coffee? (No - just black)',\n",
    "    'Do you usually add anything to your coffee? (Milk, dairy alternative, or coffee creamer)',\n",
    "    'Do you usually add anything to your coffee? (Sugar or sweetener)',\n",
    "    'Do you usually add anything to your coffee? (Flavor syrup)',\n",
    "    'Do you usually add anything to your coffee? (Other)'\n",
    "]\n",
    "\n",
    "colonne_cafe_prefere = 'What is your favorite coffee drink?'\n",
    "\n",
    "cafe_counts_per_addition = {ajout: data[data[ajout] == True][colonne_cafe_prefere].value_counts() for ajout in colonnes_ajouts}\n",
    "\n",
    "df_cafe_counts = pd.DataFrame(cafe_counts_per_addition)\n",
    "df_cafe_counts = df_cafe_counts.fillna(0)\n",
    "\n",
    "colonnes_ajouts_fr = [\n",
    "    'Sans Ajout',\n",
    "    'Lait ou Crémier',\n",
    "    'Sucre ou Édulcorant',\n",
    "    'Sirop Aromatisé',\n",
    "    'Autres Ajouts'\n",
    "]\n",
    "\n",
    "df_cafe_counts.columns = colonnes_ajouts_fr\n",
    "\n",
    "plt.figure(figsize=(12, 8))\n",
    "sns.heatmap(df_cafe_counts, annot=True, fmt=\".0f\", cmap=\"YlGnBu\", linewidths=.5)\n",
    "\n",
    "plt.title('Nombre de Choix de Type de Café par Type d'Ajout')\n",
    "plt.xlabel('Type d'Ajout au Café')\n",
    "plt.ylabel('Type de Café')\n",
    "\n",
    "plt.show()"
   ]
  }
 ],
 "metadata": {
  "kernelspec": {
   "display_name": "Python 3",
   "language": "python",
   "name": "python3"
  },
  "language_info": {
   "codemirror_mode": {
    "name": "ipython",
    "version": 3
   },
   "file_extension": ".py",
   "mimetype": "text/x-python",
   "name": "python",
   "nbconvert_exporter": "python",
   "pygments_lexer": "ipython3",
   "version": "3.12.0"
  }
 },
 "nbformat": 4,
 "nbformat_minor": 2
}
