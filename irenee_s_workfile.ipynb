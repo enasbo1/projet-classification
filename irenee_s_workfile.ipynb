{
 "cells": [
  {
   "cell_type": "markdown",
   "metadata": {},
   "source": [
    "<h1 style=\"font-weight:bold;color:#750073;text-align:center\">TP : Classification avec le jeu de données Breast Cancer Wisconsin</h1>"
   ]
  },
  {
   "cell_type": "markdown",
   "metadata": {},
   "source": [
    "<h3 style=\"font-weight:bold;color:#000F78;text-align:left\">Objectif :</h3>\n",
    "<p>Explorer un jeu de données, effectuer une visualisation, préparer les données, construire un modèle de classification et évaluer sa performance pour diagnostiquer le cancer du sein.</p>"
   ]
  },
  {
   "cell_type": "markdown",
   "metadata": {},
   "source": [
    "<h3 style=\"font-weight:bold;color:#000F78;text-align:left\">Étapes :</h3>"
   ]
  },
  {
   "cell_type": "markdown",
   "metadata": {},
   "source": [
    "<h5 style=\"font-weight:baold;color:#AC04CD;text-align:left\">Importation des bibliothèques : Importez les bibliothèques nécessaires, y compris scikit-learn, NumPy, Pandas et Matplotlib pour la visualisation.</h5"
   ]
  },
  {
   "cell_type": "code",
   "execution_count": 56,
   "metadata": {},
   "outputs": [],
   "source": [
    "import pandas as pd \n",
    "import numpy as np\n",
    "import matplotlib.pyplot as plt\n",
    "import sklearn as skl\n",
    "import sklearn.cluster as clt"
   ]
  },
  {
   "cell_type": "markdown",
   "metadata": {},
   "source": [
    "<h5 style=\"font-weight:baold;color:#AC04CD;text-align:left\">Chargement des données : Chargez le jeu de données \"gactt_restult\" en utilisant la fonction read_csv de panda.</h5>"
   ]
  },
  {
   "cell_type": "code",
   "execution_count": 57,
   "metadata": {},
   "outputs": [],
   "source": [
    "data = pd.read_csv(\"archive/GACTT_RESULTS_ANONYMIZED.csv\")"
   ]
  },
  {
   "cell_type": "code",
   "execution_count": 58,
   "metadata": {},
   "outputs": [
    {
     "name": "stdout",
     "output_type": "stream",
     "text": [
      "Submission ID\n",
      "Respondent ID\n",
      "Submitted at\n",
      "What is your age?\n",
      "What is your ZIP code?\n",
      "How many cups of coffee do you typically drink per day?\n",
      "Where do you typically drink coffee?\n",
      "Where do you typically drink coffee? (At home)\n",
      "Where do you typically drink coffee? (At the office)\n",
      "Where do you typically drink coffee? (On the go)\n",
      "Where do you typically drink coffee? (At a cafe)\n",
      "Where do you typically drink coffee? (None of these)\n",
      "How do you brew coffee at home?\n",
      "How do you brew coffee at home? (Pour over)\n",
      "How do you brew coffee at home? (French press)\n",
      "How do you brew coffee at home? (Espresso)\n",
      "How do you brew coffee at home? (Coffee brewing machine (e.g. Mr. Coffee))\n",
      "How do you brew coffee at home? (Pod/capsule machine (e.g. Keurig/Nespresso))\n",
      "How do you brew coffee at home? (Instant coffee)\n",
      "How do you brew coffee at home? (Bean-to-cup machine)\n",
      "How do you brew coffee at home? (Cold brew)\n",
      "How do you brew coffee at home? (Coffee extract (e.g. Cometeer))\n",
      "How do you brew coffee at home? (Other)\n",
      "How else do you brew coffee at home?\n",
      "On the go, where do you typically purchase coffee?\n",
      "On the go, where do you typically purchase coffee? (National chain (e.g. Starbucks, Dunkin))\n",
      "On the go, where do you typically purchase coffee? (Local cafe)\n",
      "On the go, where do you typically purchase coffee? (Drive-thru)\n",
      "On the go, where do you typically purchase coffee? (Specialty coffee shop)\n",
      "On the go, where do you typically purchase coffee? (Deli or supermarket)\n",
      "On the go, where do you typically purchase coffee? (Other)\n",
      "Where else do you purchase coffee?\n",
      "What is your favorite coffee drink?\n",
      "Please specify what your favorite coffee drink is\n",
      "Do you usually add anything to your coffee?\n",
      "Do you usually add anything to your coffee? (No - just black)\n",
      "Do you usually add anything to your coffee? (Milk, dairy alternative, or coffee creamer)\n",
      "Do you usually add anything to your coffee? (Sugar or sweetener)\n",
      "Do you usually add anything to your coffee? (Flavor syrup)\n",
      "Do you usually add anything to your coffee? (Other)\n",
      "What else do you add to your coffee?\n",
      "What kind of dairy do you add?\n",
      "What kind of dairy do you add? (Whole milk)\n",
      "What kind of dairy do you add? (Skim milk)\n",
      "What kind of dairy do you add? (Half and half)\n",
      "What kind of dairy do you add? (Coffee creamer)\n",
      "What kind of dairy do you add? (Flavored coffee creamer)\n",
      "What kind of dairy do you add? (Oat milk)\n",
      "What kind of dairy do you add? (Almond milk)\n",
      "What kind of dairy do you add? (Soy milk)\n",
      "What kind of dairy do you add? (Other)\n",
      "What kind of sugar or sweetener do you add?\n",
      "What kind of sugar or sweetener do you add? (Granulated Sugar)\n",
      "What kind of sugar or sweetener do you add? (Artificial Sweeteners (e.g., Splenda))\n",
      "What kind of sugar or sweetener do you add? (Honey)\n",
      "What kind of sugar or sweetener do you add? (Maple Syrup)\n",
      "What kind of sugar or sweetener do you add? (Stevia)\n",
      "What kind of sugar or sweetener do you add? (Agave Nectar)\n",
      "What kind of sugar or sweetener do you add? (Brown Sugar)\n",
      "What kind of sugar or sweetener do you add? (Raw Sugar (Turbinado))\n",
      "What kind of flavorings do you add?\n",
      "What kind of flavorings do you add? (Vanilla Syrup)\n",
      "What kind of flavorings do you add? (Caramel Syrup)\n",
      "What kind of flavorings do you add? (Hazelnut Syrup)\n",
      "What kind of flavorings do you add? (Cinnamon (Ground or Stick))\n",
      "What kind of flavorings do you add? (Peppermint Syrup)\n",
      "What kind of flavorings do you add? (Other)\n",
      "What other flavoring do you use?\n",
      "Before today's tasting, which of the following best described what kind of coffee you like?\n",
      "How strong do you like your coffee?\n",
      "What roast level of coffee do you prefer?\n",
      "How much caffeine do you like in your coffee?\n",
      "Lastly, how would you rate your own coffee expertise?\n",
      "Coffee A - Bitterness\n",
      "Coffee A - Acidity\n",
      "Coffee A - Personal Preference\n",
      "Coffee A - Notes\n",
      "Coffee B - Bitterness\n",
      "Coffee B - Acidity\n",
      "Coffee B - Personal Preference\n",
      "Coffee B - Notes\n",
      "Coffee C - Bitterness\n",
      "Coffee C - Acidity\n",
      "Coffee C - Personal Preference\n",
      "Coffee C - Notes\n",
      "Coffee D - Bitterness\n",
      "Coffee D - Acidity\n",
      "Coffee D - Personal Preference\n",
      "Coffee D - Notes\n",
      "Between Coffee A, Coffee B, and Coffee C which did you prefer?\n",
      "Between Coffee A and Coffee D, which did you prefer?\n",
      "Lastly, what was your favorite overall coffee?\n",
      "Do you work from home or in person?\n",
      "In total, much money do you typically spend on coffee in a month?\n",
      "Why do you drink coffee?\n",
      "Why do you drink coffee? (It tastes good)\n",
      "Why do you drink coffee? (I need the caffeine)\n",
      "Why do you drink coffee? (I need the ritual)\n",
      "Why do you drink coffee? (It makes me go to the bathroom)\n",
      "Why do you drink coffee? (Other)\n",
      "Other reason for drinking coffee\n",
      "Do you like the taste of coffee?\n",
      "Do you know where your coffee comes from?\n",
      "What is the most you've ever paid for a cup of coffee?\n",
      "What is the most you'd ever be willing to pay for a cup of coffee?\n",
      "Do you feel like you’re getting good value for your money when you buy coffee at a cafe?\n",
      "Approximately how much have you spent on coffee equipment in the past 5 years?\n",
      "Do you feel like you’re getting good value for your money with regards to your coffee equipment?\n",
      "Gender\n",
      "Gender (please specify)\n",
      "Marital Status\n",
      "Household Income\n",
      "Education Level\n",
      "Ethnicity/Race\n",
      "Ethnicity/Race (please specify)\n",
      "Employment Status\n",
      "Number of Children\n",
      "Political Affiliation\n"
     ]
    }
   ],
   "source": [
    "n = data.columns\n",
    "for i in n:\n",
    "    print(i)"
   ]
  },
  {
   "cell_type": "code",
   "execution_count": 59,
   "metadata": {},
   "outputs": [],
   "source": [
    "liste_colomn = \"\"\"\\\n",
    "Where do you typically drink coffee? (At home)\n",
    "Where do you typically drink coffee? (At the office)\n",
    "Where do you typically drink coffee? (On the go)\n",
    "Where do you typically drink coffee? (At a cafe)\n",
    "Where do you typically drink coffee? (None of these)\n",
    "How do you brew coffee at home? (Pour over)\n",
    "How do you brew coffee at home? (French press)\n",
    "How do you brew coffee at home? (Espresso)\n",
    "How do you brew coffee at home? (Coffee brewing machine (e.g. Mr. Coffee))\n",
    "How do you brew coffee at home? (Pod/capsule machine (e.g. Keurig/Nespresso))\n",
    "How do you brew coffee at home? (Instant coffee)\n",
    "How do you brew coffee at home? (Bean-to-cup machine)\n",
    "How do you brew coffee at home? (Cold brew)\n",
    "How do you brew coffee at home? (Coffee extract (e.g. Cometeer))\n",
    "How do you brew coffee at home? (Other)\n",
    "On the go, where do you typically purchase coffee? (National chain (e.g. Starbucks, Dunkin))\n",
    "On the go, where do you typically purchase coffee? (Local cafe)\n",
    "On the go, where do you typically purchase coffee? (Drive-thru)\n",
    "On the go, where do you typically purchase coffee? (Specialty coffee shop)\n",
    "On the go, where do you typically purchase coffee? (Deli or supermarket)\n",
    "On the go, where do you typically purchase coffee? (Other)\\\n",
    "\"\"\".split('\\n')"
   ]
  },
  {
   "cell_type": "code",
   "execution_count": 60,
   "metadata": {},
   "outputs": [],
   "source": [
    "renamed_colomn = \"\"\"\\\n",
    "drink at home\n",
    "drink at the office\n",
    "drink on the go\n",
    "drink at a cafe\n",
    "drink at other place\n",
    "brew Pour over coffe at home \n",
    "brew French press coffee at home\n",
    "brew Espresso coffee at home\n",
    "brew Coffee brewing machine (e.g. Mr. Coffee) coffee at home\n",
    "brew Pod/capsule machine (e.g. Keurig/Nespresso) coffee at home\n",
    "brew Instant coffee coffee at home\n",
    "brew Bean-to-cup machine coffee at home\n",
    "brew Cold brew coffee at home\n",
    "brew Coffee extract (e.g. Cometeer) coffee at home\n",
    "brew Other coffee at home\n",
    "On the go typically purchase coffee at National chain (e.g. Starbucks, Dunkin)\n",
    "On the go, typically purchase coffee at a Local cafe\n",
    "On the go, typically purchase coffee at a Drive-thru\n",
    "On the go, typically purchase coffee at a Specialty coffee shop\n",
    "On the go, typically purchase coffee at a Deli or supermarket\n",
    "On the go, typically purchase coffee at an Other Shop)\\\n",
    "\"\"\".split('\\n')"
   ]
  },
  {
   "cell_type": "code",
   "execution_count": 61,
   "metadata": {},
   "outputs": [],
   "source": [
    "data_to_kmean = data[liste_colomn].dropna(how=\"any\")\n",
    "data_to_kmean.rename(columns={j:renamed_colomn[i] for i,j in enumerate(liste_colomn)}, inplace=True)"
   ]
  },
  {
   "cell_type": "code",
   "execution_count": 62,
   "metadata": {},
   "outputs": [],
   "source": [
    "model = clt.KMeans(n_clusters=4, n_init=60)\n",
    "model.fit(data_to_kmean)\n",
    "model.labels_\n",
    "data_to_kmean[\"group\"] = model.labels_"
   ]
  },
  {
   "cell_type": "code",
   "execution_count": 63,
   "metadata": {},
   "outputs": [],
   "source": [
    "profils_types = data_to_kmean.groupby(\"group\").mean()"
   ]
  },
  {
   "cell_type": "code",
   "execution_count": 64,
   "metadata": {},
   "outputs": [
    {
     "ename": "KeyError",
     "evalue": "0",
     "output_type": "error",
     "traceback": [
      "\u001b[1;31m---------------------------------------------------------------------------\u001b[0m",
      "\u001b[1;31mKeyError\u001b[0m                                  Traceback (most recent call last)",
      "File \u001b[1;32mc:\\Users\\M1402\\AppData\\Local\\Programs\\Python\\Python311\\Lib\\site-packages\\pandas\\core\\indexes\\base.py:3652\u001b[0m, in \u001b[0;36mIndex.get_loc\u001b[1;34m(self, key)\u001b[0m\n\u001b[0;32m   3651\u001b[0m \u001b[38;5;28;01mtry\u001b[39;00m:\n\u001b[1;32m-> 3652\u001b[0m     \u001b[38;5;28;01mreturn\u001b[39;00m \u001b[38;5;28;43mself\u001b[39;49m\u001b[38;5;241;43m.\u001b[39;49m\u001b[43m_engine\u001b[49m\u001b[38;5;241;43m.\u001b[39;49m\u001b[43mget_loc\u001b[49m\u001b[43m(\u001b[49m\u001b[43mcasted_key\u001b[49m\u001b[43m)\u001b[49m\n\u001b[0;32m   3653\u001b[0m \u001b[38;5;28;01mexcept\u001b[39;00m \u001b[38;5;167;01mKeyError\u001b[39;00m \u001b[38;5;28;01mas\u001b[39;00m err:\n",
      "File \u001b[1;32mc:\\Users\\M1402\\AppData\\Local\\Programs\\Python\\Python311\\Lib\\site-packages\\pandas\\_libs\\index.pyx:147\u001b[0m, in \u001b[0;36mpandas._libs.index.IndexEngine.get_loc\u001b[1;34m()\u001b[0m\n",
      "File \u001b[1;32mc:\\Users\\M1402\\AppData\\Local\\Programs\\Python\\Python311\\Lib\\site-packages\\pandas\\_libs\\index.pyx:176\u001b[0m, in \u001b[0;36mpandas._libs.index.IndexEngine.get_loc\u001b[1;34m()\u001b[0m\n",
      "File \u001b[1;32mpandas\\_libs\\hashtable_class_helper.pxi:7080\u001b[0m, in \u001b[0;36mpandas._libs.hashtable.PyObjectHashTable.get_item\u001b[1;34m()\u001b[0m\n",
      "File \u001b[1;32mpandas\\_libs\\hashtable_class_helper.pxi:7088\u001b[0m, in \u001b[0;36mpandas._libs.hashtable.PyObjectHashTable.get_item\u001b[1;34m()\u001b[0m\n",
      "\u001b[1;31mKeyError\u001b[0m: 0",
      "\nThe above exception was the direct cause of the following exception:\n",
      "\u001b[1;31mKeyError\u001b[0m                                  Traceback (most recent call last)",
      "Cell \u001b[1;32mIn[64], line 1\u001b[0m\n\u001b[1;32m----> 1\u001b[0m plt\u001b[38;5;241m.\u001b[39mscatter(\u001b[43mprofils_types\u001b[49m\u001b[43m[\u001b[49m\u001b[38;5;241;43m0\u001b[39;49m\u001b[43m]\u001b[49m)\n",
      "File \u001b[1;32mc:\\Users\\M1402\\AppData\\Local\\Programs\\Python\\Python311\\Lib\\site-packages\\pandas\\core\\frame.py:3761\u001b[0m, in \u001b[0;36mDataFrame.__getitem__\u001b[1;34m(self, key)\u001b[0m\n\u001b[0;32m   3759\u001b[0m \u001b[38;5;28;01mif\u001b[39;00m \u001b[38;5;28mself\u001b[39m\u001b[38;5;241m.\u001b[39mcolumns\u001b[38;5;241m.\u001b[39mnlevels \u001b[38;5;241m>\u001b[39m \u001b[38;5;241m1\u001b[39m:\n\u001b[0;32m   3760\u001b[0m     \u001b[38;5;28;01mreturn\u001b[39;00m \u001b[38;5;28mself\u001b[39m\u001b[38;5;241m.\u001b[39m_getitem_multilevel(key)\n\u001b[1;32m-> 3761\u001b[0m indexer \u001b[38;5;241m=\u001b[39m \u001b[38;5;28;43mself\u001b[39;49m\u001b[38;5;241;43m.\u001b[39;49m\u001b[43mcolumns\u001b[49m\u001b[38;5;241;43m.\u001b[39;49m\u001b[43mget_loc\u001b[49m\u001b[43m(\u001b[49m\u001b[43mkey\u001b[49m\u001b[43m)\u001b[49m\n\u001b[0;32m   3762\u001b[0m \u001b[38;5;28;01mif\u001b[39;00m is_integer(indexer):\n\u001b[0;32m   3763\u001b[0m     indexer \u001b[38;5;241m=\u001b[39m [indexer]\n",
      "File \u001b[1;32mc:\\Users\\M1402\\AppData\\Local\\Programs\\Python\\Python311\\Lib\\site-packages\\pandas\\core\\indexes\\base.py:3654\u001b[0m, in \u001b[0;36mIndex.get_loc\u001b[1;34m(self, key)\u001b[0m\n\u001b[0;32m   3652\u001b[0m     \u001b[38;5;28;01mreturn\u001b[39;00m \u001b[38;5;28mself\u001b[39m\u001b[38;5;241m.\u001b[39m_engine\u001b[38;5;241m.\u001b[39mget_loc(casted_key)\n\u001b[0;32m   3653\u001b[0m \u001b[38;5;28;01mexcept\u001b[39;00m \u001b[38;5;167;01mKeyError\u001b[39;00m \u001b[38;5;28;01mas\u001b[39;00m err:\n\u001b[1;32m-> 3654\u001b[0m     \u001b[38;5;28;01mraise\u001b[39;00m \u001b[38;5;167;01mKeyError\u001b[39;00m(key) \u001b[38;5;28;01mfrom\u001b[39;00m \u001b[38;5;21;01merr\u001b[39;00m\n\u001b[0;32m   3655\u001b[0m \u001b[38;5;28;01mexcept\u001b[39;00m \u001b[38;5;167;01mTypeError\u001b[39;00m:\n\u001b[0;32m   3656\u001b[0m     \u001b[38;5;66;03m# If we have a listlike key, _check_indexing_error will raise\u001b[39;00m\n\u001b[0;32m   3657\u001b[0m     \u001b[38;5;66;03m#  InvalidIndexError. Otherwise we fall through and re-raise\u001b[39;00m\n\u001b[0;32m   3658\u001b[0m     \u001b[38;5;66;03m#  the TypeError.\u001b[39;00m\n\u001b[0;32m   3659\u001b[0m     \u001b[38;5;28mself\u001b[39m\u001b[38;5;241m.\u001b[39m_check_indexing_error(key)\n",
      "\u001b[1;31mKeyError\u001b[0m: 0"
     ]
    }
   ],
   "source": [
    "plt.scatter(profils_types[0])"
   ]
  }
 ],
 "metadata": {
  "kernelspec": {
   "display_name": "Python 3",
   "language": "python",
   "name": "python3"
  },
  "language_info": {
   "codemirror_mode": {
    "name": "ipython",
    "version": 3
   },
   "file_extension": ".py",
   "mimetype": "text/x-python",
   "name": "python",
   "nbconvert_exporter": "python",
   "pygments_lexer": "ipython3",
   "version": "3.11.2"
  }
 },
 "nbformat": 4,
 "nbformat_minor": 2
}
