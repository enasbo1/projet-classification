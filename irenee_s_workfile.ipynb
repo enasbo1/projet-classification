{
 "cells": [
  {
   "cell_type": "markdown",
   "metadata": {},
   "source": [
    "<h1 style=\"font-weight:bold;color:#750073;text-align:center\">TP : Classification avec le jeu de données Breast Cancer Wisconsin</h1>"
   ]
  },
  {
   "cell_type": "markdown",
   "metadata": {},
   "source": [
    "<h3 style=\"font-weight:bold;color:#000F78;text-align:left\">Objectif :</h3>\n",
    "<p>Explorer un jeu de données, effectuer une visualisation, préparer les données, construire un modèle de classification et évaluer sa performance pour diagnostiquer le cancer du sein.</p>"
   ]
  },
  {
   "cell_type": "markdown",
   "metadata": {},
   "source": [
    "<h3 style=\"font-weight:bold;color:#000F78;text-align:left\">Étapes :</h3>"
   ]
  },
  {
   "cell_type": "markdown",
   "metadata": {},
   "source": [
    "<h5 style=\"font-weight:baold;color:#AC04CD;text-align:left\">Importation des bibliothèques : Importez les bibliothèques nécessaires, y compris scikit-learn, NumPy, Pandas et Matplotlib pour la visualisation.</h5"
   ]
  },
  {
   "cell_type": "code",
   "execution_count": 46,
   "metadata": {},
   "outputs": [],
   "source": [
    "import pandas as pd \n",
    "import numpy as np\n",
    "import matplotlib.pyplot as plt\n",
    "import plotly.express as px\n",
    "import sklearn as skl\n",
    "import sklearn.cluster as clt"
   ]
  },
  {
   "cell_type": "markdown",
   "metadata": {},
   "source": [
    "<h5 style=\"font-weight:baold;color:#AC04CD;text-align:left\">Chargement des données : Chargez le jeu de données \"gactt_restult\" en utilisant la fonction read_csv de panda.</h5>"
   ]
  },
  {
   "cell_type": "code",
   "execution_count": 47,
   "metadata": {},
   "outputs": [],
   "source": [
    "data = pd.read_csv(\"archive/GACTT_RESULTS_ANONYMIZED.csv\")"
   ]
  },
  {
   "cell_type": "code",
   "execution_count": 48,
   "metadata": {},
   "outputs": [
    {
     "name": "stdout",
     "output_type": "stream",
     "text": [
      "Submission ID\n",
      "Respondent ID\n",
      "Submitted at\n",
      "What is your age?\n",
      "What is your ZIP code?\n",
      "How many cups of coffee do you typically drink per day?\n",
      "Where do you typically drink coffee?\n",
      "Where do you typically drink coffee? (At home)\n",
      "Where do you typically drink coffee? (At the office)\n",
      "Where do you typically drink coffee? (On the go)\n",
      "Where do you typically drink coffee? (At a cafe)\n",
      "Where do you typically drink coffee? (None of these)\n",
      "How do you brew coffee at home?\n",
      "How do you brew coffee at home? (Pour over)\n",
      "How do you brew coffee at home? (French press)\n",
      "How do you brew coffee at home? (Espresso)\n",
      "How do you brew coffee at home? (Coffee brewing machine (e.g. Mr. Coffee))\n",
      "How do you brew coffee at home? (Pod/capsule machine (e.g. Keurig/Nespresso))\n",
      "How do you brew coffee at home? (Instant coffee)\n",
      "How do you brew coffee at home? (Bean-to-cup machine)\n",
      "How do you brew coffee at home? (Cold brew)\n",
      "How do you brew coffee at home? (Coffee extract (e.g. Cometeer))\n",
      "How do you brew coffee at home? (Other)\n",
      "How else do you brew coffee at home?\n",
      "On the go, where do you typically purchase coffee?\n",
      "On the go, where do you typically purchase coffee? (National chain (e.g. Starbucks, Dunkin))\n",
      "On the go, where do you typically purchase coffee? (Local cafe)\n",
      "On the go, where do you typically purchase coffee? (Drive-thru)\n",
      "On the go, where do you typically purchase coffee? (Specialty coffee shop)\n",
      "On the go, where do you typically purchase coffee? (Deli or supermarket)\n",
      "On the go, where do you typically purchase coffee? (Other)\n",
      "Where else do you purchase coffee?\n",
      "What is your favorite coffee drink?\n",
      "Please specify what your favorite coffee drink is\n",
      "Do you usually add anything to your coffee?\n",
      "Do you usually add anything to your coffee? (No - just black)\n",
      "Do you usually add anything to your coffee? (Milk, dairy alternative, or coffee creamer)\n",
      "Do you usually add anything to your coffee? (Sugar or sweetener)\n",
      "Do you usually add anything to your coffee? (Flavor syrup)\n",
      "Do you usually add anything to your coffee? (Other)\n",
      "What else do you add to your coffee?\n",
      "What kind of dairy do you add?\n",
      "What kind of dairy do you add? (Whole milk)\n",
      "What kind of dairy do you add? (Skim milk)\n",
      "What kind of dairy do you add? (Half and half)\n",
      "What kind of dairy do you add? (Coffee creamer)\n",
      "What kind of dairy do you add? (Flavored coffee creamer)\n",
      "What kind of dairy do you add? (Oat milk)\n",
      "What kind of dairy do you add? (Almond milk)\n",
      "What kind of dairy do you add? (Soy milk)\n",
      "What kind of dairy do you add? (Other)\n",
      "What kind of sugar or sweetener do you add?\n",
      "What kind of sugar or sweetener do you add? (Granulated Sugar)\n",
      "What kind of sugar or sweetener do you add? (Artificial Sweeteners (e.g., Splenda))\n",
      "What kind of sugar or sweetener do you add? (Honey)\n",
      "What kind of sugar or sweetener do you add? (Maple Syrup)\n",
      "What kind of sugar or sweetener do you add? (Stevia)\n",
      "What kind of sugar or sweetener do you add? (Agave Nectar)\n",
      "What kind of sugar or sweetener do you add? (Brown Sugar)\n",
      "What kind of sugar or sweetener do you add? (Raw Sugar (Turbinado))\n",
      "What kind of flavorings do you add?\n",
      "What kind of flavorings do you add? (Vanilla Syrup)\n",
      "What kind of flavorings do you add? (Caramel Syrup)\n",
      "What kind of flavorings do you add? (Hazelnut Syrup)\n",
      "What kind of flavorings do you add? (Cinnamon (Ground or Stick))\n",
      "What kind of flavorings do you add? (Peppermint Syrup)\n",
      "What kind of flavorings do you add? (Other)\n",
      "What other flavoring do you use?\n",
      "Before today's tasting, which of the following best described what kind of coffee you like?\n",
      "How strong do you like your coffee?\n",
      "What roast level of coffee do you prefer?\n",
      "How much caffeine do you like in your coffee?\n",
      "Lastly, how would you rate your own coffee expertise?\n",
      "Coffee A - Bitterness\n",
      "Coffee A - Acidity\n",
      "Coffee A - Personal Preference\n",
      "Coffee A - Notes\n",
      "Coffee B - Bitterness\n",
      "Coffee B - Acidity\n",
      "Coffee B - Personal Preference\n",
      "Coffee B - Notes\n",
      "Coffee C - Bitterness\n",
      "Coffee C - Acidity\n",
      "Coffee C - Personal Preference\n",
      "Coffee C - Notes\n",
      "Coffee D - Bitterness\n",
      "Coffee D - Acidity\n",
      "Coffee D - Personal Preference\n",
      "Coffee D - Notes\n",
      "Between Coffee A, Coffee B, and Coffee C which did you prefer?\n",
      "Between Coffee A and Coffee D, which did you prefer?\n",
      "Lastly, what was your favorite overall coffee?\n",
      "Do you work from home or in person?\n",
      "In total, much money do you typically spend on coffee in a month?\n",
      "Why do you drink coffee?\n",
      "Why do you drink coffee? (It tastes good)\n",
      "Why do you drink coffee? (I need the caffeine)\n",
      "Why do you drink coffee? (I need the ritual)\n",
      "Why do you drink coffee? (It makes me go to the bathroom)\n",
      "Why do you drink coffee? (Other)\n",
      "Other reason for drinking coffee\n",
      "Do you like the taste of coffee?\n",
      "Do you know where your coffee comes from?\n",
      "What is the most you've ever paid for a cup of coffee?\n",
      "What is the most you'd ever be willing to pay for a cup of coffee?\n",
      "Do you feel like you’re getting good value for your money when you buy coffee at a cafe?\n",
      "Approximately how much have you spent on coffee equipment in the past 5 years?\n",
      "Do you feel like you’re getting good value for your money with regards to your coffee equipment?\n",
      "Gender\n",
      "Gender (please specify)\n",
      "Marital Status\n",
      "Household Income\n",
      "Education Level\n",
      "Ethnicity/Race\n",
      "Ethnicity/Race (please specify)\n",
      "Employment Status\n",
      "Number of Children\n",
      "Political Affiliation\n"
     ]
    }
   ],
   "source": [
    "n = data.columns\n",
    "for i in n:\n",
    "    print(i)"
   ]
  },
  {
   "cell_type": "code",
   "execution_count": 49,
   "metadata": {},
   "outputs": [],
   "source": [
    "liste_colomn = \"\"\"\\\n",
    "Where do you typically drink coffee? (At home)\n",
    "Where do you typically drink coffee? (At the office)\n",
    "Where do you typically drink coffee? (On the go)\n",
    "Where do you typically drink coffee? (At a cafe)\n",
    "Where do you typically drink coffee? (None of these)\n",
    "On the go, where do you typically purchase coffee? (National chain (e.g. Starbucks, Dunkin))\n",
    "On the go, where do you typically purchase coffee? (Local cafe)\n",
    "On the go, where do you typically purchase coffee? (Drive-thru)\n",
    "On the go, where do you typically purchase coffee? (Specialty coffee shop)\n",
    "On the go, where do you typically purchase coffee? (Deli or supermarket)\n",
    "On the go, where do you typically purchase coffee? (Other)\\\n",
    "\"\"\".split('\\n')"
   ]
  },
  {
   "cell_type": "code",
   "execution_count": 50,
   "metadata": {},
   "outputs": [],
   "source": [
    "renamed_colomn = \"\"\"\\\n",
    "drink at home\n",
    "drink at the office\n",
    "drink on the go\n",
    "drink at a cafe\n",
    "drink at other place\n",
    "OtG, purchase coffee at National chain (e.g. Starbucks, Dunkin)\n",
    "OtG, purchase coffee at a Local cafe\n",
    "OtG, purchase coffee at a Drive-thru\n",
    "OtG, purchase coffee at a Specialty coffee shop\n",
    "OtG, purchase coffee at a Deli or supermarket\n",
    "OtG, purchase coffee at an Other Shop)\\\n",
    "\"\"\".split('\\n')"
   ]
  },
  {
   "cell_type": "code",
   "execution_count": 51,
   "metadata": {},
   "outputs": [],
   "source": [
    "data_to_kmean = data[liste_colomn].dropna(how=\"any\")\n",
    "data_to_kmean.rename(columns={j:renamed_colomn[i] for i,j in enumerate(liste_colomn)}, inplace=True)"
   ]
  },
  {
   "cell_type": "code",
   "execution_count": 52,
   "metadata": {},
   "outputs": [],
   "source": [
    "model = clt.KMeans(n_clusters=3, n_init=60)\n",
    "model.fit(data_to_kmean)\n",
    "model.labels_\n",
    "data_to_kmean[\"group\"] = model.labels_"
   ]
  },
  {
   "cell_type": "code",
   "execution_count": 53,
   "metadata": {},
   "outputs": [
    {
     "data": {
      "text/html": [
       "<div>\n",
       "<style scoped>\n",
       "    .dataframe tbody tr th:only-of-type {\n",
       "        vertical-align: middle;\n",
       "    }\n",
       "\n",
       "    .dataframe tbody tr th {\n",
       "        vertical-align: top;\n",
       "    }\n",
       "\n",
       "    .dataframe thead th {\n",
       "        text-align: right;\n",
       "    }\n",
       "</style>\n",
       "<table border=\"1\" class=\"dataframe\">\n",
       "  <thead>\n",
       "    <tr style=\"text-align: right;\">\n",
       "      <th></th>\n",
       "      <th>drink at home</th>\n",
       "      <th>drink at the office</th>\n",
       "      <th>drink on the go</th>\n",
       "      <th>drink at a cafe</th>\n",
       "      <th>drink at other place</th>\n",
       "      <th>OtG, purchase coffee at National chain (e.g. Starbucks, Dunkin)</th>\n",
       "      <th>OtG, purchase coffee at a Local cafe</th>\n",
       "      <th>OtG, purchase coffee at a Drive-thru</th>\n",
       "      <th>OtG, purchase coffee at a Specialty coffee shop</th>\n",
       "      <th>OtG, purchase coffee at a Deli or supermarket</th>\n",
       "      <th>OtG, purchase coffee at an Other Shop)</th>\n",
       "    </tr>\n",
       "    <tr>\n",
       "      <th>group</th>\n",
       "      <th></th>\n",
       "      <th></th>\n",
       "      <th></th>\n",
       "      <th></th>\n",
       "      <th></th>\n",
       "      <th></th>\n",
       "      <th></th>\n",
       "      <th></th>\n",
       "      <th></th>\n",
       "      <th></th>\n",
       "      <th></th>\n",
       "    </tr>\n",
       "  </thead>\n",
       "  <tbody>\n",
       "    <tr>\n",
       "      <th>0</th>\n",
       "      <td>0.267155</td>\n",
       "      <td>0.500964</td>\n",
       "      <td>0.186513</td>\n",
       "      <td>0.497788</td>\n",
       "      <td>0.0</td>\n",
       "      <td>0.464835</td>\n",
       "      <td>0.000000</td>\n",
       "      <td>0.240934</td>\n",
       "      <td>0.198860</td>\n",
       "      <td>0.198860</td>\n",
       "      <td>0.158469</td>\n",
       "    </tr>\n",
       "    <tr>\n",
       "      <th>1</th>\n",
       "      <td>0.201390</td>\n",
       "      <td>0.480895</td>\n",
       "      <td>0.056980</td>\n",
       "      <td>0.408710</td>\n",
       "      <td>0.0</td>\n",
       "      <td>0.498740</td>\n",
       "      <td>0.000000</td>\n",
       "      <td>0.350497</td>\n",
       "      <td>0.391597</td>\n",
       "      <td>0.263295</td>\n",
       "      <td>0.193817</td>\n",
       "    </tr>\n",
       "    <tr>\n",
       "      <th>2</th>\n",
       "      <td>0.387955</td>\n",
       "      <td>0.500116</td>\n",
       "      <td>0.209688</td>\n",
       "      <td>0.268760</td>\n",
       "      <td>0.0</td>\n",
       "      <td>0.494270</td>\n",
       "      <td>0.486685</td>\n",
       "      <td>0.384150</td>\n",
       "      <td>0.000000</td>\n",
       "      <td>0.275863</td>\n",
       "      <td>0.268760</td>\n",
       "    </tr>\n",
       "  </tbody>\n",
       "</table>\n",
       "</div>"
      ],
      "text/plain": [
       "       drink at home  drink at the office  drink on the go  drink at a cafe  \\\n",
       "group                                                                         \n",
       "0           0.267155             0.500964         0.186513         0.497788   \n",
       "1           0.201390             0.480895         0.056980         0.408710   \n",
       "2           0.387955             0.500116         0.209688         0.268760   \n",
       "\n",
       "       drink at other place  \\\n",
       "group                         \n",
       "0                       0.0   \n",
       "1                       0.0   \n",
       "2                       0.0   \n",
       "\n",
       "       OtG, purchase coffee at National chain (e.g. Starbucks, Dunkin)  \\\n",
       "group                                                                    \n",
       "0                                               0.464835                 \n",
       "1                                               0.498740                 \n",
       "2                                               0.494270                 \n",
       "\n",
       "       OtG, purchase coffee at a Local cafe  \\\n",
       "group                                         \n",
       "0                                  0.000000   \n",
       "1                                  0.000000   \n",
       "2                                  0.486685   \n",
       "\n",
       "       OtG, purchase coffee at a Drive-thru  \\\n",
       "group                                         \n",
       "0                                  0.240934   \n",
       "1                                  0.350497   \n",
       "2                                  0.384150   \n",
       "\n",
       "       OtG, purchase coffee at a Specialty coffee shop  \\\n",
       "group                                                    \n",
       "0                                             0.198860   \n",
       "1                                             0.391597   \n",
       "2                                             0.000000   \n",
       "\n",
       "       OtG, purchase coffee at a Deli or supermarket  \\\n",
       "group                                                  \n",
       "0                                           0.198860   \n",
       "1                                           0.263295   \n",
       "2                                           0.275863   \n",
       "\n",
       "       OtG, purchase coffee at an Other Shop)  \n",
       "group                                          \n",
       "0                                    0.158469  \n",
       "1                                    0.193817  \n",
       "2                                    0.268760  "
      ]
     },
     "execution_count": 53,
     "metadata": {},
     "output_type": "execute_result"
    }
   ],
   "source": [
    "profils_types = data_to_kmean.groupby(\"group\").mean()\n",
    "accuracy = data_to_kmean.groupby(\"group\").std()\n",
    "accuracy"
   ]
  },
  {
   "cell_type": "code",
   "execution_count": 54,
   "metadata": {},
   "outputs": [
    {
     "data": {
      "text/plain": [
       "array([[0.9230769230769231, 0.517948717948718, 0.9641025641025641,\n",
       "        0.441025641025641, 0.0, 0.3128205128205128, 0.0,\n",
       "        0.06153846153846154, 0.958974358974359, 0.041025641025641026,\n",
       "        0.02564102564102564],\n",
       "       [0.9577922077922078, 0.6396103896103896, 0.9967532467532467,\n",
       "        0.788961038961039, 0.0, 0.45454545454545453, 1.0,\n",
       "        0.14285714285714285, 0.8116883116883117, 0.07467532467532467,\n",
       "        0.03896103896103896],\n",
       "       [0.8165137614678899, 0.46788990825688076, 0.9541284403669725,\n",
       "        0.0779816513761468, 0.0, 0.5825688073394495, 0.38073394495412843,\n",
       "        0.17889908256880735, 0.0, 0.08256880733944955,\n",
       "        0.0779816513761468]], dtype=object)"
      ]
     },
     "execution_count": 54,
     "metadata": {},
     "output_type": "execute_result"
    }
   ],
   "source": [
    "profils_types.values"
   ]
  },
  {
   "cell_type": "code",
   "execution_count": 55,
   "metadata": {},
   "outputs": [
    {
     "data": {
      "text/plain": [
       "group\n",
       "0    0.246762\n",
       "1    0.258720\n",
       "2    0.297841\n",
       "dtype: float64"
      ]
     },
     "execution_count": 55,
     "metadata": {},
     "output_type": "execute_result"
    }
   ],
   "source": [
    "accuracy.mean(axis = 1)"
   ]
  },
  {
   "cell_type": "code",
   "execution_count": 56,
   "metadata": {},
   "outputs": [
    {
     "data": {
      "application/vnd.plotly.v1+json": {
       "config": {
        "plotlyServerURL": "https://plot.ly"
       },
       "data": [
        {
         "alignmentgroup": "True",
         "hovertemplate": "<extra></extra>",
         "legendgroup": "",
         "marker": {
          "color": "#636efa",
          "pattern": {
           "shape": ""
          }
         },
         "name": "",
         "offsetgroup": "",
         "orientation": "v",
         "showlegend": false,
         "textposition": "auto",
         "type": "bar",
         "xaxis": "x",
         "yaxis": "y"
        },
        {
         "hovertext": [
          "accuracy : 73%",
          "accuracy : 49%",
          "accuracy : 81%",
          "accuracy : 50%",
          "accuracy : 100%",
          "accuracy : 53%",
          "accuracy : 100%",
          "accuracy : 75%",
          "accuracy : 80%",
          "accuracy : 80%",
          "accuracy : 84%"
         ],
         "name": "0",
         "type": "bar",
         "x": [
          "drink at home",
          "drink at the office",
          "drink on the go",
          "drink at a cafe",
          "drink at other place",
          "OtG, purchase coffee at National chain (e.g. Starbucks, Dunkin)",
          "OtG, purchase coffee at a Local cafe",
          "OtG, purchase coffee at a Drive-thru",
          "OtG, purchase coffee at a Specialty coffee shop",
          "OtG, purchase coffee at a Deli or supermarket",
          "OtG, purchase coffee at an Other Shop)"
         ],
         "y": [
          92.3076923076923,
          51.7948717948718,
          96.41025641025641,
          44.1025641025641,
          0,
          31.28205128205128,
          0,
          6.153846153846154,
          95.8974358974359,
          4.102564102564102,
          2.564102564102564
         ]
        },
        {
         "hovertext": [
          "accuracy : 79%",
          "accuracy : 51%",
          "accuracy : 94%",
          "accuracy : 59%",
          "accuracy : 100%",
          "accuracy : 50%",
          "accuracy : 100%",
          "accuracy : 64%",
          "accuracy : 60%",
          "accuracy : 73%",
          "accuracy : 80%"
         ],
         "name": "1",
         "type": "bar",
         "x": [
          "drink at home",
          "drink at the office",
          "drink on the go",
          "drink at a cafe",
          "drink at other place",
          "OtG, purchase coffee at National chain (e.g. Starbucks, Dunkin)",
          "OtG, purchase coffee at a Local cafe",
          "OtG, purchase coffee at a Drive-thru",
          "OtG, purchase coffee at a Specialty coffee shop",
          "OtG, purchase coffee at a Deli or supermarket",
          "OtG, purchase coffee at an Other Shop)"
         ],
         "y": [
          95.77922077922078,
          63.961038961038966,
          99.67532467532467,
          78.8961038961039,
          0,
          45.45454545454545,
          100,
          14.285714285714285,
          81.16883116883116,
          7.467532467532467,
          3.896103896103896
         ]
        },
        {
         "hovertext": [
          "accuracy : 61%",
          "accuracy : 49%",
          "accuracy : 79%",
          "accuracy : 73%",
          "accuracy : 100%",
          "accuracy : 50%",
          "accuracy : 51%",
          "accuracy : 61%",
          "accuracy : 100%",
          "accuracy : 72%",
          "accuracy : 73%"
         ],
         "name": "2",
         "type": "bar",
         "x": [
          "drink at home",
          "drink at the office",
          "drink on the go",
          "drink at a cafe",
          "drink at other place",
          "OtG, purchase coffee at National chain (e.g. Starbucks, Dunkin)",
          "OtG, purchase coffee at a Local cafe",
          "OtG, purchase coffee at a Drive-thru",
          "OtG, purchase coffee at a Specialty coffee shop",
          "OtG, purchase coffee at a Deli or supermarket",
          "OtG, purchase coffee at an Other Shop)"
         ],
         "y": [
          81.65137614678899,
          46.788990825688074,
          95.41284403669725,
          7.79816513761468,
          0,
          58.256880733944946,
          38.07339449541284,
          17.889908256880734,
          0,
          8.256880733944955,
          7.79816513761468
         ]
        }
       ],
       "layout": {
        "barmode": "group",
        "legend": {
         "tracegroupgap": 0
        },
        "template": {
         "data": {
          "bar": [
           {
            "error_x": {
             "color": "#2a3f5f"
            },
            "error_y": {
             "color": "#2a3f5f"
            },
            "marker": {
             "line": {
              "color": "#E5ECF6",
              "width": 0.5
             },
             "pattern": {
              "fillmode": "overlay",
              "size": 10,
              "solidity": 0.2
             }
            },
            "type": "bar"
           }
          ],
          "barpolar": [
           {
            "marker": {
             "line": {
              "color": "#E5ECF6",
              "width": 0.5
             },
             "pattern": {
              "fillmode": "overlay",
              "size": 10,
              "solidity": 0.2
             }
            },
            "type": "barpolar"
           }
          ],
          "carpet": [
           {
            "aaxis": {
             "endlinecolor": "#2a3f5f",
             "gridcolor": "white",
             "linecolor": "white",
             "minorgridcolor": "white",
             "startlinecolor": "#2a3f5f"
            },
            "baxis": {
             "endlinecolor": "#2a3f5f",
             "gridcolor": "white",
             "linecolor": "white",
             "minorgridcolor": "white",
             "startlinecolor": "#2a3f5f"
            },
            "type": "carpet"
           }
          ],
          "choropleth": [
           {
            "colorbar": {
             "outlinewidth": 0,
             "ticks": ""
            },
            "type": "choropleth"
           }
          ],
          "contour": [
           {
            "colorbar": {
             "outlinewidth": 0,
             "ticks": ""
            },
            "colorscale": [
             [
              0,
              "#0d0887"
             ],
             [
              0.1111111111111111,
              "#46039f"
             ],
             [
              0.2222222222222222,
              "#7201a8"
             ],
             [
              0.3333333333333333,
              "#9c179e"
             ],
             [
              0.4444444444444444,
              "#bd3786"
             ],
             [
              0.5555555555555556,
              "#d8576b"
             ],
             [
              0.6666666666666666,
              "#ed7953"
             ],
             [
              0.7777777777777778,
              "#fb9f3a"
             ],
             [
              0.8888888888888888,
              "#fdca26"
             ],
             [
              1,
              "#f0f921"
             ]
            ],
            "type": "contour"
           }
          ],
          "contourcarpet": [
           {
            "colorbar": {
             "outlinewidth": 0,
             "ticks": ""
            },
            "type": "contourcarpet"
           }
          ],
          "heatmap": [
           {
            "colorbar": {
             "outlinewidth": 0,
             "ticks": ""
            },
            "colorscale": [
             [
              0,
              "#0d0887"
             ],
             [
              0.1111111111111111,
              "#46039f"
             ],
             [
              0.2222222222222222,
              "#7201a8"
             ],
             [
              0.3333333333333333,
              "#9c179e"
             ],
             [
              0.4444444444444444,
              "#bd3786"
             ],
             [
              0.5555555555555556,
              "#d8576b"
             ],
             [
              0.6666666666666666,
              "#ed7953"
             ],
             [
              0.7777777777777778,
              "#fb9f3a"
             ],
             [
              0.8888888888888888,
              "#fdca26"
             ],
             [
              1,
              "#f0f921"
             ]
            ],
            "type": "heatmap"
           }
          ],
          "heatmapgl": [
           {
            "colorbar": {
             "outlinewidth": 0,
             "ticks": ""
            },
            "colorscale": [
             [
              0,
              "#0d0887"
             ],
             [
              0.1111111111111111,
              "#46039f"
             ],
             [
              0.2222222222222222,
              "#7201a8"
             ],
             [
              0.3333333333333333,
              "#9c179e"
             ],
             [
              0.4444444444444444,
              "#bd3786"
             ],
             [
              0.5555555555555556,
              "#d8576b"
             ],
             [
              0.6666666666666666,
              "#ed7953"
             ],
             [
              0.7777777777777778,
              "#fb9f3a"
             ],
             [
              0.8888888888888888,
              "#fdca26"
             ],
             [
              1,
              "#f0f921"
             ]
            ],
            "type": "heatmapgl"
           }
          ],
          "histogram": [
           {
            "marker": {
             "pattern": {
              "fillmode": "overlay",
              "size": 10,
              "solidity": 0.2
             }
            },
            "type": "histogram"
           }
          ],
          "histogram2d": [
           {
            "colorbar": {
             "outlinewidth": 0,
             "ticks": ""
            },
            "colorscale": [
             [
              0,
              "#0d0887"
             ],
             [
              0.1111111111111111,
              "#46039f"
             ],
             [
              0.2222222222222222,
              "#7201a8"
             ],
             [
              0.3333333333333333,
              "#9c179e"
             ],
             [
              0.4444444444444444,
              "#bd3786"
             ],
             [
              0.5555555555555556,
              "#d8576b"
             ],
             [
              0.6666666666666666,
              "#ed7953"
             ],
             [
              0.7777777777777778,
              "#fb9f3a"
             ],
             [
              0.8888888888888888,
              "#fdca26"
             ],
             [
              1,
              "#f0f921"
             ]
            ],
            "type": "histogram2d"
           }
          ],
          "histogram2dcontour": [
           {
            "colorbar": {
             "outlinewidth": 0,
             "ticks": ""
            },
            "colorscale": [
             [
              0,
              "#0d0887"
             ],
             [
              0.1111111111111111,
              "#46039f"
             ],
             [
              0.2222222222222222,
              "#7201a8"
             ],
             [
              0.3333333333333333,
              "#9c179e"
             ],
             [
              0.4444444444444444,
              "#bd3786"
             ],
             [
              0.5555555555555556,
              "#d8576b"
             ],
             [
              0.6666666666666666,
              "#ed7953"
             ],
             [
              0.7777777777777778,
              "#fb9f3a"
             ],
             [
              0.8888888888888888,
              "#fdca26"
             ],
             [
              1,
              "#f0f921"
             ]
            ],
            "type": "histogram2dcontour"
           }
          ],
          "mesh3d": [
           {
            "colorbar": {
             "outlinewidth": 0,
             "ticks": ""
            },
            "type": "mesh3d"
           }
          ],
          "parcoords": [
           {
            "line": {
             "colorbar": {
              "outlinewidth": 0,
              "ticks": ""
             }
            },
            "type": "parcoords"
           }
          ],
          "pie": [
           {
            "automargin": true,
            "type": "pie"
           }
          ],
          "scatter": [
           {
            "fillpattern": {
             "fillmode": "overlay",
             "size": 10,
             "solidity": 0.2
            },
            "type": "scatter"
           }
          ],
          "scatter3d": [
           {
            "line": {
             "colorbar": {
              "outlinewidth": 0,
              "ticks": ""
             }
            },
            "marker": {
             "colorbar": {
              "outlinewidth": 0,
              "ticks": ""
             }
            },
            "type": "scatter3d"
           }
          ],
          "scattercarpet": [
           {
            "marker": {
             "colorbar": {
              "outlinewidth": 0,
              "ticks": ""
             }
            },
            "type": "scattercarpet"
           }
          ],
          "scattergeo": [
           {
            "marker": {
             "colorbar": {
              "outlinewidth": 0,
              "ticks": ""
             }
            },
            "type": "scattergeo"
           }
          ],
          "scattergl": [
           {
            "marker": {
             "colorbar": {
              "outlinewidth": 0,
              "ticks": ""
             }
            },
            "type": "scattergl"
           }
          ],
          "scattermapbox": [
           {
            "marker": {
             "colorbar": {
              "outlinewidth": 0,
              "ticks": ""
             }
            },
            "type": "scattermapbox"
           }
          ],
          "scatterpolar": [
           {
            "marker": {
             "colorbar": {
              "outlinewidth": 0,
              "ticks": ""
             }
            },
            "type": "scatterpolar"
           }
          ],
          "scatterpolargl": [
           {
            "marker": {
             "colorbar": {
              "outlinewidth": 0,
              "ticks": ""
             }
            },
            "type": "scatterpolargl"
           }
          ],
          "scatterternary": [
           {
            "marker": {
             "colorbar": {
              "outlinewidth": 0,
              "ticks": ""
             }
            },
            "type": "scatterternary"
           }
          ],
          "surface": [
           {
            "colorbar": {
             "outlinewidth": 0,
             "ticks": ""
            },
            "colorscale": [
             [
              0,
              "#0d0887"
             ],
             [
              0.1111111111111111,
              "#46039f"
             ],
             [
              0.2222222222222222,
              "#7201a8"
             ],
             [
              0.3333333333333333,
              "#9c179e"
             ],
             [
              0.4444444444444444,
              "#bd3786"
             ],
             [
              0.5555555555555556,
              "#d8576b"
             ],
             [
              0.6666666666666666,
              "#ed7953"
             ],
             [
              0.7777777777777778,
              "#fb9f3a"
             ],
             [
              0.8888888888888888,
              "#fdca26"
             ],
             [
              1,
              "#f0f921"
             ]
            ],
            "type": "surface"
           }
          ],
          "table": [
           {
            "cells": {
             "fill": {
              "color": "#EBF0F8"
             },
             "line": {
              "color": "white"
             }
            },
            "header": {
             "fill": {
              "color": "#C8D4E3"
             },
             "line": {
              "color": "white"
             }
            },
            "type": "table"
           }
          ]
         },
         "layout": {
          "annotationdefaults": {
           "arrowcolor": "#2a3f5f",
           "arrowhead": 0,
           "arrowwidth": 1
          },
          "autotypenumbers": "strict",
          "coloraxis": {
           "colorbar": {
            "outlinewidth": 0,
            "ticks": ""
           }
          },
          "colorscale": {
           "diverging": [
            [
             0,
             "#8e0152"
            ],
            [
             0.1,
             "#c51b7d"
            ],
            [
             0.2,
             "#de77ae"
            ],
            [
             0.3,
             "#f1b6da"
            ],
            [
             0.4,
             "#fde0ef"
            ],
            [
             0.5,
             "#f7f7f7"
            ],
            [
             0.6,
             "#e6f5d0"
            ],
            [
             0.7,
             "#b8e186"
            ],
            [
             0.8,
             "#7fbc41"
            ],
            [
             0.9,
             "#4d9221"
            ],
            [
             1,
             "#276419"
            ]
           ],
           "sequential": [
            [
             0,
             "#0d0887"
            ],
            [
             0.1111111111111111,
             "#46039f"
            ],
            [
             0.2222222222222222,
             "#7201a8"
            ],
            [
             0.3333333333333333,
             "#9c179e"
            ],
            [
             0.4444444444444444,
             "#bd3786"
            ],
            [
             0.5555555555555556,
             "#d8576b"
            ],
            [
             0.6666666666666666,
             "#ed7953"
            ],
            [
             0.7777777777777778,
             "#fb9f3a"
            ],
            [
             0.8888888888888888,
             "#fdca26"
            ],
            [
             1,
             "#f0f921"
            ]
           ],
           "sequentialminus": [
            [
             0,
             "#0d0887"
            ],
            [
             0.1111111111111111,
             "#46039f"
            ],
            [
             0.2222222222222222,
             "#7201a8"
            ],
            [
             0.3333333333333333,
             "#9c179e"
            ],
            [
             0.4444444444444444,
             "#bd3786"
            ],
            [
             0.5555555555555556,
             "#d8576b"
            ],
            [
             0.6666666666666666,
             "#ed7953"
            ],
            [
             0.7777777777777778,
             "#fb9f3a"
            ],
            [
             0.8888888888888888,
             "#fdca26"
            ],
            [
             1,
             "#f0f921"
            ]
           ]
          },
          "colorway": [
           "#636efa",
           "#EF553B",
           "#00cc96",
           "#ab63fa",
           "#FFA15A",
           "#19d3f3",
           "#FF6692",
           "#B6E880",
           "#FF97FF",
           "#FECB52"
          ],
          "font": {
           "color": "#2a3f5f"
          },
          "geo": {
           "bgcolor": "white",
           "lakecolor": "white",
           "landcolor": "#E5ECF6",
           "showlakes": true,
           "showland": true,
           "subunitcolor": "white"
          },
          "hoverlabel": {
           "align": "left"
          },
          "hovermode": "closest",
          "mapbox": {
           "style": "light"
          },
          "paper_bgcolor": "white",
          "plot_bgcolor": "#E5ECF6",
          "polar": {
           "angularaxis": {
            "gridcolor": "white",
            "linecolor": "white",
            "ticks": ""
           },
           "bgcolor": "#E5ECF6",
           "radialaxis": {
            "gridcolor": "white",
            "linecolor": "white",
            "ticks": ""
           }
          },
          "scene": {
           "xaxis": {
            "backgroundcolor": "#E5ECF6",
            "gridcolor": "white",
            "gridwidth": 2,
            "linecolor": "white",
            "showbackground": true,
            "ticks": "",
            "zerolinecolor": "white"
           },
           "yaxis": {
            "backgroundcolor": "#E5ECF6",
            "gridcolor": "white",
            "gridwidth": 2,
            "linecolor": "white",
            "showbackground": true,
            "ticks": "",
            "zerolinecolor": "white"
           },
           "zaxis": {
            "backgroundcolor": "#E5ECF6",
            "gridcolor": "white",
            "gridwidth": 2,
            "linecolor": "white",
            "showbackground": true,
            "ticks": "",
            "zerolinecolor": "white"
           }
          },
          "shapedefaults": {
           "line": {
            "color": "#2a3f5f"
           }
          },
          "ternary": {
           "aaxis": {
            "gridcolor": "white",
            "linecolor": "white",
            "ticks": ""
           },
           "baxis": {
            "gridcolor": "white",
            "linecolor": "white",
            "ticks": ""
           },
           "bgcolor": "#E5ECF6",
           "caxis": {
            "gridcolor": "white",
            "linecolor": "white",
            "ticks": ""
           }
          },
          "title": {
           "x": 0.05
          },
          "xaxis": {
           "automargin": true,
           "gridcolor": "white",
           "linecolor": "white",
           "ticks": "",
           "title": {
            "standoff": 15
           },
           "zerolinecolor": "white",
           "zerolinewidth": 2
          },
          "yaxis": {
           "automargin": true,
           "gridcolor": "white",
           "linecolor": "white",
           "ticks": "",
           "title": {
            "standoff": 15
           },
           "zerolinecolor": "white",
           "zerolinewidth": 2
          }
         }
        },
        "title": {
         "text": "profils type renvoyé pas le model ZMean"
        },
        "xaxis": {
         "anchor": "y",
         "domain": [
          0,
          1
         ]
        },
        "yaxis": {
         "anchor": "x",
         "domain": [
          0,
          1
         ]
        }
       }
      }
     },
     "metadata": {},
     "output_type": "display_data"
    }
   ],
   "source": [
    "fig = px.bar(title=\"profils type renvoyé pas le model ZMean\", barmode='group')\n",
    "values = profils_types.values\n",
    "accuracy_values = accuracy.values\n",
    "for i,j in enumerate(accuracy_values):\n",
    "    j = [ \"accuracy : \"+ str(int((1-x)*100))+'%' for x in j]\n",
    "    fig.add_bar(\n",
    "        x = profils_types.columns,\n",
    "        y = values[i]*100,\n",
    "        hovertext= j,\n",
    "        name = str(i),\n",
    "    )\n",
    "fig.show()\n"
   ]
  }
 ],
 "metadata": {
  "kernelspec": {
   "display_name": "Python 3",
   "language": "python",
   "name": "python3"
  },
  "language_info": {
   "codemirror_mode": {
    "name": "ipython",
    "version": 3
   },
   "file_extension": ".py",
   "mimetype": "text/x-python",
   "name": "python",
   "nbconvert_exporter": "python",
   "pygments_lexer": "ipython3",
   "version": "3.11.2"
  }
 },
 "nbformat": 4,
 "nbformat_minor": 2
}
