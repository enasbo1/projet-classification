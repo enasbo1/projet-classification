{
 "cells": [
  {
   "cell_type": "markdown",
   "metadata": {},
   "source": [
    "<h1 style=\"font-weight:bold;color:#750073;text-align:center\">TP : Classification avec le jeu de données Breast Cancer Wisconsin</h1>"
   ]
  },
  {
   "cell_type": "markdown",
   "metadata": {},
   "source": [
    "<h3 style=\"font-weight:bold;color:#000F78;text-align:left\">Objectif :</h3>\n",
    "<p>Explorer un jeu de données, effectuer une visualisation, préparer les données, construire un modèle de classification et évaluer sa performance pour diagnostiquer le cancer du sein.</p>"
   ]
  },
  {
   "cell_type": "markdown",
   "metadata": {},
   "source": [
    "<h3 style=\"font-weight:bold;color:#000F78;text-align:left\">Étapes :</h3>"
   ]
  },
  {
   "cell_type": "markdown",
   "metadata": {},
   "source": [
    "<h5 style=\"font-weight:baold;color:#AC04CD;text-align:left\">Importation des bibliothèques : Importez les bibliothèques nécessaires, y compris scikit-learn, NumPy, Pandas et Matplotlib pour la visualisation.</h5"
   ]
  },
  {
   "cell_type": "code",
   "execution_count": 2,
   "metadata": {},
   "outputs": [],
   "source": [
    "import pandas as pd \n",
    "import numpy as np\n",
    "import plotly as pl\n",
    "import sklearn as skl"
   ]
  },
  {
   "cell_type": "markdown",
   "metadata": {},
   "source": [
    "<h5 style=\"font-weight:baold;color:#AC04CD;text-align:left\">Chargement des données : Chargez le jeu de données \"gactt_restult\" en utilisant la fonction read_csv de panda.</h5>"
   ]
  },
  {
   "cell_type": "code",
   "execution_count": 4,
   "metadata": {},
   "outputs": [],
   "source": [
    "data = pd.read_csv(\"archive/GACTT_RESULTS_ANONYMIZED.csv\")"
   ]
  },
  {
   "cell_type": "markdown",
   "metadata": {},
   "source": [
    "<h5 style=\"font-weight:baold;color:#AC04CD;text-align:left\">Exploration des données : Explorez le jeu de données en répondant aux questions suivantes :</h5>\n",
    "<ul>\n",
    "    <li>a. Combien de caractéristiques (variables indépendantes) sont incluses dans le jeu de données ?</li>\n",
    "    <li>b. Quelle est la variable cible (variable dépendante) que nous essayons de prédire ?</li>\n",
    "    <li>c. Affichez les cinq premières lignes du jeu de données pour voir à quoi ressemblent les données.</li>\n",
    "</ul>"
   ]
  },
  {
   "cell_type": "code",
   "execution_count": null,
   "metadata": {},
   "outputs": [],
   "source": []
  },
  {
   "cell_type": "markdown",
   "metadata": {},
   "source": [
    "<h5 style=\"font-weight:baold;color:#AC04CD;text-align:left\">Statistiques descriptives : Calculez des statistiques descriptives pour mieux comprendre les caractéristiques du jeu de données.</h5>"
   ]
  },
  {
   "cell_type": "code",
   "execution_count": null,
   "metadata": {},
   "outputs": [],
   "source": []
  },
  {
   "cell_type": "markdown",
   "metadata": {},
   "source": [
    "<h5 style=\"font-weight:baold;color:#AC04CD;text-align:left\">Visualisation des données : Créez des graphiques pour visualiser les données, y compris des diagrammes en barres pour montrer la distribution des classes (cancer bénin vs. cancer malin).</h5>"
   ]
  },
  {
   "cell_type": "code",
   "execution_count": null,
   "metadata": {},
   "outputs": [],
   "source": []
  },
  {
   "cell_type": "markdown",
   "metadata": {},
   "source": [
    "<h5 style=\"font-weight:baold;color:#AC04CD;text-align:left\">Matrice de Corrélation : Calculez et visualisez une matrice de corrélation pour identifier les relations entre les caractéristiques.</h5>"
   ]
  },
  {
   "cell_type": "code",
   "execution_count": null,
   "metadata": {},
   "outputs": [],
   "source": []
  },
  {
   "cell_type": "markdown",
   "metadata": {},
   "source": [
    "<h5 style=\"font-weight:baold;color:#AC04CD;text-align:left\">Préparation des données : Divisez les données en un ensemble d'entraînement (80 %) et un ensemble de test (20 %).</h5>"
   ]
  },
  {
   "cell_type": "code",
   "execution_count": null,
   "metadata": {},
   "outputs": [],
   "source": []
  },
  {
   "cell_type": "markdown",
   "metadata": {},
   "source": [
    "<h5 style=\"font-weight:baold;color:#AC04CD;text-align:left\">Traitement des données : Effectuez un traitement de base sur les données, tel que la normalisation des caractéristiques.</h5>"
   ]
  },
  {
   "cell_type": "code",
   "execution_count": null,
   "metadata": {},
   "outputs": [],
   "source": []
  },
  {
   "cell_type": "markdown",
   "metadata": {},
   "source": [
    "<h5 style=\"font-weight:baold;color:#AC04CD;text-align:left\">Modélisation de Classification : Utilisez un modèle de classification, par exemple, un classificateur de régression logistique, pour diagnostiquer le cancer du sein en fonction des caractéristiques.</h5>"
   ]
  },
  {
   "cell_type": "code",
   "execution_count": null,
   "metadata": {},
   "outputs": [],
   "source": []
  },
  {
   "cell_type": "markdown",
   "metadata": {},
   "source": [
    "<h5 style=\"font-weight:baold;color:#AC04CD;text-align:left\">Entraînement du Modèle : Entraînez le modèle de classification sur l'ensemble d'entraînement.</h5>"
   ]
  },
  {
   "cell_type": "code",
   "execution_count": null,
   "metadata": {},
   "outputs": [],
   "source": []
  },
  {
   "cell_type": "markdown",
   "metadata": {},
   "source": [
    "<h5 style=\"font-weight:baold;color:#AC04CD;text-align:left\">Évaluation du Modèle : Évaluez la performance du modèle sur l'ensemble de test en utilisant des métriques de classification, telles que l'exactitude, la précision, le rappel et le score F1.</h5>"
   ]
  },
  {
   "cell_type": "code",
   "execution_count": null,
   "metadata": {},
   "outputs": [],
   "source": []
  },
  {
   "cell_type": "markdown",
   "metadata": {},
   "source": [
    "<h5 style=\"font-weight:baold;color:#AC04CD;text-align:left\">Réglage des Hyperparamètres (Optionnel) : Discutez de l'importance des hyperparamètres et comment ajuster ces paramètres pour améliorer la performance du modèle.</h5>"
   ]
  },
  {
   "cell_type": "code",
   "execution_count": null,
   "metadata": {},
   "outputs": [],
   "source": []
  },
  {
   "cell_type": "markdown",
   "metadata": {},
   "source": [
    "<h5 style=\"font-weight:baold;color:#AC04CD;text-align:left\">Courbe ROC (Optionnel) : Si le temps le permet, expliquez et tracez la courbe ROC pour évaluer la performance du modèle.</h5>"
   ]
  },
  {
   "cell_type": "code",
   "execution_count": null,
   "metadata": {},
   "outputs": [],
   "source": []
  },
  {
   "cell_type": "markdown",
   "metadata": {},
   "source": [
    "<h5 style=\"font-weight:baold;color:#AC04CD;text-align:left\">Matrice de Confusion : Visualisez la matrice de confusion pour comprendre les prédictions du modèle et les erreurs de classification.</h5>"
   ]
  },
  {
   "cell_type": "code",
   "execution_count": null,
   "metadata": {},
   "outputs": [],
   "source": []
  },
  {
   "cell_type": "markdown",
   "metadata": {},
   "source": [
    "<h5 style=\"font-weight:baold;color:#AC04CD;text-align:left\">Discussion : Discutez des résultats, des enseignements clés de ce TP, et des défis rencontrés. Expliquez l'importance de la classification dans le diagnostic du cancer du sein.</h5>"
   ]
  },
  {
   "cell_type": "code",
   "execution_count": null,
   "metadata": {},
   "outputs": [],
   "source": []
  }
 ],
 "metadata": {
  "kernelspec": {
   "display_name": "Python 3",
   "language": "python",
   "name": "python3"
  },
  "language_info": {
   "codemirror_mode": {
    "name": "ipython",
    "version": 3
   },
   "file_extension": ".py",
   "mimetype": "text/x-python",
   "name": "python",
   "nbconvert_exporter": "python",
   "pygments_lexer": "ipython3",
   "version": "3.11.2"
  }
 },
 "nbformat": 4,
 "nbformat_minor": 2
}
