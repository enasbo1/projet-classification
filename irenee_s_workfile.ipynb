{
 "cells": [
  {
   "cell_type": "markdown",
   "metadata": {},
   "source": [
    "<h1 style=\"font-weight:bold;color:#750073;text-align:center\">TP : Classification avec le jeu de données Breast Cancer Wisconsin</h1>"
   ]
  },
  {
   "cell_type": "markdown",
   "metadata": {},
   "source": [
    "<h3 style=\"font-weight:bold;color:#000F78;text-align:left\">Objectif :</h3>\n",
    "<p>Explorer un jeu de données, effectuer une visualisation, préparer les données, construire un modèle de classification et évaluer sa performance pour diagnostiquer le cancer du sein.</p>"
   ]
  },
  {
   "cell_type": "markdown",
   "metadata": {},
   "source": [
    "<h3 style=\"font-weight:bold;color:#000F78;text-align:left\">Étapes :</h3>"
   ]
  },
  {
   "cell_type": "markdown",
   "metadata": {},
   "source": [
    "<h5 style=\"font-weight:baold;color:#AC04CD;text-align:left\">Importation des bibliothèques : Importez les bibliothèques nécessaires, y compris scikit-learn, NumPy, Pandas et Matplotlib pour la visualisation.</h5"
   ]
  },
  {
   "cell_type": "code",
   "execution_count": 1,
   "metadata": {},
   "outputs": [],
   "source": [
    "import pandas as pd \n",
    "import numpy as np\n",
    "import matplotlib.pyplot as plt\n",
    "import plotly.express as px\n",
    "import sklearn as skl\n",
    "import sklearn.cluster as clt"
   ]
  },
  {
   "cell_type": "markdown",
   "metadata": {},
   "source": [
    "<h5 style=\"font-weight:baold;color:#AC04CD;text-align:left\">Chargement des données : Chargez le jeu de données \"gactt_restult\" en utilisant la fonction read_csv de panda.</h5>"
   ]
  },
  {
   "cell_type": "code",
   "execution_count": 2,
   "metadata": {},
   "outputs": [],
   "source": [
    "data = pd.read_csv(\"archive/GACTT_RESULTS_ANONYMIZED.csv\")"
   ]
  },
  {
   "cell_type": "code",
   "execution_count": 3,
   "metadata": {},
   "outputs": [
    {
     "name": "stdout",
     "output_type": "stream",
     "text": [
      "Submission ID\n",
      "Respondent ID\n",
      "Submitted at\n",
      "What is your age?\n",
      "What is your ZIP code?\n",
      "How many cups of coffee do you typically drink per day?\n",
      "Where do you typically drink coffee?\n",
      "Where do you typically drink coffee? (At home)\n",
      "Where do you typically drink coffee? (At the office)\n",
      "Where do you typically drink coffee? (On the go)\n",
      "Where do you typically drink coffee? (At a cafe)\n",
      "Where do you typically drink coffee? (None of these)\n",
      "How do you brew coffee at home?\n",
      "How do you brew coffee at home? (Pour over)\n",
      "How do you brew coffee at home? (French press)\n",
      "How do you brew coffee at home? (Espresso)\n",
      "How do you brew coffee at home? (Coffee brewing machine (e.g. Mr. Coffee))\n",
      "How do you brew coffee at home? (Pod/capsule machine (e.g. Keurig/Nespresso))\n",
      "How do you brew coffee at home? (Instant coffee)\n",
      "How do you brew coffee at home? (Bean-to-cup machine)\n",
      "How do you brew coffee at home? (Cold brew)\n",
      "How do you brew coffee at home? (Coffee extract (e.g. Cometeer))\n",
      "How do you brew coffee at home? (Other)\n",
      "How else do you brew coffee at home?\n",
      "On the go, where do you typically purchase coffee?\n",
      "On the go, where do you typically purchase coffee? (National chain (e.g. Starbucks, Dunkin))\n",
      "On the go, where do you typically purchase coffee? (Local cafe)\n",
      "On the go, where do you typically purchase coffee? (Drive-thru)\n",
      "On the go, where do you typically purchase coffee? (Specialty coffee shop)\n",
      "On the go, where do you typically purchase coffee? (Deli or supermarket)\n",
      "On the go, where do you typically purchase coffee? (Other)\n",
      "Where else do you purchase coffee?\n",
      "What is your favorite coffee drink?\n",
      "Please specify what your favorite coffee drink is\n",
      "Do you usually add anything to your coffee?\n",
      "Do you usually add anything to your coffee? (No - just black)\n",
      "Do you usually add anything to your coffee? (Milk, dairy alternative, or coffee creamer)\n",
      "Do you usually add anything to your coffee? (Sugar or sweetener)\n",
      "Do you usually add anything to your coffee? (Flavor syrup)\n",
      "Do you usually add anything to your coffee? (Other)\n",
      "What else do you add to your coffee?\n",
      "What kind of dairy do you add?\n",
      "What kind of dairy do you add? (Whole milk)\n",
      "What kind of dairy do you add? (Skim milk)\n",
      "What kind of dairy do you add? (Half and half)\n",
      "What kind of dairy do you add? (Coffee creamer)\n",
      "What kind of dairy do you add? (Flavored coffee creamer)\n",
      "What kind of dairy do you add? (Oat milk)\n",
      "What kind of dairy do you add? (Almond milk)\n",
      "What kind of dairy do you add? (Soy milk)\n",
      "What kind of dairy do you add? (Other)\n",
      "What kind of sugar or sweetener do you add?\n",
      "What kind of sugar or sweetener do you add? (Granulated Sugar)\n",
      "What kind of sugar or sweetener do you add? (Artificial Sweeteners (e.g., Splenda))\n",
      "What kind of sugar or sweetener do you add? (Honey)\n",
      "What kind of sugar or sweetener do you add? (Maple Syrup)\n",
      "What kind of sugar or sweetener do you add? (Stevia)\n",
      "What kind of sugar or sweetener do you add? (Agave Nectar)\n",
      "What kind of sugar or sweetener do you add? (Brown Sugar)\n",
      "What kind of sugar or sweetener do you add? (Raw Sugar (Turbinado))\n",
      "What kind of flavorings do you add?\n",
      "What kind of flavorings do you add? (Vanilla Syrup)\n",
      "What kind of flavorings do you add? (Caramel Syrup)\n",
      "What kind of flavorings do you add? (Hazelnut Syrup)\n",
      "What kind of flavorings do you add? (Cinnamon (Ground or Stick))\n",
      "What kind of flavorings do you add? (Peppermint Syrup)\n",
      "What kind of flavorings do you add? (Other)\n",
      "What other flavoring do you use?\n",
      "Before today's tasting, which of the following best described what kind of coffee you like?\n",
      "How strong do you like your coffee?\n",
      "What roast level of coffee do you prefer?\n",
      "How much caffeine do you like in your coffee?\n",
      "Lastly, how would you rate your own coffee expertise?\n",
      "Coffee A - Bitterness\n",
      "Coffee A - Acidity\n",
      "Coffee A - Personal Preference\n",
      "Coffee A - Notes\n",
      "Coffee B - Bitterness\n",
      "Coffee B - Acidity\n",
      "Coffee B - Personal Preference\n",
      "Coffee B - Notes\n",
      "Coffee C - Bitterness\n",
      "Coffee C - Acidity\n",
      "Coffee C - Personal Preference\n",
      "Coffee C - Notes\n",
      "Coffee D - Bitterness\n",
      "Coffee D - Acidity\n",
      "Coffee D - Personal Preference\n",
      "Coffee D - Notes\n",
      "Between Coffee A, Coffee B, and Coffee C which did you prefer?\n",
      "Between Coffee A and Coffee D, which did you prefer?\n",
      "Lastly, what was your favorite overall coffee?\n",
      "Do you work from home or in person?\n",
      "In total, much money do you typically spend on coffee in a month?\n",
      "Why do you drink coffee?\n",
      "Why do you drink coffee? (It tastes good)\n",
      "Why do you drink coffee? (I need the caffeine)\n",
      "Why do you drink coffee? (I need the ritual)\n",
      "Why do you drink coffee? (It makes me go to the bathroom)\n",
      "Why do you drink coffee? (Other)\n",
      "Other reason for drinking coffee\n",
      "Do you like the taste of coffee?\n",
      "Do you know where your coffee comes from?\n",
      "What is the most you've ever paid for a cup of coffee?\n",
      "What is the most you'd ever be willing to pay for a cup of coffee?\n",
      "Do you feel like you’re getting good value for your money when you buy coffee at a cafe?\n",
      "Approximately how much have you spent on coffee equipment in the past 5 years?\n",
      "Do you feel like you’re getting good value for your money with regards to your coffee equipment?\n",
      "Gender\n",
      "Gender (please specify)\n",
      "Marital Status\n",
      "Household Income\n",
      "Education Level\n",
      "Ethnicity/Race\n",
      "Ethnicity/Race (please specify)\n",
      "Employment Status\n",
      "Number of Children\n",
      "Political Affiliation\n"
     ]
    }
   ],
   "source": [
    "n = data.columns\n",
    "for i in n:\n",
    "    print(i)"
   ]
  },
  {
   "cell_type": "code",
   "execution_count": 4,
   "metadata": {},
   "outputs": [],
   "source": [
    "liste_colomn = \"\"\"\\\n",
    "Where do you typically drink coffee? (At home)\n",
    "Where do you typically drink coffee? (At the office)\n",
    "Where do you typically drink coffee? (On the go)\n",
    "Where do you typically drink coffee? (At a cafe)\n",
    "Where do you typically drink coffee? (None of these)\n",
    "On the go, where do you typically purchase coffee? (National chain (e.g. Starbucks, Dunkin))\n",
    "On the go, where do you typically purchase coffee? (Local cafe)\n",
    "On the go, where do you typically purchase coffee? (Drive-thru)\n",
    "On the go, where do you typically purchase coffee? (Specialty coffee shop)\n",
    "On the go, where do you typically purchase coffee? (Deli or supermarket)\n",
    "On the go, where do you typically purchase coffee? (Other)\\\n",
    "\"\"\".split('\\n')"
   ]
  },
  {
   "cell_type": "code",
   "execution_count": 5,
   "metadata": {},
   "outputs": [],
   "source": [
    "renamed_colomn = \"\"\"\\\n",
    "drink at home\n",
    "drink at the office\n",
    "drink on the go\n",
    "drink at a cafe\n",
    "drink at other place\n",
    "OtG, purchase coffee at National chain (e.g. Starbucks, Dunkin)\n",
    "OtG, purchase coffee at a Local cafe\n",
    "OtG, purchase coffee at a Drive-thru\n",
    "OtG, purchase coffee at a Specialty coffee shop\n",
    "OtG, purchase coffee at a Deli or supermarket\n",
    "OtG, purchase coffee at an Other Shop)\\\n",
    "\"\"\".split('\\n')"
   ]
  },
  {
   "cell_type": "code",
   "execution_count": 6,
   "metadata": {},
   "outputs": [],
   "source": [
    "data_to_kmean = data[liste_colomn].dropna(how=\"any\")\n",
    "data_to_kmean.rename(columns={j:renamed_colomn[i] for i,j in enumerate(liste_colomn)}, inplace=True)"
   ]
  },
  {
   "cell_type": "code",
   "execution_count": 7,
   "metadata": {},
   "outputs": [],
   "source": [
    "model = clt.KMeans(n_clusters=3, n_init=60)\n",
    "model.fit(data_to_kmean)\n",
    "model.labels_\n",
    "data_to_kmean[\"group\"] = model.labels_"
   ]
  },
  {
   "cell_type": "code",
   "execution_count": 8,
   "metadata": {},
   "outputs": [
    {
     "data": {
      "text/html": [
       "<div>\n",
       "<style scoped>\n",
       "    .dataframe tbody tr th:only-of-type {\n",
       "        vertical-align: middle;\n",
       "    }\n",
       "\n",
       "    .dataframe tbody tr th {\n",
       "        vertical-align: top;\n",
       "    }\n",
       "\n",
       "    .dataframe thead th {\n",
       "        text-align: right;\n",
       "    }\n",
       "</style>\n",
       "<table border=\"1\" class=\"dataframe\">\n",
       "  <thead>\n",
       "    <tr style=\"text-align: right;\">\n",
       "      <th></th>\n",
       "      <th>drink at home</th>\n",
       "      <th>drink at the office</th>\n",
       "      <th>drink on the go</th>\n",
       "      <th>drink at a cafe</th>\n",
       "      <th>drink at other place</th>\n",
       "      <th>OtG, purchase coffee at National chain (e.g. Starbucks, Dunkin)</th>\n",
       "      <th>OtG, purchase coffee at a Local cafe</th>\n",
       "      <th>OtG, purchase coffee at a Drive-thru</th>\n",
       "      <th>OtG, purchase coffee at a Specialty coffee shop</th>\n",
       "      <th>OtG, purchase coffee at a Deli or supermarket</th>\n",
       "      <th>OtG, purchase coffee at an Other Shop)</th>\n",
       "    </tr>\n",
       "    <tr>\n",
       "      <th>group</th>\n",
       "      <th></th>\n",
       "      <th></th>\n",
       "      <th></th>\n",
       "      <th></th>\n",
       "      <th></th>\n",
       "      <th></th>\n",
       "      <th></th>\n",
       "      <th></th>\n",
       "      <th></th>\n",
       "      <th></th>\n",
       "      <th></th>\n",
       "    </tr>\n",
       "  </thead>\n",
       "  <tbody>\n",
       "    <tr>\n",
       "      <th>0</th>\n",
       "      <td>0.372833</td>\n",
       "      <td>0.497886</td>\n",
       "      <td>0.234403</td>\n",
       "      <td>0.372833</td>\n",
       "      <td>0.0</td>\n",
       "      <td>0.493001</td>\n",
       "      <td>0.492229</td>\n",
       "      <td>0.380134</td>\n",
       "      <td>0.00000</td>\n",
       "      <td>0.276438</td>\n",
       "      <td>0.270047</td>\n",
       "    </tr>\n",
       "    <tr>\n",
       "      <th>1</th>\n",
       "      <td>0.206265</td>\n",
       "      <td>0.470158</td>\n",
       "      <td>0.058421</td>\n",
       "      <td>0.416197</td>\n",
       "      <td>0.0</td>\n",
       "      <td>0.495432</td>\n",
       "      <td>0.000000</td>\n",
       "      <td>0.347510</td>\n",
       "      <td>0.35447</td>\n",
       "      <td>0.269414</td>\n",
       "      <td>0.198527</td>\n",
       "    </tr>\n",
       "    <tr>\n",
       "      <th>2</th>\n",
       "      <td>0.272353</td>\n",
       "      <td>0.501163</td>\n",
       "      <td>0.125977</td>\n",
       "      <td>0.494405</td>\n",
       "      <td>0.0</td>\n",
       "      <td>0.470081</td>\n",
       "      <td>0.000000</td>\n",
       "      <td>0.245715</td>\n",
       "      <td>0.00000</td>\n",
       "      <td>0.176700</td>\n",
       "      <td>0.125977</td>\n",
       "    </tr>\n",
       "  </tbody>\n",
       "</table>\n",
       "</div>"
      ],
      "text/plain": [
       "       drink at home  drink at the office  drink on the go  drink at a cafe  \\\n",
       "group                                                                         \n",
       "0           0.372833             0.497886         0.234403         0.372833   \n",
       "1           0.206265             0.470158         0.058421         0.416197   \n",
       "2           0.272353             0.501163         0.125977         0.494405   \n",
       "\n",
       "       drink at other place  \\\n",
       "group                         \n",
       "0                       0.0   \n",
       "1                       0.0   \n",
       "2                       0.0   \n",
       "\n",
       "       OtG, purchase coffee at National chain (e.g. Starbucks, Dunkin)  \\\n",
       "group                                                                    \n",
       "0                                               0.493001                 \n",
       "1                                               0.495432                 \n",
       "2                                               0.470081                 \n",
       "\n",
       "       OtG, purchase coffee at a Local cafe  \\\n",
       "group                                         \n",
       "0                                  0.492229   \n",
       "1                                  0.000000   \n",
       "2                                  0.000000   \n",
       "\n",
       "       OtG, purchase coffee at a Drive-thru  \\\n",
       "group                                         \n",
       "0                                  0.380134   \n",
       "1                                  0.347510   \n",
       "2                                  0.245715   \n",
       "\n",
       "       OtG, purchase coffee at a Specialty coffee shop  \\\n",
       "group                                                    \n",
       "0                                              0.00000   \n",
       "1                                              0.35447   \n",
       "2                                              0.00000   \n",
       "\n",
       "       OtG, purchase coffee at a Deli or supermarket  \\\n",
       "group                                                  \n",
       "0                                           0.276438   \n",
       "1                                           0.269414   \n",
       "2                                           0.176700   \n",
       "\n",
       "       OtG, purchase coffee at an Other Shop)  \n",
       "group                                          \n",
       "0                                    0.270047  \n",
       "1                                    0.198527  \n",
       "2                                    0.125977  "
      ]
     },
     "execution_count": 8,
     "metadata": {},
     "output_type": "execute_result"
    }
   ],
   "source": [
    "profils_types = data_to_kmean.groupby(\"group\").mean()\n",
    "accuracy = data_to_kmean.groupby(\"group\").std()\n",
    "accuracy"
   ]
  },
  {
   "cell_type": "code",
   "execution_count": 9,
   "metadata": {},
   "outputs": [
    {
     "data": {
      "text/plain": [
       "array([[0.8340248962655602, 0.44398340248962653, 0.941908713692946,\n",
       "        0.16597510373443983, 0.0, 0.5892116182572614, 0.4066390041493776,\n",
       "        0.17427385892116182, 0.0, 0.08298755186721991,\n",
       "        0.07883817427385892],\n",
       "       [0.9556313993174061, 0.6723549488054608, 0.9965870307167235,\n",
       "        0.7781569965870307, 0.0, 0.42662116040955633, 1.0,\n",
       "        0.13993174061433447, 0.8532423208191127, 0.07849829351535836,\n",
       "        0.040955631399317405],\n",
       "       [0.9197860962566845, 0.5133689839572193, 0.983957219251337,\n",
       "        0.41711229946524064, 0.0, 0.32620320855614976, 0.0,\n",
       "        0.06417112299465241, 1.0, 0.03208556149732621,\n",
       "        0.016042780748663103]], dtype=object)"
      ]
     },
     "execution_count": 9,
     "metadata": {},
     "output_type": "execute_result"
    }
   ],
   "source": [
    "profils_types.values"
   ]
  },
  {
   "cell_type": "code",
   "execution_count": 10,
   "metadata": {},
   "outputs": [
    {
     "data": {
      "text/plain": [
       "group\n",
       "0    0.308164\n",
       "1    0.256036\n",
       "2    0.219307\n",
       "dtype: float64"
      ]
     },
     "execution_count": 10,
     "metadata": {},
     "output_type": "execute_result"
    }
   ],
   "source": [
    "accuracy.mean(axis = 1)"
   ]
  },
  {
   "cell_type": "code",
   "execution_count": 11,
   "metadata": {},
   "outputs": [
    {
     "data": {
      "application/vnd.plotly.v1+json": {
       "config": {
        "plotlyServerURL": "https://plot.ly"
       },
       "data": [
        {
         "alignmentgroup": "True",
         "hovertemplate": "<extra></extra>",
         "legendgroup": "",
         "marker": {
          "color": "#636efa",
          "pattern": {
           "shape": ""
          }
         },
         "name": "",
         "offsetgroup": "",
         "orientation": "v",
         "showlegend": false,
         "textposition": "auto",
         "type": "bar",
         "xaxis": "x",
         "yaxis": "y"
        },
        {
         "hovertext": [
          "accuracy : 62%",
          "accuracy : 50%",
          "accuracy : 76%",
          "accuracy : 62%",
          "accuracy : 100%",
          "accuracy : 50%",
          "accuracy : 50%",
          "accuracy : 61%",
          "accuracy : 100%",
          "accuracy : 72%",
          "accuracy : 72%"
         ],
         "name": "0",
         "type": "bar",
         "x": [
          "drink at home",
          "drink at the office",
          "drink on the go",
          "drink at a cafe",
          "drink at other place",
          "OtG, purchase coffee at National chain (e.g. Starbucks, Dunkin)",
          "OtG, purchase coffee at a Local cafe",
          "OtG, purchase coffee at a Drive-thru",
          "OtG, purchase coffee at a Specialty coffee shop",
          "OtG, purchase coffee at a Deli or supermarket",
          "OtG, purchase coffee at an Other Shop)"
         ],
         "y": [
          83.40248962655602,
          44.398340248962654,
          94.1908713692946,
          16.59751037344398,
          0,
          58.921161825726145,
          40.66390041493776,
          17.42738589211618,
          0,
          8.29875518672199,
          7.883817427385892
         ]
        },
        {
         "hovertext": [
          "accuracy : 79%",
          "accuracy : 52%",
          "accuracy : 94%",
          "accuracy : 58%",
          "accuracy : 100%",
          "accuracy : 50%",
          "accuracy : 100%",
          "accuracy : 65%",
          "accuracy : 64%",
          "accuracy : 73%",
          "accuracy : 80%"
         ],
         "name": "1",
         "type": "bar",
         "x": [
          "drink at home",
          "drink at the office",
          "drink on the go",
          "drink at a cafe",
          "drink at other place",
          "OtG, purchase coffee at National chain (e.g. Starbucks, Dunkin)",
          "OtG, purchase coffee at a Local cafe",
          "OtG, purchase coffee at a Drive-thru",
          "OtG, purchase coffee at a Specialty coffee shop",
          "OtG, purchase coffee at a Deli or supermarket",
          "OtG, purchase coffee at an Other Shop)"
         ],
         "y": [
          95.56313993174061,
          67.23549488054607,
          99.65870307167235,
          77.81569965870307,
          0,
          42.66211604095563,
          100,
          13.993174061433447,
          85.32423208191126,
          7.849829351535837,
          4.09556313993174
         ]
        },
        {
         "hovertext": [
          "accuracy : 72%",
          "accuracy : 49%",
          "accuracy : 87%",
          "accuracy : 50%",
          "accuracy : 100%",
          "accuracy : 52%",
          "accuracy : 100%",
          "accuracy : 75%",
          "accuracy : 100%",
          "accuracy : 82%",
          "accuracy : 87%"
         ],
         "name": "2",
         "type": "bar",
         "x": [
          "drink at home",
          "drink at the office",
          "drink on the go",
          "drink at a cafe",
          "drink at other place",
          "OtG, purchase coffee at National chain (e.g. Starbucks, Dunkin)",
          "OtG, purchase coffee at a Local cafe",
          "OtG, purchase coffee at a Drive-thru",
          "OtG, purchase coffee at a Specialty coffee shop",
          "OtG, purchase coffee at a Deli or supermarket",
          "OtG, purchase coffee at an Other Shop)"
         ],
         "y": [
          91.97860962566845,
          51.33689839572193,
          98.3957219251337,
          41.711229946524064,
          0,
          32.62032085561498,
          0,
          6.417112299465241,
          100,
          3.2085561497326207,
          1.6042780748663104
         ]
        }
       ],
       "layout": {
        "barmode": "group",
        "legend": {
         "tracegroupgap": 0
        },
        "template": {
         "data": {
          "bar": [
           {
            "error_x": {
             "color": "#2a3f5f"
            },
            "error_y": {
             "color": "#2a3f5f"
            },
            "marker": {
             "line": {
              "color": "#E5ECF6",
              "width": 0.5
             },
             "pattern": {
              "fillmode": "overlay",
              "size": 10,
              "solidity": 0.2
             }
            },
            "type": "bar"
           }
          ],
          "barpolar": [
           {
            "marker": {
             "line": {
              "color": "#E5ECF6",
              "width": 0.5
             },
             "pattern": {
              "fillmode": "overlay",
              "size": 10,
              "solidity": 0.2
             }
            },
            "type": "barpolar"
           }
          ],
          "carpet": [
           {
            "aaxis": {
             "endlinecolor": "#2a3f5f",
             "gridcolor": "white",
             "linecolor": "white",
             "minorgridcolor": "white",
             "startlinecolor": "#2a3f5f"
            },
            "baxis": {
             "endlinecolor": "#2a3f5f",
             "gridcolor": "white",
             "linecolor": "white",
             "minorgridcolor": "white",
             "startlinecolor": "#2a3f5f"
            },
            "type": "carpet"
           }
          ],
          "choropleth": [
           {
            "colorbar": {
             "outlinewidth": 0,
             "ticks": ""
            },
            "type": "choropleth"
           }
          ],
          "contour": [
           {
            "colorbar": {
             "outlinewidth": 0,
             "ticks": ""
            },
            "colorscale": [
             [
              0,
              "#0d0887"
             ],
             [
              0.1111111111111111,
              "#46039f"
             ],
             [
              0.2222222222222222,
              "#7201a8"
             ],
             [
              0.3333333333333333,
              "#9c179e"
             ],
             [
              0.4444444444444444,
              "#bd3786"
             ],
             [
              0.5555555555555556,
              "#d8576b"
             ],
             [
              0.6666666666666666,
              "#ed7953"
             ],
             [
              0.7777777777777778,
              "#fb9f3a"
             ],
             [
              0.8888888888888888,
              "#fdca26"
             ],
             [
              1,
              "#f0f921"
             ]
            ],
            "type": "contour"
           }
          ],
          "contourcarpet": [
           {
            "colorbar": {
             "outlinewidth": 0,
             "ticks": ""
            },
            "type": "contourcarpet"
           }
          ],
          "heatmap": [
           {
            "colorbar": {
             "outlinewidth": 0,
             "ticks": ""
            },
            "colorscale": [
             [
              0,
              "#0d0887"
             ],
             [
              0.1111111111111111,
              "#46039f"
             ],
             [
              0.2222222222222222,
              "#7201a8"
             ],
             [
              0.3333333333333333,
              "#9c179e"
             ],
             [
              0.4444444444444444,
              "#bd3786"
             ],
             [
              0.5555555555555556,
              "#d8576b"
             ],
             [
              0.6666666666666666,
              "#ed7953"
             ],
             [
              0.7777777777777778,
              "#fb9f3a"
             ],
             [
              0.8888888888888888,
              "#fdca26"
             ],
             [
              1,
              "#f0f921"
             ]
            ],
            "type": "heatmap"
           }
          ],
          "heatmapgl": [
           {
            "colorbar": {
             "outlinewidth": 0,
             "ticks": ""
            },
            "colorscale": [
             [
              0,
              "#0d0887"
             ],
             [
              0.1111111111111111,
              "#46039f"
             ],
             [
              0.2222222222222222,
              "#7201a8"
             ],
             [
              0.3333333333333333,
              "#9c179e"
             ],
             [
              0.4444444444444444,
              "#bd3786"
             ],
             [
              0.5555555555555556,
              "#d8576b"
             ],
             [
              0.6666666666666666,
              "#ed7953"
             ],
             [
              0.7777777777777778,
              "#fb9f3a"
             ],
             [
              0.8888888888888888,
              "#fdca26"
             ],
             [
              1,
              "#f0f921"
             ]
            ],
            "type": "heatmapgl"
           }
          ],
          "histogram": [
           {
            "marker": {
             "pattern": {
              "fillmode": "overlay",
              "size": 10,
              "solidity": 0.2
             }
            },
            "type": "histogram"
           }
          ],
          "histogram2d": [
           {
            "colorbar": {
             "outlinewidth": 0,
             "ticks": ""
            },
            "colorscale": [
             [
              0,
              "#0d0887"
             ],
             [
              0.1111111111111111,
              "#46039f"
             ],
             [
              0.2222222222222222,
              "#7201a8"
             ],
             [
              0.3333333333333333,
              "#9c179e"
             ],
             [
              0.4444444444444444,
              "#bd3786"
             ],
             [
              0.5555555555555556,
              "#d8576b"
             ],
             [
              0.6666666666666666,
              "#ed7953"
             ],
             [
              0.7777777777777778,
              "#fb9f3a"
             ],
             [
              0.8888888888888888,
              "#fdca26"
             ],
             [
              1,
              "#f0f921"
             ]
            ],
            "type": "histogram2d"
           }
          ],
          "histogram2dcontour": [
           {
            "colorbar": {
             "outlinewidth": 0,
             "ticks": ""
            },
            "colorscale": [
             [
              0,
              "#0d0887"
             ],
             [
              0.1111111111111111,
              "#46039f"
             ],
             [
              0.2222222222222222,
              "#7201a8"
             ],
             [
              0.3333333333333333,
              "#9c179e"
             ],
             [
              0.4444444444444444,
              "#bd3786"
             ],
             [
              0.5555555555555556,
              "#d8576b"
             ],
             [
              0.6666666666666666,
              "#ed7953"
             ],
             [
              0.7777777777777778,
              "#fb9f3a"
             ],
             [
              0.8888888888888888,
              "#fdca26"
             ],
             [
              1,
              "#f0f921"
             ]
            ],
            "type": "histogram2dcontour"
           }
          ],
          "mesh3d": [
           {
            "colorbar": {
             "outlinewidth": 0,
             "ticks": ""
            },
            "type": "mesh3d"
           }
          ],
          "parcoords": [
           {
            "line": {
             "colorbar": {
              "outlinewidth": 0,
              "ticks": ""
             }
            },
            "type": "parcoords"
           }
          ],
          "pie": [
           {
            "automargin": true,
            "type": "pie"
           }
          ],
          "scatter": [
           {
            "fillpattern": {
             "fillmode": "overlay",
             "size": 10,
             "solidity": 0.2
            },
            "type": "scatter"
           }
          ],
          "scatter3d": [
           {
            "line": {
             "colorbar": {
              "outlinewidth": 0,
              "ticks": ""
             }
            },
            "marker": {
             "colorbar": {
              "outlinewidth": 0,
              "ticks": ""
             }
            },
            "type": "scatter3d"
           }
          ],
          "scattercarpet": [
           {
            "marker": {
             "colorbar": {
              "outlinewidth": 0,
              "ticks": ""
             }
            },
            "type": "scattercarpet"
           }
          ],
          "scattergeo": [
           {
            "marker": {
             "colorbar": {
              "outlinewidth": 0,
              "ticks": ""
             }
            },
            "type": "scattergeo"
           }
          ],
          "scattergl": [
           {
            "marker": {
             "colorbar": {
              "outlinewidth": 0,
              "ticks": ""
             }
            },
            "type": "scattergl"
           }
          ],
          "scattermapbox": [
           {
            "marker": {
             "colorbar": {
              "outlinewidth": 0,
              "ticks": ""
             }
            },
            "type": "scattermapbox"
           }
          ],
          "scatterpolar": [
           {
            "marker": {
             "colorbar": {
              "outlinewidth": 0,
              "ticks": ""
             }
            },
            "type": "scatterpolar"
           }
          ],
          "scatterpolargl": [
           {
            "marker": {
             "colorbar": {
              "outlinewidth": 0,
              "ticks": ""
             }
            },
            "type": "scatterpolargl"
           }
          ],
          "scatterternary": [
           {
            "marker": {
             "colorbar": {
              "outlinewidth": 0,
              "ticks": ""
             }
            },
            "type": "scatterternary"
           }
          ],
          "surface": [
           {
            "colorbar": {
             "outlinewidth": 0,
             "ticks": ""
            },
            "colorscale": [
             [
              0,
              "#0d0887"
             ],
             [
              0.1111111111111111,
              "#46039f"
             ],
             [
              0.2222222222222222,
              "#7201a8"
             ],
             [
              0.3333333333333333,
              "#9c179e"
             ],
             [
              0.4444444444444444,
              "#bd3786"
             ],
             [
              0.5555555555555556,
              "#d8576b"
             ],
             [
              0.6666666666666666,
              "#ed7953"
             ],
             [
              0.7777777777777778,
              "#fb9f3a"
             ],
             [
              0.8888888888888888,
              "#fdca26"
             ],
             [
              1,
              "#f0f921"
             ]
            ],
            "type": "surface"
           }
          ],
          "table": [
           {
            "cells": {
             "fill": {
              "color": "#EBF0F8"
             },
             "line": {
              "color": "white"
             }
            },
            "header": {
             "fill": {
              "color": "#C8D4E3"
             },
             "line": {
              "color": "white"
             }
            },
            "type": "table"
           }
          ]
         },
         "layout": {
          "annotationdefaults": {
           "arrowcolor": "#2a3f5f",
           "arrowhead": 0,
           "arrowwidth": 1
          },
          "autotypenumbers": "strict",
          "coloraxis": {
           "colorbar": {
            "outlinewidth": 0,
            "ticks": ""
           }
          },
          "colorscale": {
           "diverging": [
            [
             0,
             "#8e0152"
            ],
            [
             0.1,
             "#c51b7d"
            ],
            [
             0.2,
             "#de77ae"
            ],
            [
             0.3,
             "#f1b6da"
            ],
            [
             0.4,
             "#fde0ef"
            ],
            [
             0.5,
             "#f7f7f7"
            ],
            [
             0.6,
             "#e6f5d0"
            ],
            [
             0.7,
             "#b8e186"
            ],
            [
             0.8,
             "#7fbc41"
            ],
            [
             0.9,
             "#4d9221"
            ],
            [
             1,
             "#276419"
            ]
           ],
           "sequential": [
            [
             0,
             "#0d0887"
            ],
            [
             0.1111111111111111,
             "#46039f"
            ],
            [
             0.2222222222222222,
             "#7201a8"
            ],
            [
             0.3333333333333333,
             "#9c179e"
            ],
            [
             0.4444444444444444,
             "#bd3786"
            ],
            [
             0.5555555555555556,
             "#d8576b"
            ],
            [
             0.6666666666666666,
             "#ed7953"
            ],
            [
             0.7777777777777778,
             "#fb9f3a"
            ],
            [
             0.8888888888888888,
             "#fdca26"
            ],
            [
             1,
             "#f0f921"
            ]
           ],
           "sequentialminus": [
            [
             0,
             "#0d0887"
            ],
            [
             0.1111111111111111,
             "#46039f"
            ],
            [
             0.2222222222222222,
             "#7201a8"
            ],
            [
             0.3333333333333333,
             "#9c179e"
            ],
            [
             0.4444444444444444,
             "#bd3786"
            ],
            [
             0.5555555555555556,
             "#d8576b"
            ],
            [
             0.6666666666666666,
             "#ed7953"
            ],
            [
             0.7777777777777778,
             "#fb9f3a"
            ],
            [
             0.8888888888888888,
             "#fdca26"
            ],
            [
             1,
             "#f0f921"
            ]
           ]
          },
          "colorway": [
           "#636efa",
           "#EF553B",
           "#00cc96",
           "#ab63fa",
           "#FFA15A",
           "#19d3f3",
           "#FF6692",
           "#B6E880",
           "#FF97FF",
           "#FECB52"
          ],
          "font": {
           "color": "#2a3f5f"
          },
          "geo": {
           "bgcolor": "white",
           "lakecolor": "white",
           "landcolor": "#E5ECF6",
           "showlakes": true,
           "showland": true,
           "subunitcolor": "white"
          },
          "hoverlabel": {
           "align": "left"
          },
          "hovermode": "closest",
          "mapbox": {
           "style": "light"
          },
          "paper_bgcolor": "white",
          "plot_bgcolor": "#E5ECF6",
          "polar": {
           "angularaxis": {
            "gridcolor": "white",
            "linecolor": "white",
            "ticks": ""
           },
           "bgcolor": "#E5ECF6",
           "radialaxis": {
            "gridcolor": "white",
            "linecolor": "white",
            "ticks": ""
           }
          },
          "scene": {
           "xaxis": {
            "backgroundcolor": "#E5ECF6",
            "gridcolor": "white",
            "gridwidth": 2,
            "linecolor": "white",
            "showbackground": true,
            "ticks": "",
            "zerolinecolor": "white"
           },
           "yaxis": {
            "backgroundcolor": "#E5ECF6",
            "gridcolor": "white",
            "gridwidth": 2,
            "linecolor": "white",
            "showbackground": true,
            "ticks": "",
            "zerolinecolor": "white"
           },
           "zaxis": {
            "backgroundcolor": "#E5ECF6",
            "gridcolor": "white",
            "gridwidth": 2,
            "linecolor": "white",
            "showbackground": true,
            "ticks": "",
            "zerolinecolor": "white"
           }
          },
          "shapedefaults": {
           "line": {
            "color": "#2a3f5f"
           }
          },
          "ternary": {
           "aaxis": {
            "gridcolor": "white",
            "linecolor": "white",
            "ticks": ""
           },
           "baxis": {
            "gridcolor": "white",
            "linecolor": "white",
            "ticks": ""
           },
           "bgcolor": "#E5ECF6",
           "caxis": {
            "gridcolor": "white",
            "linecolor": "white",
            "ticks": ""
           }
          },
          "title": {
           "x": 0.05
          },
          "xaxis": {
           "automargin": true,
           "gridcolor": "white",
           "linecolor": "white",
           "ticks": "",
           "title": {
            "standoff": 15
           },
           "zerolinecolor": "white",
           "zerolinewidth": 2
          },
          "yaxis": {
           "automargin": true,
           "gridcolor": "white",
           "linecolor": "white",
           "ticks": "",
           "title": {
            "standoff": 15
           },
           "zerolinecolor": "white",
           "zerolinewidth": 2
          }
         }
        },
        "title": {
         "text": "profils type renvoyé pas le model ZMean"
        },
        "xaxis": {
         "anchor": "y",
         "domain": [
          0,
          1
         ]
        },
        "yaxis": {
         "anchor": "x",
         "domain": [
          0,
          1
         ]
        }
       }
      }
     },
     "metadata": {},
     "output_type": "display_data"
    }
   ],
   "source": [
    "fig = px.bar(title=\"profils type renvoyé pas le model ZMean\", barmode='group')\n",
    "values = profils_types.values\n",
    "accuracy_values = accuracy.values\n",
    "for i,j in enumerate(accuracy_values):\n",
    "    j = [ \"accuracy : \"+ str(int((1-x)*100))+'%' for x in j]\n",
    "    fig.add_bar(\n",
    "        x = profils_types.columns,\n",
    "        y = values[i]*100,\n",
    "        hovertext= j,\n",
    "        name = str(i),\n",
    "    )\n",
    "fig.show()\n"
   ]
  }
 ],
 "metadata": {
  "kernelspec": {
   "display_name": "Python 3",
   "language": "python",
   "name": "python3"
  },
  "language_info": {
   "codemirror_mode": {
    "name": "ipython",
    "version": 3
   },
   "file_extension": ".py",
   "mimetype": "text/x-python",
   "name": "python",
   "nbconvert_exporter": "python",
   "pygments_lexer": "ipython3",
   "version": "3.11.2"
  }
 },
 "nbformat": 4,
 "nbformat_minor": 2
}
