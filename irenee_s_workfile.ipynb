{
 "cells": [
  {
   "cell_type": "markdown",
   "metadata": {},
   "source": [
    "<h1 style=\"font-weight:bold;color:#750073;text-align:center\">TP : Classification avec le jeu de données Breast Cancer Wisconsin</h1>"
   ]
  },
  {
   "cell_type": "markdown",
   "metadata": {},
   "source": [
    "<h3 style=\"font-weight:bold;color:#000F78;text-align:left\">Objectif :</h3>\n",
    "<p>Explorer un jeu de données, effectuer une visualisation, préparer les données, construire un modèle de classification et évaluer sa performance pour diagnostiquer le cancer du sein.</p>"
   ]
  },
  {
   "cell_type": "markdown",
   "metadata": {},
   "source": [
    "<h3 style=\"font-weight:bold;color:#000F78;text-align:left\">Étapes :</h3>"
   ]
  },
  {
   "cell_type": "markdown",
   "metadata": {},
   "source": [
    "<h5 style=\"font-weight:baold;color:#AC04CD;text-align:left\">Importation des bibliothèques : Importez les bibliothèques nécessaires, y compris scikit-learn, NumPy, Pandas et Matplotlib pour la visualisation.</h5"
   ]
  },
  {
   "cell_type": "code",
   "execution_count": 82,
   "metadata": {},
   "outputs": [],
   "source": [
    "import pandas as pd \n",
    "import numpy as np\n",
    "import matplotlib.pyplot as plt\n",
    "import plotly.express as px\n",
    "import sklearn as skl\n",
    "import sklearn.cluster as clt"
   ]
  },
  {
   "cell_type": "markdown",
   "metadata": {},
   "source": [
    "<h5 style=\"font-weight:baold;color:#AC04CD;text-align:left\">Chargement des données : Chargez le jeu de données \"gactt_restult\" en utilisant la fonction read_csv de panda.</h5>"
   ]
  },
  {
   "cell_type": "code",
   "execution_count": 83,
   "metadata": {},
   "outputs": [],
   "source": [
    "data = pd.read_csv(\"archive/GACTT_RESULTS_ANONYMIZED.csv\")"
   ]
  },
  {
   "cell_type": "code",
   "execution_count": 84,
   "metadata": {},
   "outputs": [
    {
     "name": "stdout",
     "output_type": "stream",
     "text": [
      "Submission ID\n",
      "Respondent ID\n",
      "Submitted at\n",
      "What is your age?\n",
      "What is your ZIP code?\n",
      "How many cups of coffee do you typically drink per day?\n",
      "Where do you typically drink coffee?\n",
      "Where do you typically drink coffee? (At home)\n",
      "Where do you typically drink coffee? (At the office)\n",
      "Where do you typically drink coffee? (On the go)\n",
      "Where do you typically drink coffee? (At a cafe)\n",
      "Where do you typically drink coffee? (None of these)\n",
      "How do you brew coffee at home?\n",
      "How do you brew coffee at home? (Pour over)\n",
      "How do you brew coffee at home? (French press)\n",
      "How do you brew coffee at home? (Espresso)\n",
      "How do you brew coffee at home? (Coffee brewing machine (e.g. Mr. Coffee))\n",
      "How do you brew coffee at home? (Pod/capsule machine (e.g. Keurig/Nespresso))\n",
      "How do you brew coffee at home? (Instant coffee)\n",
      "How do you brew coffee at home? (Bean-to-cup machine)\n",
      "How do you brew coffee at home? (Cold brew)\n",
      "How do you brew coffee at home? (Coffee extract (e.g. Cometeer))\n",
      "How do you brew coffee at home? (Other)\n",
      "How else do you brew coffee at home?\n",
      "On the go, where do you typically purchase coffee?\n",
      "On the go, where do you typically purchase coffee? (National chain (e.g. Starbucks, Dunkin))\n",
      "On the go, where do you typically purchase coffee? (Local cafe)\n",
      "On the go, where do you typically purchase coffee? (Drive-thru)\n",
      "On the go, where do you typically purchase coffee? (Specialty coffee shop)\n",
      "On the go, where do you typically purchase coffee? (Deli or supermarket)\n",
      "On the go, where do you typically purchase coffee? (Other)\n",
      "Where else do you purchase coffee?\n",
      "What is your favorite coffee drink?\n",
      "Please specify what your favorite coffee drink is\n",
      "Do you usually add anything to your coffee?\n",
      "Do you usually add anything to your coffee? (No - just black)\n",
      "Do you usually add anything to your coffee? (Milk, dairy alternative, or coffee creamer)\n",
      "Do you usually add anything to your coffee? (Sugar or sweetener)\n",
      "Do you usually add anything to your coffee? (Flavor syrup)\n",
      "Do you usually add anything to your coffee? (Other)\n",
      "What else do you add to your coffee?\n",
      "What kind of dairy do you add?\n",
      "What kind of dairy do you add? (Whole milk)\n",
      "What kind of dairy do you add? (Skim milk)\n",
      "What kind of dairy do you add? (Half and half)\n",
      "What kind of dairy do you add? (Coffee creamer)\n",
      "What kind of dairy do you add? (Flavored coffee creamer)\n",
      "What kind of dairy do you add? (Oat milk)\n",
      "What kind of dairy do you add? (Almond milk)\n",
      "What kind of dairy do you add? (Soy milk)\n",
      "What kind of dairy do you add? (Other)\n",
      "What kind of sugar or sweetener do you add?\n",
      "What kind of sugar or sweetener do you add? (Granulated Sugar)\n",
      "What kind of sugar or sweetener do you add? (Artificial Sweeteners (e.g., Splenda))\n",
      "What kind of sugar or sweetener do you add? (Honey)\n",
      "What kind of sugar or sweetener do you add? (Maple Syrup)\n",
      "What kind of sugar or sweetener do you add? (Stevia)\n",
      "What kind of sugar or sweetener do you add? (Agave Nectar)\n",
      "What kind of sugar or sweetener do you add? (Brown Sugar)\n",
      "What kind of sugar or sweetener do you add? (Raw Sugar (Turbinado))\n",
      "What kind of flavorings do you add?\n",
      "What kind of flavorings do you add? (Vanilla Syrup)\n",
      "What kind of flavorings do you add? (Caramel Syrup)\n",
      "What kind of flavorings do you add? (Hazelnut Syrup)\n",
      "What kind of flavorings do you add? (Cinnamon (Ground or Stick))\n",
      "What kind of flavorings do you add? (Peppermint Syrup)\n",
      "What kind of flavorings do you add? (Other)\n",
      "What other flavoring do you use?\n",
      "Before today's tasting, which of the following best described what kind of coffee you like?\n",
      "How strong do you like your coffee?\n",
      "What roast level of coffee do you prefer?\n",
      "How much caffeine do you like in your coffee?\n",
      "Lastly, how would you rate your own coffee expertise?\n",
      "Coffee A - Bitterness\n",
      "Coffee A - Acidity\n",
      "Coffee A - Personal Preference\n",
      "Coffee A - Notes\n",
      "Coffee B - Bitterness\n",
      "Coffee B - Acidity\n",
      "Coffee B - Personal Preference\n",
      "Coffee B - Notes\n",
      "Coffee C - Bitterness\n",
      "Coffee C - Acidity\n",
      "Coffee C - Personal Preference\n",
      "Coffee C - Notes\n",
      "Coffee D - Bitterness\n",
      "Coffee D - Acidity\n",
      "Coffee D - Personal Preference\n",
      "Coffee D - Notes\n",
      "Between Coffee A, Coffee B, and Coffee C which did you prefer?\n",
      "Between Coffee A and Coffee D, which did you prefer?\n",
      "Lastly, what was your favorite overall coffee?\n",
      "Do you work from home or in person?\n",
      "In total, much money do you typically spend on coffee in a month?\n",
      "Why do you drink coffee?\n",
      "Why do you drink coffee? (It tastes good)\n",
      "Why do you drink coffee? (I need the caffeine)\n",
      "Why do you drink coffee? (I need the ritual)\n",
      "Why do you drink coffee? (It makes me go to the bathroom)\n",
      "Why do you drink coffee? (Other)\n",
      "Other reason for drinking coffee\n",
      "Do you like the taste of coffee?\n",
      "Do you know where your coffee comes from?\n",
      "What is the most you've ever paid for a cup of coffee?\n",
      "What is the most you'd ever be willing to pay for a cup of coffee?\n",
      "Do you feel like you’re getting good value for your money when you buy coffee at a cafe?\n",
      "Approximately how much have you spent on coffee equipment in the past 5 years?\n",
      "Do you feel like you’re getting good value for your money with regards to your coffee equipment?\n",
      "Gender\n",
      "Gender (please specify)\n",
      "Marital Status\n",
      "Household Income\n",
      "Education Level\n",
      "Ethnicity/Race\n",
      "Ethnicity/Race (please specify)\n",
      "Employment Status\n",
      "Number of Children\n",
      "Political Affiliation\n"
     ]
    }
   ],
   "source": [
    "n = data.columns\n",
    "for i in n:\n",
    "    print(i)"
   ]
  },
  {
   "cell_type": "code",
   "execution_count": 85,
   "metadata": {},
   "outputs": [],
   "source": [
    "liste_colomn = \"\"\"\\\n",
    "Where do you typically drink coffee? (At home)\n",
    "Where do you typically drink coffee? (At the office)\n",
    "Where do you typically drink coffee? (On the go)\n",
    "Where do you typically drink coffee? (At a cafe)\n",
    "Where do you typically drink coffee? (None of these)\n",
    "How do you brew coffee at home? (Pour over)\n",
    "How do you brew coffee at home? (French press)\n",
    "How do you brew coffee at home? (Espresso)\n",
    "How do you brew coffee at home? (Coffee brewing machine (e.g. Mr. Coffee))\n",
    "How do you brew coffee at home? (Pod/capsule machine (e.g. Keurig/Nespresso))\n",
    "How do you brew coffee at home? (Instant coffee)\n",
    "How do you brew coffee at home? (Bean-to-cup machine)\n",
    "How do you brew coffee at home? (Cold brew)\n",
    "How do you brew coffee at home? (Coffee extract (e.g. Cometeer))\n",
    "How do you brew coffee at home? (Other)\n",
    "On the go, where do you typically purchase coffee? (National chain (e.g. Starbucks, Dunkin))\n",
    "On the go, where do you typically purchase coffee? (Local cafe)\n",
    "On the go, where do you typically purchase coffee? (Drive-thru)\n",
    "On the go, where do you typically purchase coffee? (Specialty coffee shop)\n",
    "On the go, where do you typically purchase coffee? (Deli or supermarket)\n",
    "On the go, where do you typically purchase coffee? (Other)\\\n",
    "\"\"\".split('\\n')"
   ]
  },
  {
   "cell_type": "code",
   "execution_count": 86,
   "metadata": {},
   "outputs": [],
   "source": [
    "renamed_colomn = \"\"\"\\\n",
    "drink at home\n",
    "drink at the office\n",
    "drink on the go\n",
    "drink at a cafe\n",
    "drink at other place\n",
    "brew Pour over coffe at home \n",
    "brew French press coffee at home\n",
    "brew Espresso coffee at home\n",
    "brew Coffee brewing machine (e.g. Mr. Coffee) coffee at home\n",
    "brew Pod/capsule machine (e.g. Keurig/Nespresso) coffee at home\n",
    "brew Instant coffee coffee at home\n",
    "brew Bean-to-cup machine coffee at home\n",
    "brew Cold brew coffee at home\n",
    "brew Coffee extract (e.g. Cometeer) coffee at home\n",
    "brew Other coffee at home\n",
    "OtG, purchase coffee at National chain (e.g. Starbucks, Dunkin)\n",
    "OtG, purchase coffee at a Local cafe\n",
    "OtG, purchase coffee at a Drive-thru\n",
    "OtG, purchase coffee at a Specialty coffee shop\n",
    "OtG, purchase coffee at a Deli or supermarket\n",
    "OtG, purchase coffee at an Other Shop)\\\n",
    "\"\"\".split('\\n')"
   ]
  },
  {
   "cell_type": "code",
   "execution_count": 87,
   "metadata": {},
   "outputs": [],
   "source": [
    "data_to_kmean = data[liste_colomn].dropna(how=\"any\")\n",
    "data_to_kmean.rename(columns={j:renamed_colomn[i] for i,j in enumerate(liste_colomn)}, inplace=True)"
   ]
  },
  {
   "cell_type": "code",
   "execution_count": 88,
   "metadata": {},
   "outputs": [],
   "source": [
    "model = clt.KMeans(n_clusters=3, n_init=60)\n",
    "model.fit(data_to_kmean)\n",
    "model.labels_\n",
    "data_to_kmean[\"group\"] = model.labels_"
   ]
  },
  {
   "cell_type": "code",
   "execution_count": 89,
   "metadata": {},
   "outputs": [
    {
     "data": {
      "text/html": [
       "<div>\n",
       "<style scoped>\n",
       "    .dataframe tbody tr th:only-of-type {\n",
       "        vertical-align: middle;\n",
       "    }\n",
       "\n",
       "    .dataframe tbody tr th {\n",
       "        vertical-align: top;\n",
       "    }\n",
       "\n",
       "    .dataframe thead th {\n",
       "        text-align: right;\n",
       "    }\n",
       "</style>\n",
       "<table border=\"1\" class=\"dataframe\">\n",
       "  <thead>\n",
       "    <tr style=\"text-align: right;\">\n",
       "      <th></th>\n",
       "      <th>drink at home</th>\n",
       "      <th>drink at the office</th>\n",
       "      <th>drink on the go</th>\n",
       "      <th>drink at a cafe</th>\n",
       "      <th>drink at other place</th>\n",
       "      <th>brew Pour over coffe at home</th>\n",
       "      <th>brew French press coffee at home</th>\n",
       "      <th>brew Espresso coffee at home</th>\n",
       "      <th>brew Coffee brewing machine (e.g. Mr. Coffee) coffee at home</th>\n",
       "      <th>brew Pod/capsule machine (e.g. Keurig/Nespresso) coffee at home</th>\n",
       "      <th>...</th>\n",
       "      <th>brew Bean-to-cup machine coffee at home</th>\n",
       "      <th>brew Cold brew coffee at home</th>\n",
       "      <th>brew Coffee extract (e.g. Cometeer) coffee at home</th>\n",
       "      <th>brew Other coffee at home</th>\n",
       "      <th>OtG, purchase coffee at National chain (e.g. Starbucks, Dunkin)</th>\n",
       "      <th>OtG, purchase coffee at a Local cafe</th>\n",
       "      <th>OtG, purchase coffee at a Drive-thru</th>\n",
       "      <th>OtG, purchase coffee at a Specialty coffee shop</th>\n",
       "      <th>OtG, purchase coffee at a Deli or supermarket</th>\n",
       "      <th>OtG, purchase coffee at an Other Shop)</th>\n",
       "    </tr>\n",
       "    <tr>\n",
       "      <th>group</th>\n",
       "      <th></th>\n",
       "      <th></th>\n",
       "      <th></th>\n",
       "      <th></th>\n",
       "      <th></th>\n",
       "      <th></th>\n",
       "      <th></th>\n",
       "      <th></th>\n",
       "      <th></th>\n",
       "      <th></th>\n",
       "      <th></th>\n",
       "      <th></th>\n",
       "      <th></th>\n",
       "      <th></th>\n",
       "      <th></th>\n",
       "      <th></th>\n",
       "      <th></th>\n",
       "      <th></th>\n",
       "      <th></th>\n",
       "      <th></th>\n",
       "      <th></th>\n",
       "    </tr>\n",
       "  </thead>\n",
       "  <tbody>\n",
       "    <tr>\n",
       "      <th>0</th>\n",
       "      <td>1.0</td>\n",
       "      <td>0.390135</td>\n",
       "      <td>0.950673</td>\n",
       "      <td>0.053812</td>\n",
       "      <td>0.0</td>\n",
       "      <td>0.426009</td>\n",
       "      <td>0.165919</td>\n",
       "      <td>0.188341</td>\n",
       "      <td>0.340807</td>\n",
       "      <td>0.188341</td>\n",
       "      <td>...</td>\n",
       "      <td>0.022422</td>\n",
       "      <td>0.143498</td>\n",
       "      <td>0.076233</td>\n",
       "      <td>0.219731</td>\n",
       "      <td>0.547085</td>\n",
       "      <td>0.201794</td>\n",
       "      <td>0.125561</td>\n",
       "      <td>0.345291</td>\n",
       "      <td>0.076233</td>\n",
       "      <td>0.071749</td>\n",
       "    </tr>\n",
       "    <tr>\n",
       "      <th>1</th>\n",
       "      <td>1.0</td>\n",
       "      <td>0.682081</td>\n",
       "      <td>1.0</td>\n",
       "      <td>0.774566</td>\n",
       "      <td>0.0</td>\n",
       "      <td>0.618497</td>\n",
       "      <td>0.375723</td>\n",
       "      <td>0.526012</td>\n",
       "      <td>0.283237</td>\n",
       "      <td>0.202312</td>\n",
       "      <td>...</td>\n",
       "      <td>0.017341</td>\n",
       "      <td>0.387283</td>\n",
       "      <td>0.080925</td>\n",
       "      <td>0.16185</td>\n",
       "      <td>1.0</td>\n",
       "      <td>0.82659</td>\n",
       "      <td>0.242775</td>\n",
       "      <td>0.728324</td>\n",
       "      <td>0.063584</td>\n",
       "      <td>0.011561</td>\n",
       "    </tr>\n",
       "    <tr>\n",
       "      <th>2</th>\n",
       "      <td>1.0</td>\n",
       "      <td>0.652344</td>\n",
       "      <td>0.980469</td>\n",
       "      <td>0.707031</td>\n",
       "      <td>0.0</td>\n",
       "      <td>0.773438</td>\n",
       "      <td>0.265625</td>\n",
       "      <td>0.539062</td>\n",
       "      <td>0.171875</td>\n",
       "      <td>0.050781</td>\n",
       "      <td>...</td>\n",
       "      <td>0.03125</td>\n",
       "      <td>0.257812</td>\n",
       "      <td>0.070312</td>\n",
       "      <td>0.144531</td>\n",
       "      <td>0.0</td>\n",
       "      <td>0.675781</td>\n",
       "      <td>0.050781</td>\n",
       "      <td>0.8125</td>\n",
       "      <td>0.0625</td>\n",
       "      <td>0.050781</td>\n",
       "    </tr>\n",
       "  </tbody>\n",
       "</table>\n",
       "<p>3 rows × 21 columns</p>\n",
       "</div>"
      ],
      "text/plain": [
       "      drink at home drink at the office drink on the go drink at a cafe  \\\n",
       "group                                                                     \n",
       "0               1.0            0.390135        0.950673        0.053812   \n",
       "1               1.0            0.682081             1.0        0.774566   \n",
       "2               1.0            0.652344        0.980469        0.707031   \n",
       "\n",
       "      drink at other place brew Pour over coffe at home   \\\n",
       "group                                                      \n",
       "0                      0.0                      0.426009   \n",
       "1                      0.0                      0.618497   \n",
       "2                      0.0                      0.773438   \n",
       "\n",
       "      brew French press coffee at home brew Espresso coffee at home  \\\n",
       "group                                                                 \n",
       "0                             0.165919                     0.188341   \n",
       "1                             0.375723                     0.526012   \n",
       "2                             0.265625                     0.539062   \n",
       "\n",
       "      brew Coffee brewing machine (e.g. Mr. Coffee) coffee at home  \\\n",
       "group                                                                \n",
       "0                                               0.340807             \n",
       "1                                               0.283237             \n",
       "2                                               0.171875             \n",
       "\n",
       "      brew Pod/capsule machine (e.g. Keurig/Nespresso) coffee at home  ...  \\\n",
       "group                                                                  ...   \n",
       "0                                               0.188341               ...   \n",
       "1                                               0.202312               ...   \n",
       "2                                               0.050781               ...   \n",
       "\n",
       "      brew Bean-to-cup machine coffee at home brew Cold brew coffee at home  \\\n",
       "group                                                                         \n",
       "0                                    0.022422                      0.143498   \n",
       "1                                    0.017341                      0.387283   \n",
       "2                                     0.03125                      0.257812   \n",
       "\n",
       "      brew Coffee extract (e.g. Cometeer) coffee at home  \\\n",
       "group                                                      \n",
       "0                                               0.076233   \n",
       "1                                               0.080925   \n",
       "2                                               0.070312   \n",
       "\n",
       "      brew Other coffee at home  \\\n",
       "group                             \n",
       "0                      0.219731   \n",
       "1                       0.16185   \n",
       "2                      0.144531   \n",
       "\n",
       "      OtG, purchase coffee at National chain (e.g. Starbucks, Dunkin)  \\\n",
       "group                                                                   \n",
       "0                                               0.547085                \n",
       "1                                                    1.0                \n",
       "2                                                    0.0                \n",
       "\n",
       "      OtG, purchase coffee at a Local cafe  \\\n",
       "group                                        \n",
       "0                                 0.201794   \n",
       "1                                  0.82659   \n",
       "2                                 0.675781   \n",
       "\n",
       "      OtG, purchase coffee at a Drive-thru  \\\n",
       "group                                        \n",
       "0                                 0.125561   \n",
       "1                                 0.242775   \n",
       "2                                 0.050781   \n",
       "\n",
       "      OtG, purchase coffee at a Specialty coffee shop  \\\n",
       "group                                                   \n",
       "0                                            0.345291   \n",
       "1                                            0.728324   \n",
       "2                                              0.8125   \n",
       "\n",
       "      OtG, purchase coffee at a Deli or supermarket  \\\n",
       "group                                                 \n",
       "0                                          0.076233   \n",
       "1                                          0.063584   \n",
       "2                                            0.0625   \n",
       "\n",
       "      OtG, purchase coffee at an Other Shop)  \n",
       "group                                         \n",
       "0                                   0.071749  \n",
       "1                                   0.011561  \n",
       "2                                   0.050781  \n",
       "\n",
       "[3 rows x 21 columns]"
      ]
     },
     "execution_count": 89,
     "metadata": {},
     "output_type": "execute_result"
    }
   ],
   "source": [
    "profils_types = data_to_kmean.groupby(\"group\").mean()\n",
    "profils_types"
   ]
  },
  {
   "cell_type": "code",
   "execution_count": 90,
   "metadata": {},
   "outputs": [
    {
     "data": {
      "text/plain": [
       "array([[1.0, 0.3901345291479821, 0.9506726457399103,\n",
       "        0.053811659192825115, 0.0, 0.4260089686098655,\n",
       "        0.16591928251121077, 0.18834080717488788, 0.34080717488789236,\n",
       "        0.18834080717488788, 0.03587443946188341, 0.02242152466367713,\n",
       "        0.14349775784753363, 0.07623318385650224, 0.21973094170403587,\n",
       "        0.547085201793722, 0.20179372197309417, 0.12556053811659193,\n",
       "        0.3452914798206278, 0.07623318385650224, 0.07174887892376682],\n",
       "       [1.0, 0.6820809248554913, 1.0, 0.7745664739884393, 0.0,\n",
       "        0.6184971098265896, 0.37572254335260113, 0.5260115606936416,\n",
       "        0.2832369942196532, 0.2023121387283237, 0.07514450867052024,\n",
       "        0.017341040462427744, 0.3872832369942196, 0.08092485549132948,\n",
       "        0.16184971098265896, 1.0, 0.8265895953757225,\n",
       "        0.24277456647398843, 0.7283236994219653, 0.06358381502890173,\n",
       "        0.011560693641618497],\n",
       "       [1.0, 0.65234375, 0.98046875, 0.70703125, 0.0, 0.7734375,\n",
       "        0.265625, 0.5390625, 0.171875, 0.05078125, 0.05859375, 0.03125,\n",
       "        0.2578125, 0.0703125, 0.14453125, 0.0, 0.67578125, 0.05078125,\n",
       "        0.8125, 0.0625, 0.05078125]], dtype=object)"
      ]
     },
     "execution_count": 90,
     "metadata": {},
     "output_type": "execute_result"
    }
   ],
   "source": [
    "profils_types.values"
   ]
  },
  {
   "cell_type": "code",
   "execution_count": 91,
   "metadata": {},
   "outputs": [
    {
     "data": {
      "text/html": [
       "<div>\n",
       "<style scoped>\n",
       "    .dataframe tbody tr th:only-of-type {\n",
       "        vertical-align: middle;\n",
       "    }\n",
       "\n",
       "    .dataframe tbody tr th {\n",
       "        vertical-align: top;\n",
       "    }\n",
       "\n",
       "    .dataframe thead th {\n",
       "        text-align: right;\n",
       "    }\n",
       "</style>\n",
       "<table border=\"1\" class=\"dataframe\">\n",
       "  <thead>\n",
       "    <tr style=\"text-align: right;\">\n",
       "      <th></th>\n",
       "      <th>total_bill</th>\n",
       "      <th>tip</th>\n",
       "      <th>sex</th>\n",
       "      <th>smoker</th>\n",
       "      <th>day</th>\n",
       "      <th>time</th>\n",
       "      <th>size</th>\n",
       "    </tr>\n",
       "  </thead>\n",
       "  <tbody>\n",
       "    <tr>\n",
       "      <th>0</th>\n",
       "      <td>16.99</td>\n",
       "      <td>1.01</td>\n",
       "      <td>Female</td>\n",
       "      <td>No</td>\n",
       "      <td>Sun</td>\n",
       "      <td>Dinner</td>\n",
       "      <td>2</td>\n",
       "    </tr>\n",
       "    <tr>\n",
       "      <th>1</th>\n",
       "      <td>10.34</td>\n",
       "      <td>1.66</td>\n",
       "      <td>Male</td>\n",
       "      <td>No</td>\n",
       "      <td>Sun</td>\n",
       "      <td>Dinner</td>\n",
       "      <td>3</td>\n",
       "    </tr>\n",
       "    <tr>\n",
       "      <th>2</th>\n",
       "      <td>21.01</td>\n",
       "      <td>3.50</td>\n",
       "      <td>Male</td>\n",
       "      <td>No</td>\n",
       "      <td>Sun</td>\n",
       "      <td>Dinner</td>\n",
       "      <td>3</td>\n",
       "    </tr>\n",
       "    <tr>\n",
       "      <th>3</th>\n",
       "      <td>23.68</td>\n",
       "      <td>3.31</td>\n",
       "      <td>Male</td>\n",
       "      <td>No</td>\n",
       "      <td>Sun</td>\n",
       "      <td>Dinner</td>\n",
       "      <td>2</td>\n",
       "    </tr>\n",
       "    <tr>\n",
       "      <th>4</th>\n",
       "      <td>24.59</td>\n",
       "      <td>3.61</td>\n",
       "      <td>Female</td>\n",
       "      <td>No</td>\n",
       "      <td>Sun</td>\n",
       "      <td>Dinner</td>\n",
       "      <td>4</td>\n",
       "    </tr>\n",
       "    <tr>\n",
       "      <th>...</th>\n",
       "      <td>...</td>\n",
       "      <td>...</td>\n",
       "      <td>...</td>\n",
       "      <td>...</td>\n",
       "      <td>...</td>\n",
       "      <td>...</td>\n",
       "      <td>...</td>\n",
       "    </tr>\n",
       "    <tr>\n",
       "      <th>239</th>\n",
       "      <td>29.03</td>\n",
       "      <td>5.92</td>\n",
       "      <td>Male</td>\n",
       "      <td>No</td>\n",
       "      <td>Sat</td>\n",
       "      <td>Dinner</td>\n",
       "      <td>3</td>\n",
       "    </tr>\n",
       "    <tr>\n",
       "      <th>240</th>\n",
       "      <td>27.18</td>\n",
       "      <td>2.00</td>\n",
       "      <td>Female</td>\n",
       "      <td>Yes</td>\n",
       "      <td>Sat</td>\n",
       "      <td>Dinner</td>\n",
       "      <td>2</td>\n",
       "    </tr>\n",
       "    <tr>\n",
       "      <th>241</th>\n",
       "      <td>22.67</td>\n",
       "      <td>2.00</td>\n",
       "      <td>Male</td>\n",
       "      <td>Yes</td>\n",
       "      <td>Sat</td>\n",
       "      <td>Dinner</td>\n",
       "      <td>2</td>\n",
       "    </tr>\n",
       "    <tr>\n",
       "      <th>242</th>\n",
       "      <td>17.82</td>\n",
       "      <td>1.75</td>\n",
       "      <td>Male</td>\n",
       "      <td>No</td>\n",
       "      <td>Sat</td>\n",
       "      <td>Dinner</td>\n",
       "      <td>2</td>\n",
       "    </tr>\n",
       "    <tr>\n",
       "      <th>243</th>\n",
       "      <td>18.78</td>\n",
       "      <td>3.00</td>\n",
       "      <td>Female</td>\n",
       "      <td>No</td>\n",
       "      <td>Thur</td>\n",
       "      <td>Dinner</td>\n",
       "      <td>2</td>\n",
       "    </tr>\n",
       "  </tbody>\n",
       "</table>\n",
       "<p>244 rows × 7 columns</p>\n",
       "</div>"
      ],
      "text/plain": [
       "     total_bill   tip     sex smoker   day    time  size\n",
       "0         16.99  1.01  Female     No   Sun  Dinner     2\n",
       "1         10.34  1.66    Male     No   Sun  Dinner     3\n",
       "2         21.01  3.50    Male     No   Sun  Dinner     3\n",
       "3         23.68  3.31    Male     No   Sun  Dinner     2\n",
       "4         24.59  3.61  Female     No   Sun  Dinner     4\n",
       "..          ...   ...     ...    ...   ...     ...   ...\n",
       "239       29.03  5.92    Male     No   Sat  Dinner     3\n",
       "240       27.18  2.00  Female    Yes   Sat  Dinner     2\n",
       "241       22.67  2.00    Male    Yes   Sat  Dinner     2\n",
       "242       17.82  1.75    Male     No   Sat  Dinner     2\n",
       "243       18.78  3.00  Female     No  Thur  Dinner     2\n",
       "\n",
       "[244 rows x 7 columns]"
      ]
     },
     "execution_count": 91,
     "metadata": {},
     "output_type": "execute_result"
    }
   ],
   "source": [
    "df = px.data.tips()\n",
    "df"
   ]
  },
  {
   "cell_type": "code",
   "execution_count": 92,
   "metadata": {},
   "outputs": [
    {
     "data": {
      "application/vnd.plotly.v1+json": {
       "config": {
        "plotlyServerURL": "https://plot.ly"
       },
       "data": [
        {
         "alignmentgroup": "True",
         "hovertemplate": "<extra></extra>",
         "legendgroup": "",
         "marker": {
          "color": "#636efa",
          "pattern": {
           "shape": ""
          }
         },
         "name": "",
         "offsetgroup": "",
         "orientation": "v",
         "showlegend": false,
         "textposition": "auto",
         "type": "bar",
         "xaxis": "x",
         "yaxis": "y"
        },
        {
         "name": "0",
         "type": "bar",
         "x": [
          "drink at home",
          "drink at the office",
          "drink on the go",
          "drink at a cafe",
          "drink at other place",
          "brew Pour over coffe at home ",
          "brew French press coffee at home",
          "brew Espresso coffee at home",
          "brew Coffee brewing machine (e.g. Mr. Coffee) coffee at home",
          "brew Pod/capsule machine (e.g. Keurig/Nespresso) coffee at home",
          "brew Instant coffee coffee at home",
          "brew Bean-to-cup machine coffee at home",
          "brew Cold brew coffee at home",
          "brew Coffee extract (e.g. Cometeer) coffee at home",
          "brew Other coffee at home",
          "OtG, purchase coffee at National chain (e.g. Starbucks, Dunkin)",
          "OtG, purchase coffee at a Local cafe",
          "OtG, purchase coffee at a Drive-thru",
          "OtG, purchase coffee at a Specialty coffee shop",
          "OtG, purchase coffee at a Deli or supermarket",
          "OtG, purchase coffee at an Other Shop)"
         ],
         "y": [
          1,
          0.3901345291479821,
          0.9506726457399103,
          0.053811659192825115,
          0,
          0.4260089686098655,
          0.16591928251121077,
          0.18834080717488788,
          0.34080717488789236,
          0.18834080717488788,
          0.03587443946188341,
          0.02242152466367713,
          0.14349775784753363,
          0.07623318385650224,
          0.21973094170403587,
          0.547085201793722,
          0.20179372197309417,
          0.12556053811659193,
          0.3452914798206278,
          0.07623318385650224,
          0.07174887892376682
         ]
        },
        {
         "name": "1",
         "type": "bar",
         "x": [
          "drink at home",
          "drink at the office",
          "drink on the go",
          "drink at a cafe",
          "drink at other place",
          "brew Pour over coffe at home ",
          "brew French press coffee at home",
          "brew Espresso coffee at home",
          "brew Coffee brewing machine (e.g. Mr. Coffee) coffee at home",
          "brew Pod/capsule machine (e.g. Keurig/Nespresso) coffee at home",
          "brew Instant coffee coffee at home",
          "brew Bean-to-cup machine coffee at home",
          "brew Cold brew coffee at home",
          "brew Coffee extract (e.g. Cometeer) coffee at home",
          "brew Other coffee at home",
          "OtG, purchase coffee at National chain (e.g. Starbucks, Dunkin)",
          "OtG, purchase coffee at a Local cafe",
          "OtG, purchase coffee at a Drive-thru",
          "OtG, purchase coffee at a Specialty coffee shop",
          "OtG, purchase coffee at a Deli or supermarket",
          "OtG, purchase coffee at an Other Shop)"
         ],
         "y": [
          1,
          0.6820809248554913,
          1,
          0.7745664739884393,
          0,
          0.6184971098265896,
          0.37572254335260113,
          0.5260115606936416,
          0.2832369942196532,
          0.2023121387283237,
          0.07514450867052024,
          0.017341040462427744,
          0.3872832369942196,
          0.08092485549132948,
          0.16184971098265896,
          1,
          0.8265895953757225,
          0.24277456647398843,
          0.7283236994219653,
          0.06358381502890173,
          0.011560693641618497
         ]
        },
        {
         "name": "2",
         "type": "bar",
         "x": [
          "drink at home",
          "drink at the office",
          "drink on the go",
          "drink at a cafe",
          "drink at other place",
          "brew Pour over coffe at home ",
          "brew French press coffee at home",
          "brew Espresso coffee at home",
          "brew Coffee brewing machine (e.g. Mr. Coffee) coffee at home",
          "brew Pod/capsule machine (e.g. Keurig/Nespresso) coffee at home",
          "brew Instant coffee coffee at home",
          "brew Bean-to-cup machine coffee at home",
          "brew Cold brew coffee at home",
          "brew Coffee extract (e.g. Cometeer) coffee at home",
          "brew Other coffee at home",
          "OtG, purchase coffee at National chain (e.g. Starbucks, Dunkin)",
          "OtG, purchase coffee at a Local cafe",
          "OtG, purchase coffee at a Drive-thru",
          "OtG, purchase coffee at a Specialty coffee shop",
          "OtG, purchase coffee at a Deli or supermarket",
          "OtG, purchase coffee at an Other Shop)"
         ],
         "y": [
          1,
          0.65234375,
          0.98046875,
          0.70703125,
          0,
          0.7734375,
          0.265625,
          0.5390625,
          0.171875,
          0.05078125,
          0.05859375,
          0.03125,
          0.2578125,
          0.0703125,
          0.14453125,
          0,
          0.67578125,
          0.05078125,
          0.8125,
          0.0625,
          0.05078125
         ]
        }
       ],
       "layout": {
        "barmode": "group",
        "legend": {
         "tracegroupgap": 0
        },
        "template": {
         "data": {
          "bar": [
           {
            "error_x": {
             "color": "#2a3f5f"
            },
            "error_y": {
             "color": "#2a3f5f"
            },
            "marker": {
             "line": {
              "color": "#E5ECF6",
              "width": 0.5
             },
             "pattern": {
              "fillmode": "overlay",
              "size": 10,
              "solidity": 0.2
             }
            },
            "type": "bar"
           }
          ],
          "barpolar": [
           {
            "marker": {
             "line": {
              "color": "#E5ECF6",
              "width": 0.5
             },
             "pattern": {
              "fillmode": "overlay",
              "size": 10,
              "solidity": 0.2
             }
            },
            "type": "barpolar"
           }
          ],
          "carpet": [
           {
            "aaxis": {
             "endlinecolor": "#2a3f5f",
             "gridcolor": "white",
             "linecolor": "white",
             "minorgridcolor": "white",
             "startlinecolor": "#2a3f5f"
            },
            "baxis": {
             "endlinecolor": "#2a3f5f",
             "gridcolor": "white",
             "linecolor": "white",
             "minorgridcolor": "white",
             "startlinecolor": "#2a3f5f"
            },
            "type": "carpet"
           }
          ],
          "choropleth": [
           {
            "colorbar": {
             "outlinewidth": 0,
             "ticks": ""
            },
            "type": "choropleth"
           }
          ],
          "contour": [
           {
            "colorbar": {
             "outlinewidth": 0,
             "ticks": ""
            },
            "colorscale": [
             [
              0,
              "#0d0887"
             ],
             [
              0.1111111111111111,
              "#46039f"
             ],
             [
              0.2222222222222222,
              "#7201a8"
             ],
             [
              0.3333333333333333,
              "#9c179e"
             ],
             [
              0.4444444444444444,
              "#bd3786"
             ],
             [
              0.5555555555555556,
              "#d8576b"
             ],
             [
              0.6666666666666666,
              "#ed7953"
             ],
             [
              0.7777777777777778,
              "#fb9f3a"
             ],
             [
              0.8888888888888888,
              "#fdca26"
             ],
             [
              1,
              "#f0f921"
             ]
            ],
            "type": "contour"
           }
          ],
          "contourcarpet": [
           {
            "colorbar": {
             "outlinewidth": 0,
             "ticks": ""
            },
            "type": "contourcarpet"
           }
          ],
          "heatmap": [
           {
            "colorbar": {
             "outlinewidth": 0,
             "ticks": ""
            },
            "colorscale": [
             [
              0,
              "#0d0887"
             ],
             [
              0.1111111111111111,
              "#46039f"
             ],
             [
              0.2222222222222222,
              "#7201a8"
             ],
             [
              0.3333333333333333,
              "#9c179e"
             ],
             [
              0.4444444444444444,
              "#bd3786"
             ],
             [
              0.5555555555555556,
              "#d8576b"
             ],
             [
              0.6666666666666666,
              "#ed7953"
             ],
             [
              0.7777777777777778,
              "#fb9f3a"
             ],
             [
              0.8888888888888888,
              "#fdca26"
             ],
             [
              1,
              "#f0f921"
             ]
            ],
            "type": "heatmap"
           }
          ],
          "heatmapgl": [
           {
            "colorbar": {
             "outlinewidth": 0,
             "ticks": ""
            },
            "colorscale": [
             [
              0,
              "#0d0887"
             ],
             [
              0.1111111111111111,
              "#46039f"
             ],
             [
              0.2222222222222222,
              "#7201a8"
             ],
             [
              0.3333333333333333,
              "#9c179e"
             ],
             [
              0.4444444444444444,
              "#bd3786"
             ],
             [
              0.5555555555555556,
              "#d8576b"
             ],
             [
              0.6666666666666666,
              "#ed7953"
             ],
             [
              0.7777777777777778,
              "#fb9f3a"
             ],
             [
              0.8888888888888888,
              "#fdca26"
             ],
             [
              1,
              "#f0f921"
             ]
            ],
            "type": "heatmapgl"
           }
          ],
          "histogram": [
           {
            "marker": {
             "pattern": {
              "fillmode": "overlay",
              "size": 10,
              "solidity": 0.2
             }
            },
            "type": "histogram"
           }
          ],
          "histogram2d": [
           {
            "colorbar": {
             "outlinewidth": 0,
             "ticks": ""
            },
            "colorscale": [
             [
              0,
              "#0d0887"
             ],
             [
              0.1111111111111111,
              "#46039f"
             ],
             [
              0.2222222222222222,
              "#7201a8"
             ],
             [
              0.3333333333333333,
              "#9c179e"
             ],
             [
              0.4444444444444444,
              "#bd3786"
             ],
             [
              0.5555555555555556,
              "#d8576b"
             ],
             [
              0.6666666666666666,
              "#ed7953"
             ],
             [
              0.7777777777777778,
              "#fb9f3a"
             ],
             [
              0.8888888888888888,
              "#fdca26"
             ],
             [
              1,
              "#f0f921"
             ]
            ],
            "type": "histogram2d"
           }
          ],
          "histogram2dcontour": [
           {
            "colorbar": {
             "outlinewidth": 0,
             "ticks": ""
            },
            "colorscale": [
             [
              0,
              "#0d0887"
             ],
             [
              0.1111111111111111,
              "#46039f"
             ],
             [
              0.2222222222222222,
              "#7201a8"
             ],
             [
              0.3333333333333333,
              "#9c179e"
             ],
             [
              0.4444444444444444,
              "#bd3786"
             ],
             [
              0.5555555555555556,
              "#d8576b"
             ],
             [
              0.6666666666666666,
              "#ed7953"
             ],
             [
              0.7777777777777778,
              "#fb9f3a"
             ],
             [
              0.8888888888888888,
              "#fdca26"
             ],
             [
              1,
              "#f0f921"
             ]
            ],
            "type": "histogram2dcontour"
           }
          ],
          "mesh3d": [
           {
            "colorbar": {
             "outlinewidth": 0,
             "ticks": ""
            },
            "type": "mesh3d"
           }
          ],
          "parcoords": [
           {
            "line": {
             "colorbar": {
              "outlinewidth": 0,
              "ticks": ""
             }
            },
            "type": "parcoords"
           }
          ],
          "pie": [
           {
            "automargin": true,
            "type": "pie"
           }
          ],
          "scatter": [
           {
            "fillpattern": {
             "fillmode": "overlay",
             "size": 10,
             "solidity": 0.2
            },
            "type": "scatter"
           }
          ],
          "scatter3d": [
           {
            "line": {
             "colorbar": {
              "outlinewidth": 0,
              "ticks": ""
             }
            },
            "marker": {
             "colorbar": {
              "outlinewidth": 0,
              "ticks": ""
             }
            },
            "type": "scatter3d"
           }
          ],
          "scattercarpet": [
           {
            "marker": {
             "colorbar": {
              "outlinewidth": 0,
              "ticks": ""
             }
            },
            "type": "scattercarpet"
           }
          ],
          "scattergeo": [
           {
            "marker": {
             "colorbar": {
              "outlinewidth": 0,
              "ticks": ""
             }
            },
            "type": "scattergeo"
           }
          ],
          "scattergl": [
           {
            "marker": {
             "colorbar": {
              "outlinewidth": 0,
              "ticks": ""
             }
            },
            "type": "scattergl"
           }
          ],
          "scattermapbox": [
           {
            "marker": {
             "colorbar": {
              "outlinewidth": 0,
              "ticks": ""
             }
            },
            "type": "scattermapbox"
           }
          ],
          "scatterpolar": [
           {
            "marker": {
             "colorbar": {
              "outlinewidth": 0,
              "ticks": ""
             }
            },
            "type": "scatterpolar"
           }
          ],
          "scatterpolargl": [
           {
            "marker": {
             "colorbar": {
              "outlinewidth": 0,
              "ticks": ""
             }
            },
            "type": "scatterpolargl"
           }
          ],
          "scatterternary": [
           {
            "marker": {
             "colorbar": {
              "outlinewidth": 0,
              "ticks": ""
             }
            },
            "type": "scatterternary"
           }
          ],
          "surface": [
           {
            "colorbar": {
             "outlinewidth": 0,
             "ticks": ""
            },
            "colorscale": [
             [
              0,
              "#0d0887"
             ],
             [
              0.1111111111111111,
              "#46039f"
             ],
             [
              0.2222222222222222,
              "#7201a8"
             ],
             [
              0.3333333333333333,
              "#9c179e"
             ],
             [
              0.4444444444444444,
              "#bd3786"
             ],
             [
              0.5555555555555556,
              "#d8576b"
             ],
             [
              0.6666666666666666,
              "#ed7953"
             ],
             [
              0.7777777777777778,
              "#fb9f3a"
             ],
             [
              0.8888888888888888,
              "#fdca26"
             ],
             [
              1,
              "#f0f921"
             ]
            ],
            "type": "surface"
           }
          ],
          "table": [
           {
            "cells": {
             "fill": {
              "color": "#EBF0F8"
             },
             "line": {
              "color": "white"
             }
            },
            "header": {
             "fill": {
              "color": "#C8D4E3"
             },
             "line": {
              "color": "white"
             }
            },
            "type": "table"
           }
          ]
         },
         "layout": {
          "annotationdefaults": {
           "arrowcolor": "#2a3f5f",
           "arrowhead": 0,
           "arrowwidth": 1
          },
          "autotypenumbers": "strict",
          "coloraxis": {
           "colorbar": {
            "outlinewidth": 0,
            "ticks": ""
           }
          },
          "colorscale": {
           "diverging": [
            [
             0,
             "#8e0152"
            ],
            [
             0.1,
             "#c51b7d"
            ],
            [
             0.2,
             "#de77ae"
            ],
            [
             0.3,
             "#f1b6da"
            ],
            [
             0.4,
             "#fde0ef"
            ],
            [
             0.5,
             "#f7f7f7"
            ],
            [
             0.6,
             "#e6f5d0"
            ],
            [
             0.7,
             "#b8e186"
            ],
            [
             0.8,
             "#7fbc41"
            ],
            [
             0.9,
             "#4d9221"
            ],
            [
             1,
             "#276419"
            ]
           ],
           "sequential": [
            [
             0,
             "#0d0887"
            ],
            [
             0.1111111111111111,
             "#46039f"
            ],
            [
             0.2222222222222222,
             "#7201a8"
            ],
            [
             0.3333333333333333,
             "#9c179e"
            ],
            [
             0.4444444444444444,
             "#bd3786"
            ],
            [
             0.5555555555555556,
             "#d8576b"
            ],
            [
             0.6666666666666666,
             "#ed7953"
            ],
            [
             0.7777777777777778,
             "#fb9f3a"
            ],
            [
             0.8888888888888888,
             "#fdca26"
            ],
            [
             1,
             "#f0f921"
            ]
           ],
           "sequentialminus": [
            [
             0,
             "#0d0887"
            ],
            [
             0.1111111111111111,
             "#46039f"
            ],
            [
             0.2222222222222222,
             "#7201a8"
            ],
            [
             0.3333333333333333,
             "#9c179e"
            ],
            [
             0.4444444444444444,
             "#bd3786"
            ],
            [
             0.5555555555555556,
             "#d8576b"
            ],
            [
             0.6666666666666666,
             "#ed7953"
            ],
            [
             0.7777777777777778,
             "#fb9f3a"
            ],
            [
             0.8888888888888888,
             "#fdca26"
            ],
            [
             1,
             "#f0f921"
            ]
           ]
          },
          "colorway": [
           "#636efa",
           "#EF553B",
           "#00cc96",
           "#ab63fa",
           "#FFA15A",
           "#19d3f3",
           "#FF6692",
           "#B6E880",
           "#FF97FF",
           "#FECB52"
          ],
          "font": {
           "color": "#2a3f5f"
          },
          "geo": {
           "bgcolor": "white",
           "lakecolor": "white",
           "landcolor": "#E5ECF6",
           "showlakes": true,
           "showland": true,
           "subunitcolor": "white"
          },
          "hoverlabel": {
           "align": "left"
          },
          "hovermode": "closest",
          "mapbox": {
           "style": "light"
          },
          "paper_bgcolor": "white",
          "plot_bgcolor": "#E5ECF6",
          "polar": {
           "angularaxis": {
            "gridcolor": "white",
            "linecolor": "white",
            "ticks": ""
           },
           "bgcolor": "#E5ECF6",
           "radialaxis": {
            "gridcolor": "white",
            "linecolor": "white",
            "ticks": ""
           }
          },
          "scene": {
           "xaxis": {
            "backgroundcolor": "#E5ECF6",
            "gridcolor": "white",
            "gridwidth": 2,
            "linecolor": "white",
            "showbackground": true,
            "ticks": "",
            "zerolinecolor": "white"
           },
           "yaxis": {
            "backgroundcolor": "#E5ECF6",
            "gridcolor": "white",
            "gridwidth": 2,
            "linecolor": "white",
            "showbackground": true,
            "ticks": "",
            "zerolinecolor": "white"
           },
           "zaxis": {
            "backgroundcolor": "#E5ECF6",
            "gridcolor": "white",
            "gridwidth": 2,
            "linecolor": "white",
            "showbackground": true,
            "ticks": "",
            "zerolinecolor": "white"
           }
          },
          "shapedefaults": {
           "line": {
            "color": "#2a3f5f"
           }
          },
          "ternary": {
           "aaxis": {
            "gridcolor": "white",
            "linecolor": "white",
            "ticks": ""
           },
           "baxis": {
            "gridcolor": "white",
            "linecolor": "white",
            "ticks": ""
           },
           "bgcolor": "#E5ECF6",
           "caxis": {
            "gridcolor": "white",
            "linecolor": "white",
            "ticks": ""
           }
          },
          "title": {
           "x": 0.05
          },
          "xaxis": {
           "automargin": true,
           "gridcolor": "white",
           "linecolor": "white",
           "ticks": "",
           "title": {
            "standoff": 15
           },
           "zerolinecolor": "white",
           "zerolinewidth": 2
          },
          "yaxis": {
           "automargin": true,
           "gridcolor": "white",
           "linecolor": "white",
           "ticks": "",
           "title": {
            "standoff": 15
           },
           "zerolinecolor": "white",
           "zerolinewidth": 2
          }
         }
        },
        "title": {
         "text": "répartition des jeux en fonction des genres"
        },
        "xaxis": {
         "anchor": "y",
         "domain": [
          0,
          1
         ]
        },
        "yaxis": {
         "anchor": "x",
         "domain": [
          0,
          1
         ]
        }
       }
      }
     },
     "metadata": {},
     "output_type": "display_data"
    }
   ],
   "source": [
    "fig = px.bar(title=\"répartition des jeux en fonction des genres\", barmode='group')\n",
    "values = profils_types.values\n",
    "for i,j in enumerate(values):\n",
    "    fig.add_bar(\n",
    "        x = profils_types.columns,\n",
    "        y = j,\n",
    "        name = str(i),\n",
    "    )\n",
    "fig.show()\n"
   ]
  }
 ],
 "metadata": {
  "kernelspec": {
   "display_name": "Python 3",
   "language": "python",
   "name": "python3"
  },
  "language_info": {
   "codemirror_mode": {
    "name": "ipython",
    "version": 3
   },
   "file_extension": ".py",
   "mimetype": "text/x-python",
   "name": "python",
   "nbconvert_exporter": "python",
   "pygments_lexer": "ipython3",
   "version": "3.11.2"
  }
 },
 "nbformat": 4,
 "nbformat_minor": 2
}
