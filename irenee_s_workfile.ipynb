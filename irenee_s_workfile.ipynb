{
 "cells": [
  {
   "cell_type": "markdown",
   "metadata": {},
   "source": [
    "<h1 style=\"font-weight:bold;color:#750073;text-align:center\">TP : Classification avec le jeu de données Breast Cancer Wisconsin</h1>"
   ]
  },
  {
   "cell_type": "markdown",
   "metadata": {},
   "source": [
    "<h3 style=\"font-weight:bold;color:#000F78;text-align:left\">Objectif :</h3>\n",
    "<p>Explorer un jeu de données, effectuer une visualisation, préparer les données, construire un modèle de classification et évaluer sa performance pour diagnostiquer le cancer du sein.</p>"
   ]
  },
  {
   "cell_type": "markdown",
   "metadata": {},
   "source": [
    "<h3 style=\"font-weight:bold;color:#000F78;text-align:left\">Étapes :</h3>"
   ]
  },
  {
   "cell_type": "markdown",
   "metadata": {},
   "source": [
    "<h5 style=\"font-weight:baold;color:#AC04CD;text-align:left\">Importation des bibliothèques : Importez les bibliothèques nécessaires, y compris scikit-learn, NumPy, Pandas et Matplotlib pour la visualisation.</h5"
   ]
  },
  {
   "cell_type": "code",
   "execution_count": 165,
   "metadata": {},
   "outputs": [],
   "source": [
    "import pandas as pd \n",
    "import numpy as np\n",
    "import matplotlib.pyplot as plt\n",
    "import plotly.express as px\n",
    "import sklearn as skl\n",
    "import sklearn.cluster as clt"
   ]
  },
  {
   "cell_type": "markdown",
   "metadata": {},
   "source": [
    "<h5 style=\"font-weight:baold;color:#AC04CD;text-align:left\">Chargement des données : Chargez le jeu de données \"gactt_restult\" en utilisant la fonction read_csv de panda.</h5>"
   ]
  },
  {
   "cell_type": "code",
   "execution_count": 166,
   "metadata": {},
   "outputs": [],
   "source": [
    "data = pd.read_csv(\"archive/GACTT_RESULTS_ANONYMIZED.csv\")"
   ]
  },
  {
   "cell_type": "code",
   "execution_count": 167,
   "metadata": {},
   "outputs": [
    {
     "name": "stdout",
     "output_type": "stream",
     "text": [
      "Submission ID\n",
      "Respondent ID\n",
      "Submitted at\n",
      "What is your age?\n",
      "What is your ZIP code?\n",
      "How many cups of coffee do you typically drink per day?\n",
      "Where do you typically drink coffee?\n",
      "Where do you typically drink coffee? (At home)\n",
      "Where do you typically drink coffee? (At the office)\n",
      "Where do you typically drink coffee? (On the go)\n",
      "Where do you typically drink coffee? (At a cafe)\n",
      "Where do you typically drink coffee? (None of these)\n",
      "How do you brew coffee at home?\n",
      "How do you brew coffee at home? (Pour over)\n",
      "How do you brew coffee at home? (French press)\n",
      "How do you brew coffee at home? (Espresso)\n",
      "How do you brew coffee at home? (Coffee brewing machine (e.g. Mr. Coffee))\n",
      "How do you brew coffee at home? (Pod/capsule machine (e.g. Keurig/Nespresso))\n",
      "How do you brew coffee at home? (Instant coffee)\n",
      "How do you brew coffee at home? (Bean-to-cup machine)\n",
      "How do you brew coffee at home? (Cold brew)\n",
      "How do you brew coffee at home? (Coffee extract (e.g. Cometeer))\n",
      "How do you brew coffee at home? (Other)\n",
      "How else do you brew coffee at home?\n",
      "On the go, where do you typically purchase coffee?\n",
      "On the go, where do you typically purchase coffee? (National chain (e.g. Starbucks, Dunkin))\n",
      "On the go, where do you typically purchase coffee? (Local cafe)\n",
      "On the go, where do you typically purchase coffee? (Drive-thru)\n",
      "On the go, where do you typically purchase coffee? (Specialty coffee shop)\n",
      "On the go, where do you typically purchase coffee? (Deli or supermarket)\n",
      "On the go, where do you typically purchase coffee? (Other)\n",
      "Where else do you purchase coffee?\n",
      "What is your favorite coffee drink?\n",
      "Please specify what your favorite coffee drink is\n",
      "Do you usually add anything to your coffee?\n",
      "Do you usually add anything to your coffee? (No - just black)\n",
      "Do you usually add anything to your coffee? (Milk, dairy alternative, or coffee creamer)\n",
      "Do you usually add anything to your coffee? (Sugar or sweetener)\n",
      "Do you usually add anything to your coffee? (Flavor syrup)\n",
      "Do you usually add anything to your coffee? (Other)\n",
      "What else do you add to your coffee?\n",
      "What kind of dairy do you add?\n",
      "What kind of dairy do you add? (Whole milk)\n",
      "What kind of dairy do you add? (Skim milk)\n",
      "What kind of dairy do you add? (Half and half)\n",
      "What kind of dairy do you add? (Coffee creamer)\n",
      "What kind of dairy do you add? (Flavored coffee creamer)\n",
      "What kind of dairy do you add? (Oat milk)\n",
      "What kind of dairy do you add? (Almond milk)\n",
      "What kind of dairy do you add? (Soy milk)\n",
      "What kind of dairy do you add? (Other)\n",
      "What kind of sugar or sweetener do you add?\n",
      "What kind of sugar or sweetener do you add? (Granulated Sugar)\n",
      "What kind of sugar or sweetener do you add? (Artificial Sweeteners (e.g., Splenda))\n",
      "What kind of sugar or sweetener do you add? (Honey)\n",
      "What kind of sugar or sweetener do you add? (Maple Syrup)\n",
      "What kind of sugar or sweetener do you add? (Stevia)\n",
      "What kind of sugar or sweetener do you add? (Agave Nectar)\n",
      "What kind of sugar or sweetener do you add? (Brown Sugar)\n",
      "What kind of sugar or sweetener do you add? (Raw Sugar (Turbinado))\n",
      "What kind of flavorings do you add?\n",
      "What kind of flavorings do you add? (Vanilla Syrup)\n",
      "What kind of flavorings do you add? (Caramel Syrup)\n",
      "What kind of flavorings do you add? (Hazelnut Syrup)\n",
      "What kind of flavorings do you add? (Cinnamon (Ground or Stick))\n",
      "What kind of flavorings do you add? (Peppermint Syrup)\n",
      "What kind of flavorings do you add? (Other)\n",
      "What other flavoring do you use?\n",
      "Before today's tasting, which of the following best described what kind of coffee you like?\n",
      "How strong do you like your coffee?\n",
      "What roast level of coffee do you prefer?\n",
      "How much caffeine do you like in your coffee?\n",
      "Lastly, how would you rate your own coffee expertise?\n",
      "Coffee A - Bitterness\n",
      "Coffee A - Acidity\n",
      "Coffee A - Personal Preference\n",
      "Coffee A - Notes\n",
      "Coffee B - Bitterness\n",
      "Coffee B - Acidity\n",
      "Coffee B - Personal Preference\n",
      "Coffee B - Notes\n",
      "Coffee C - Bitterness\n",
      "Coffee C - Acidity\n",
      "Coffee C - Personal Preference\n",
      "Coffee C - Notes\n",
      "Coffee D - Bitterness\n",
      "Coffee D - Acidity\n",
      "Coffee D - Personal Preference\n",
      "Coffee D - Notes\n",
      "Between Coffee A, Coffee B, and Coffee C which did you prefer?\n",
      "Between Coffee A and Coffee D, which did you prefer?\n",
      "Lastly, what was your favorite overall coffee?\n",
      "Do you work from home or in person?\n",
      "In total, much money do you typically spend on coffee in a month?\n",
      "Why do you drink coffee?\n",
      "Why do you drink coffee? (It tastes good)\n",
      "Why do you drink coffee? (I need the caffeine)\n",
      "Why do you drink coffee? (I need the ritual)\n",
      "Why do you drink coffee? (It makes me go to the bathroom)\n",
      "Why do you drink coffee? (Other)\n",
      "Other reason for drinking coffee\n",
      "Do you like the taste of coffee?\n",
      "Do you know where your coffee comes from?\n",
      "What is the most you've ever paid for a cup of coffee?\n",
      "What is the most you'd ever be willing to pay for a cup of coffee?\n",
      "Do you feel like you’re getting good value for your money when you buy coffee at a cafe?\n",
      "Approximately how much have you spent on coffee equipment in the past 5 years?\n",
      "Do you feel like you’re getting good value for your money with regards to your coffee equipment?\n",
      "Gender\n",
      "Gender (please specify)\n",
      "Marital Status\n",
      "Household Income\n",
      "Education Level\n",
      "Ethnicity/Race\n",
      "Ethnicity/Race (please specify)\n",
      "Employment Status\n",
      "Number of Children\n",
      "Political Affiliation\n"
     ]
    }
   ],
   "source": [
    "n = data.columns\n",
    "for i in n:\n",
    "    print(i)"
   ]
  },
  {
   "cell_type": "code",
   "execution_count": 168,
   "metadata": {},
   "outputs": [],
   "source": [
    "liste_colomn = \"\"\"\\\n",
    "Where do you typically drink coffee? (At home)\n",
    "Where do you typically drink coffee? (At the office)\n",
    "Where do you typically drink coffee? (On the go)\n",
    "Where do you typically drink coffee? (At a cafe)\n",
    "Where do you typically drink coffee? (None of these)\n",
    "How do you brew coffee at home? (Pour over)\n",
    "How do you brew coffee at home? (French press)\n",
    "How do you brew coffee at home? (Espresso)\n",
    "How do you brew coffee at home? (Coffee brewing machine (e.g. Mr. Coffee))\n",
    "How do you brew coffee at home? (Pod/capsule machine (e.g. Keurig/Nespresso))\n",
    "How do you brew coffee at home? (Instant coffee)\n",
    "How do you brew coffee at home? (Bean-to-cup machine)\n",
    "How do you brew coffee at home? (Cold brew)\n",
    "How do you brew coffee at home? (Coffee extract (e.g. Cometeer))\n",
    "How do you brew coffee at home? (Other)\n",
    "On the go, where do you typically purchase coffee? (National chain (e.g. Starbucks, Dunkin))\n",
    "On the go, where do you typically purchase coffee? (Local cafe)\n",
    "On the go, where do you typically purchase coffee? (Drive-thru)\n",
    "On the go, where do you typically purchase coffee? (Specialty coffee shop)\n",
    "On the go, where do you typically purchase coffee? (Deli or supermarket)\n",
    "On the go, where do you typically purchase coffee? (Other)\\\n",
    "\"\"\".split('\\n')"
   ]
  },
  {
   "cell_type": "code",
   "execution_count": 169,
   "metadata": {},
   "outputs": [],
   "source": [
    "renamed_colomn = \"\"\"\\\n",
    "drink at home\n",
    "drink at the office\n",
    "drink on the go\n",
    "drink at a cafe\n",
    "drink at other place\n",
    "brew Pour over coffe at home \n",
    "brew French press coffee at home\n",
    "brew Espresso coffee at home\n",
    "brew Coffee brewing machine (e.g. Mr. Coffee) coffee at home\n",
    "brew Pod/capsule machine (e.g. Keurig/Nespresso) coffee at home\n",
    "brew Instant coffee coffee at home\n",
    "brew Bean-to-cup machine coffee at home\n",
    "brew Cold brew coffee at home\n",
    "brew Coffee extract (e.g. Cometeer) coffee at home\n",
    "brew Other coffee at home\n",
    "OtG, purchase coffee at National chain (e.g. Starbucks, Dunkin)\n",
    "OtG, purchase coffee at a Local cafe\n",
    "OtG, purchase coffee at a Drive-thru\n",
    "OtG, purchase coffee at a Specialty coffee shop\n",
    "OtG, purchase coffee at a Deli or supermarket\n",
    "OtG, purchase coffee at an Other Shop)\\\n",
    "\"\"\".split('\\n')"
   ]
  },
  {
   "cell_type": "code",
   "execution_count": 170,
   "metadata": {},
   "outputs": [],
   "source": [
    "data_to_kmean = data[liste_colomn].dropna(how=\"any\")\n",
    "data_to_kmean.rename(columns={j:renamed_colomn[i] for i,j in enumerate(liste_colomn)}, inplace=True)"
   ]
  },
  {
   "cell_type": "code",
   "execution_count": 171,
   "metadata": {},
   "outputs": [],
   "source": [
    "model = clt.KMeans(n_clusters=5, n_init=60)\n",
    "model.fit(data_to_kmean)\n",
    "model.labels_\n",
    "data_to_kmean[\"group\"] = model.labels_"
   ]
  },
  {
   "cell_type": "code",
   "execution_count": 172,
   "metadata": {},
   "outputs": [
    {
     "data": {
      "text/html": [
       "<div>\n",
       "<style scoped>\n",
       "    .dataframe tbody tr th:only-of-type {\n",
       "        vertical-align: middle;\n",
       "    }\n",
       "\n",
       "    .dataframe tbody tr th {\n",
       "        vertical-align: top;\n",
       "    }\n",
       "\n",
       "    .dataframe thead th {\n",
       "        text-align: right;\n",
       "    }\n",
       "</style>\n",
       "<table border=\"1\" class=\"dataframe\">\n",
       "  <thead>\n",
       "    <tr style=\"text-align: right;\">\n",
       "      <th></th>\n",
       "      <th>drink at home</th>\n",
       "      <th>drink at the office</th>\n",
       "      <th>drink on the go</th>\n",
       "      <th>drink at a cafe</th>\n",
       "      <th>drink at other place</th>\n",
       "      <th>brew Pour over coffe at home</th>\n",
       "      <th>brew French press coffee at home</th>\n",
       "      <th>brew Espresso coffee at home</th>\n",
       "      <th>brew Coffee brewing machine (e.g. Mr. Coffee) coffee at home</th>\n",
       "      <th>brew Pod/capsule machine (e.g. Keurig/Nespresso) coffee at home</th>\n",
       "      <th>...</th>\n",
       "      <th>brew Bean-to-cup machine coffee at home</th>\n",
       "      <th>brew Cold brew coffee at home</th>\n",
       "      <th>brew Coffee extract (e.g. Cometeer) coffee at home</th>\n",
       "      <th>brew Other coffee at home</th>\n",
       "      <th>OtG, purchase coffee at National chain (e.g. Starbucks, Dunkin)</th>\n",
       "      <th>OtG, purchase coffee at a Local cafe</th>\n",
       "      <th>OtG, purchase coffee at a Drive-thru</th>\n",
       "      <th>OtG, purchase coffee at a Specialty coffee shop</th>\n",
       "      <th>OtG, purchase coffee at a Deli or supermarket</th>\n",
       "      <th>OtG, purchase coffee at an Other Shop)</th>\n",
       "    </tr>\n",
       "    <tr>\n",
       "      <th>group</th>\n",
       "      <th></th>\n",
       "      <th></th>\n",
       "      <th></th>\n",
       "      <th></th>\n",
       "      <th></th>\n",
       "      <th></th>\n",
       "      <th></th>\n",
       "      <th></th>\n",
       "      <th></th>\n",
       "      <th></th>\n",
       "      <th></th>\n",
       "      <th></th>\n",
       "      <th></th>\n",
       "      <th></th>\n",
       "      <th></th>\n",
       "      <th></th>\n",
       "      <th></th>\n",
       "      <th></th>\n",
       "      <th></th>\n",
       "      <th></th>\n",
       "      <th></th>\n",
       "    </tr>\n",
       "  </thead>\n",
       "  <tbody>\n",
       "    <tr>\n",
       "      <th>0</th>\n",
       "      <td>0.0</td>\n",
       "      <td>0.454743</td>\n",
       "      <td>0.153812</td>\n",
       "      <td>0.259750</td>\n",
       "      <td>0.0</td>\n",
       "      <td>0.375597</td>\n",
       "      <td>0.472114</td>\n",
       "      <td>0.500201</td>\n",
       "      <td>0.409142</td>\n",
       "      <td>0.238653</td>\n",
       "      <td>...</td>\n",
       "      <td>0.201582</td>\n",
       "      <td>0.457504</td>\n",
       "      <td>0.278734</td>\n",
       "      <td>0.358743</td>\n",
       "      <td>0.000000</td>\n",
       "      <td>0.454743</td>\n",
       "      <td>0.214821</td>\n",
       "      <td>0.296012</td>\n",
       "      <td>0.269477</td>\n",
       "      <td>0.227130</td>\n",
       "    </tr>\n",
       "    <tr>\n",
       "      <th>1</th>\n",
       "      <td>0.0</td>\n",
       "      <td>0.440709</td>\n",
       "      <td>0.000000</td>\n",
       "      <td>0.380416</td>\n",
       "      <td>0.0</td>\n",
       "      <td>0.473122</td>\n",
       "      <td>0.491383</td>\n",
       "      <td>0.495404</td>\n",
       "      <td>0.448324</td>\n",
       "      <td>0.418864</td>\n",
       "      <td>...</td>\n",
       "      <td>0.146362</td>\n",
       "      <td>0.484445</td>\n",
       "      <td>0.271831</td>\n",
       "      <td>0.360498</td>\n",
       "      <td>0.000000</td>\n",
       "      <td>0.360498</td>\n",
       "      <td>0.448324</td>\n",
       "      <td>0.367401</td>\n",
       "      <td>0.271831</td>\n",
       "      <td>0.119946</td>\n",
       "    </tr>\n",
       "    <tr>\n",
       "      <th>2</th>\n",
       "      <td>0.0</td>\n",
       "      <td>0.501697</td>\n",
       "      <td>0.087706</td>\n",
       "      <td>0.395638</td>\n",
       "      <td>0.0</td>\n",
       "      <td>0.460030</td>\n",
       "      <td>0.417920</td>\n",
       "      <td>0.376406</td>\n",
       "      <td>0.490153</td>\n",
       "      <td>0.412679</td>\n",
       "      <td>...</td>\n",
       "      <td>0.173360</td>\n",
       "      <td>0.452977</td>\n",
       "      <td>0.254828</td>\n",
       "      <td>0.407225</td>\n",
       "      <td>0.000000</td>\n",
       "      <td>0.466466</td>\n",
       "      <td>0.376406</td>\n",
       "      <td>0.346720</td>\n",
       "      <td>0.173360</td>\n",
       "      <td>0.087706</td>\n",
       "    </tr>\n",
       "    <tr>\n",
       "      <th>3</th>\n",
       "      <td>0.0</td>\n",
       "      <td>0.495079</td>\n",
       "      <td>0.249528</td>\n",
       "      <td>0.368699</td>\n",
       "      <td>0.0</td>\n",
       "      <td>0.457050</td>\n",
       "      <td>0.368699</td>\n",
       "      <td>0.499146</td>\n",
       "      <td>0.442975</td>\n",
       "      <td>0.329584</td>\n",
       "      <td>...</td>\n",
       "      <td>0.136705</td>\n",
       "      <td>0.350202</td>\n",
       "      <td>0.265406</td>\n",
       "      <td>0.432299</td>\n",
       "      <td>0.000000</td>\n",
       "      <td>0.493352</td>\n",
       "      <td>0.318352</td>\n",
       "      <td>0.385380</td>\n",
       "      <td>0.329584</td>\n",
       "      <td>0.350202</td>\n",
       "    </tr>\n",
       "    <tr>\n",
       "      <th>4</th>\n",
       "      <td>0.0</td>\n",
       "      <td>0.429656</td>\n",
       "      <td>0.186411</td>\n",
       "      <td>0.360426</td>\n",
       "      <td>0.0</td>\n",
       "      <td>0.310685</td>\n",
       "      <td>0.332205</td>\n",
       "      <td>0.457931</td>\n",
       "      <td>0.360426</td>\n",
       "      <td>0.258697</td>\n",
       "      <td>...</td>\n",
       "      <td>0.000000</td>\n",
       "      <td>0.321750</td>\n",
       "      <td>0.243149</td>\n",
       "      <td>0.342106</td>\n",
       "      <td>0.429656</td>\n",
       "      <td>0.399082</td>\n",
       "      <td>0.162182</td>\n",
       "      <td>0.186411</td>\n",
       "      <td>0.162182</td>\n",
       "      <td>0.186411</td>\n",
       "    </tr>\n",
       "  </tbody>\n",
       "</table>\n",
       "<p>5 rows × 21 columns</p>\n",
       "</div>"
      ],
      "text/plain": [
       "       drink at home  drink at the office  drink on the go  drink at a cafe  \\\n",
       "group                                                                         \n",
       "0                0.0             0.454743         0.153812         0.259750   \n",
       "1                0.0             0.440709         0.000000         0.380416   \n",
       "2                0.0             0.501697         0.087706         0.395638   \n",
       "3                0.0             0.495079         0.249528         0.368699   \n",
       "4                0.0             0.429656         0.186411         0.360426   \n",
       "\n",
       "       drink at other place  brew Pour over coffe at home   \\\n",
       "group                                                        \n",
       "0                       0.0                       0.375597   \n",
       "1                       0.0                       0.473122   \n",
       "2                       0.0                       0.460030   \n",
       "3                       0.0                       0.457050   \n",
       "4                       0.0                       0.310685   \n",
       "\n",
       "       brew French press coffee at home  brew Espresso coffee at home  \\\n",
       "group                                                                   \n",
       "0                              0.472114                      0.500201   \n",
       "1                              0.491383                      0.495404   \n",
       "2                              0.417920                      0.376406   \n",
       "3                              0.368699                      0.499146   \n",
       "4                              0.332205                      0.457931   \n",
       "\n",
       "       brew Coffee brewing machine (e.g. Mr. Coffee) coffee at home  \\\n",
       "group                                                                 \n",
       "0                                               0.409142              \n",
       "1                                               0.448324              \n",
       "2                                               0.490153              \n",
       "3                                               0.442975              \n",
       "4                                               0.360426              \n",
       "\n",
       "       brew Pod/capsule machine (e.g. Keurig/Nespresso) coffee at home  ...  \\\n",
       "group                                                                   ...   \n",
       "0                                               0.238653                ...   \n",
       "1                                               0.418864                ...   \n",
       "2                                               0.412679                ...   \n",
       "3                                               0.329584                ...   \n",
       "4                                               0.258697                ...   \n",
       "\n",
       "       brew Bean-to-cup machine coffee at home  brew Cold brew coffee at home  \\\n",
       "group                                                                           \n",
       "0                                     0.201582                       0.457504   \n",
       "1                                     0.146362                       0.484445   \n",
       "2                                     0.173360                       0.452977   \n",
       "3                                     0.136705                       0.350202   \n",
       "4                                     0.000000                       0.321750   \n",
       "\n",
       "       brew Coffee extract (e.g. Cometeer) coffee at home  \\\n",
       "group                                                       \n",
       "0                                               0.278734    \n",
       "1                                               0.271831    \n",
       "2                                               0.254828    \n",
       "3                                               0.265406    \n",
       "4                                               0.243149    \n",
       "\n",
       "       brew Other coffee at home  \\\n",
       "group                              \n",
       "0                       0.358743   \n",
       "1                       0.360498   \n",
       "2                       0.407225   \n",
       "3                       0.432299   \n",
       "4                       0.342106   \n",
       "\n",
       "       OtG, purchase coffee at National chain (e.g. Starbucks, Dunkin)  \\\n",
       "group                                                                    \n",
       "0                                               0.000000                 \n",
       "1                                               0.000000                 \n",
       "2                                               0.000000                 \n",
       "3                                               0.000000                 \n",
       "4                                               0.429656                 \n",
       "\n",
       "       OtG, purchase coffee at a Local cafe  \\\n",
       "group                                         \n",
       "0                                  0.454743   \n",
       "1                                  0.360498   \n",
       "2                                  0.466466   \n",
       "3                                  0.493352   \n",
       "4                                  0.399082   \n",
       "\n",
       "       OtG, purchase coffee at a Drive-thru  \\\n",
       "group                                         \n",
       "0                                  0.214821   \n",
       "1                                  0.448324   \n",
       "2                                  0.376406   \n",
       "3                                  0.318352   \n",
       "4                                  0.162182   \n",
       "\n",
       "       OtG, purchase coffee at a Specialty coffee shop  \\\n",
       "group                                                    \n",
       "0                                             0.296012   \n",
       "1                                             0.367401   \n",
       "2                                             0.346720   \n",
       "3                                             0.385380   \n",
       "4                                             0.186411   \n",
       "\n",
       "       OtG, purchase coffee at a Deli or supermarket  \\\n",
       "group                                                  \n",
       "0                                           0.269477   \n",
       "1                                           0.271831   \n",
       "2                                           0.173360   \n",
       "3                                           0.329584   \n",
       "4                                           0.162182   \n",
       "\n",
       "       OtG, purchase coffee at an Other Shop)  \n",
       "group                                          \n",
       "0                                    0.227130  \n",
       "1                                    0.119946  \n",
       "2                                    0.087706  \n",
       "3                                    0.350202  \n",
       "4                                    0.186411  \n",
       "\n",
       "[5 rows x 21 columns]"
      ]
     },
     "execution_count": 172,
     "metadata": {},
     "output_type": "execute_result"
    }
   ],
   "source": [
    "profils_types = data_to_kmean.groupby(\"group\").mean()\n",
    "accuracy = data_to_kmean.groupby(\"group\").std()\n",
    "accuracy"
   ]
  },
  {
   "cell_type": "code",
   "execution_count": 173,
   "metadata": {},
   "outputs": [
    {
     "data": {
      "text/plain": [
       "array([[1.0, 0.7108433734939759, 0.9759036144578314, 0.927710843373494,\n",
       "        0.0, 0.8313253012048193, 0.3313253012048193, 0.536144578313253,\n",
       "        0.21084337349397592, 0.060240963855421686, 0.05421686746987952,\n",
       "        0.04216867469879518, 0.29518072289156627, 0.08433734939759036,\n",
       "        0.15060240963855423, 0.0, 0.7108433734939759,\n",
       "        0.04819277108433735, 0.9036144578313253, 0.0783132530120482,\n",
       "        0.05421686746987952],\n",
       "       [1.0, 0.7391304347826086, 1.0, 0.8260869565217391, 0.0,\n",
       "        0.6666666666666666, 0.39855072463768115, 0.5797101449275363,\n",
       "        0.2753623188405797, 0.2246376811594203, 0.08695652173913043,\n",
       "        0.021739130434782608, 0.3695652173913043, 0.07971014492753623,\n",
       "        0.15217391304347827, 1.0, 0.8478260869565217, 0.2753623188405797,\n",
       "        0.8405797101449275, 0.07971014492753623, 0.014492753623188406],\n",
       "       [1.0, 0.4846153846153846, 0.9923076923076923, 0.19230769230769232,\n",
       "        0.0, 0.3, 0.2230769230769231, 0.16923076923076924,\n",
       "        0.3923076923076923, 0.2153846153846154, 0.046153846153846156,\n",
       "        0.03076923076923077, 0.2846153846153846, 0.06923076923076923,\n",
       "        0.2076923076923077, 1.0, 0.3153846153846154, 0.16923076923076924,\n",
       "        0.13846153846153847, 0.03076923076923077, 0.007692307692307693],\n",
       "       [1.0, 0.5849056603773585, 0.9339622641509434, 0.16037735849056603,\n",
       "        0.0, 0.29245283018867924, 0.16037735849056603,\n",
       "        0.44339622641509435, 0.2641509433962264, 0.12264150943396226,\n",
       "        0.05660377358490566, 0.018867924528301886, 0.14150943396226415,\n",
       "        0.07547169811320754, 0.24528301886792453, 0.0,\n",
       "        0.5943396226415094, 0.11320754716981132, 0.1792452830188679,\n",
       "        0.12264150943396226, 0.14150943396226415],\n",
       "       [1.0, 0.24107142857142858, 0.9642857142857143,\n",
       "        0.15178571428571427, 0.0, 0.8928571428571429, 0.125,\n",
       "        0.29464285714285715, 0.15178571428571427, 0.07142857142857142,\n",
       "        0.026785714285714284, 0.0, 0.11607142857142858, 0.0625,\n",
       "        0.13392857142857142, 0.24107142857142858, 0.19642857142857142,\n",
       "        0.026785714285714284, 0.9642857142857143, 0.026785714285714284,\n",
       "        0.03571428571428571]], dtype=object)"
      ]
     },
     "execution_count": 173,
     "metadata": {},
     "output_type": "execute_result"
    }
   ],
   "source": [
    "profils_types.values"
   ]
  },
  {
   "cell_type": "code",
   "execution_count": 174,
   "metadata": {},
   "outputs": [
    {
     "data": {
      "text/plain": [
       "group\n",
       "0    0.278566\n",
       "1    0.298198\n",
       "2    0.290091\n",
       "3    0.309734\n",
       "4    0.251979\n",
       "dtype: float64"
      ]
     },
     "execution_count": 174,
     "metadata": {},
     "output_type": "execute_result"
    }
   ],
   "source": [
    "accuracy.mean(axis = 1)"
   ]
  },
  {
   "cell_type": "code",
   "execution_count": 177,
   "metadata": {},
   "outputs": [
    {
     "data": {
      "application/vnd.plotly.v1+json": {
       "config": {
        "plotlyServerURL": "https://plot.ly"
       },
       "data": [
        {
         "alignmentgroup": "True",
         "hovertemplate": "<extra></extra>",
         "legendgroup": "",
         "marker": {
          "color": "#636efa",
          "pattern": {
           "shape": ""
          }
         },
         "name": "",
         "offsetgroup": "",
         "orientation": "v",
         "showlegend": false,
         "textposition": "auto",
         "type": "bar",
         "xaxis": "x",
         "yaxis": "y"
        },
        {
         "hovertext": [
          "accuracy : 100%",
          "accuracy : 54%",
          "accuracy : 84%",
          "accuracy : 74%",
          "accuracy : 100%",
          "accuracy : 62%",
          "accuracy : 52%",
          "accuracy : 49%",
          "accuracy : 59%",
          "accuracy : 76%",
          "accuracy : 77%",
          "accuracy : 79%",
          "accuracy : 54%",
          "accuracy : 72%",
          "accuracy : 64%",
          "accuracy : 100%",
          "accuracy : 54%",
          "accuracy : 78%",
          "accuracy : 70%",
          "accuracy : 73%",
          "accuracy : 77%"
         ],
         "name": "0",
         "type": "bar",
         "x": [
          "drink at home",
          "drink at the office",
          "drink on the go",
          "drink at a cafe",
          "drink at other place",
          "brew Pour over coffe at home ",
          "brew French press coffee at home",
          "brew Espresso coffee at home",
          "brew Coffee brewing machine (e.g. Mr. Coffee) coffee at home",
          "brew Pod/capsule machine (e.g. Keurig/Nespresso) coffee at home",
          "brew Instant coffee coffee at home",
          "brew Bean-to-cup machine coffee at home",
          "brew Cold brew coffee at home",
          "brew Coffee extract (e.g. Cometeer) coffee at home",
          "brew Other coffee at home",
          "OtG, purchase coffee at National chain (e.g. Starbucks, Dunkin)",
          "OtG, purchase coffee at a Local cafe",
          "OtG, purchase coffee at a Drive-thru",
          "OtG, purchase coffee at a Specialty coffee shop",
          "OtG, purchase coffee at a Deli or supermarket",
          "OtG, purchase coffee at an Other Shop)"
         ],
         "y": [
          100,
          71.08433734939759,
          97.59036144578313,
          92.7710843373494,
          0,
          83.13253012048193,
          33.13253012048193,
          53.6144578313253,
          21.084337349397593,
          6.024096385542169,
          5.421686746987952,
          4.216867469879518,
          29.518072289156628,
          8.433734939759036,
          15.060240963855422,
          0,
          71.08433734939759,
          4.819277108433735,
          90.36144578313254,
          7.83132530120482,
          5.421686746987952
         ]
        },
        {
         "hovertext": [
          "accuracy : 100%",
          "accuracy : 55%",
          "accuracy : 100%",
          "accuracy : 61%",
          "accuracy : 100%",
          "accuracy : 52%",
          "accuracy : 50%",
          "accuracy : 50%",
          "accuracy : 55%",
          "accuracy : 58%",
          "accuracy : 71%",
          "accuracy : 85%",
          "accuracy : 51%",
          "accuracy : 72%",
          "accuracy : 63%",
          "accuracy : 100%",
          "accuracy : 63%",
          "accuracy : 55%",
          "accuracy : 63%",
          "accuracy : 72%",
          "accuracy : 88%"
         ],
         "name": "1",
         "type": "bar",
         "x": [
          "drink at home",
          "drink at the office",
          "drink on the go",
          "drink at a cafe",
          "drink at other place",
          "brew Pour over coffe at home ",
          "brew French press coffee at home",
          "brew Espresso coffee at home",
          "brew Coffee brewing machine (e.g. Mr. Coffee) coffee at home",
          "brew Pod/capsule machine (e.g. Keurig/Nespresso) coffee at home",
          "brew Instant coffee coffee at home",
          "brew Bean-to-cup machine coffee at home",
          "brew Cold brew coffee at home",
          "brew Coffee extract (e.g. Cometeer) coffee at home",
          "brew Other coffee at home",
          "OtG, purchase coffee at National chain (e.g. Starbucks, Dunkin)",
          "OtG, purchase coffee at a Local cafe",
          "OtG, purchase coffee at a Drive-thru",
          "OtG, purchase coffee at a Specialty coffee shop",
          "OtG, purchase coffee at a Deli or supermarket",
          "OtG, purchase coffee at an Other Shop)"
         ],
         "y": [
          100,
          73.91304347826086,
          100,
          82.6086956521739,
          0,
          66.66666666666666,
          39.85507246376812,
          57.971014492753625,
          27.536231884057973,
          22.463768115942027,
          8.695652173913043,
          2.1739130434782608,
          36.95652173913043,
          7.971014492753622,
          15.217391304347828,
          100,
          84.78260869565217,
          27.536231884057973,
          84.05797101449275,
          7.971014492753622,
          1.4492753623188406
         ]
        },
        {
         "hovertext": [
          "accuracy : 100%",
          "accuracy : 49%",
          "accuracy : 91%",
          "accuracy : 60%",
          "accuracy : 100%",
          "accuracy : 53%",
          "accuracy : 58%",
          "accuracy : 62%",
          "accuracy : 50%",
          "accuracy : 58%",
          "accuracy : 78%",
          "accuracy : 82%",
          "accuracy : 54%",
          "accuracy : 74%",
          "accuracy : 59%",
          "accuracy : 100%",
          "accuracy : 53%",
          "accuracy : 62%",
          "accuracy : 65%",
          "accuracy : 82%",
          "accuracy : 91%"
         ],
         "name": "2",
         "type": "bar",
         "x": [
          "drink at home",
          "drink at the office",
          "drink on the go",
          "drink at a cafe",
          "drink at other place",
          "brew Pour over coffe at home ",
          "brew French press coffee at home",
          "brew Espresso coffee at home",
          "brew Coffee brewing machine (e.g. Mr. Coffee) coffee at home",
          "brew Pod/capsule machine (e.g. Keurig/Nespresso) coffee at home",
          "brew Instant coffee coffee at home",
          "brew Bean-to-cup machine coffee at home",
          "brew Cold brew coffee at home",
          "brew Coffee extract (e.g. Cometeer) coffee at home",
          "brew Other coffee at home",
          "OtG, purchase coffee at National chain (e.g. Starbucks, Dunkin)",
          "OtG, purchase coffee at a Local cafe",
          "OtG, purchase coffee at a Drive-thru",
          "OtG, purchase coffee at a Specialty coffee shop",
          "OtG, purchase coffee at a Deli or supermarket",
          "OtG, purchase coffee at an Other Shop)"
         ],
         "y": [
          100,
          48.46153846153846,
          99.23076923076923,
          19.230769230769234,
          0,
          30,
          22.30769230769231,
          16.923076923076923,
          39.23076923076923,
          21.53846153846154,
          4.615384615384616,
          3.076923076923077,
          28.46153846153846,
          6.923076923076923,
          20.76923076923077,
          100,
          31.538461538461537,
          16.923076923076923,
          13.846153846153847,
          3.076923076923077,
          0.7692307692307693
         ]
        },
        {
         "hovertext": [
          "accuracy : 100%",
          "accuracy : 50%",
          "accuracy : 75%",
          "accuracy : 63%",
          "accuracy : 100%",
          "accuracy : 54%",
          "accuracy : 63%",
          "accuracy : 50%",
          "accuracy : 55%",
          "accuracy : 67%",
          "accuracy : 76%",
          "accuracy : 86%",
          "accuracy : 64%",
          "accuracy : 73%",
          "accuracy : 56%",
          "accuracy : 100%",
          "accuracy : 50%",
          "accuracy : 68%",
          "accuracy : 61%",
          "accuracy : 67%",
          "accuracy : 64%"
         ],
         "name": "3",
         "type": "bar",
         "x": [
          "drink at home",
          "drink at the office",
          "drink on the go",
          "drink at a cafe",
          "drink at other place",
          "brew Pour over coffe at home ",
          "brew French press coffee at home",
          "brew Espresso coffee at home",
          "brew Coffee brewing machine (e.g. Mr. Coffee) coffee at home",
          "brew Pod/capsule machine (e.g. Keurig/Nespresso) coffee at home",
          "brew Instant coffee coffee at home",
          "brew Bean-to-cup machine coffee at home",
          "brew Cold brew coffee at home",
          "brew Coffee extract (e.g. Cometeer) coffee at home",
          "brew Other coffee at home",
          "OtG, purchase coffee at National chain (e.g. Starbucks, Dunkin)",
          "OtG, purchase coffee at a Local cafe",
          "OtG, purchase coffee at a Drive-thru",
          "OtG, purchase coffee at a Specialty coffee shop",
          "OtG, purchase coffee at a Deli or supermarket",
          "OtG, purchase coffee at an Other Shop)"
         ],
         "y": [
          100,
          58.490566037735846,
          93.39622641509435,
          16.037735849056602,
          0,
          29.245283018867923,
          16.037735849056602,
          44.339622641509436,
          26.41509433962264,
          12.264150943396226,
          5.660377358490567,
          1.8867924528301887,
          14.150943396226415,
          7.547169811320755,
          24.528301886792452,
          0,
          59.43396226415094,
          11.320754716981133,
          17.92452830188679,
          12.264150943396226,
          14.150943396226415
         ]
        },
        {
         "hovertext": [
          "accuracy : 100%",
          "accuracy : 57%",
          "accuracy : 81%",
          "accuracy : 63%",
          "accuracy : 100%",
          "accuracy : 68%",
          "accuracy : 66%",
          "accuracy : 54%",
          "accuracy : 63%",
          "accuracy : 74%",
          "accuracy : 83%",
          "accuracy : 100%",
          "accuracy : 67%",
          "accuracy : 75%",
          "accuracy : 65%",
          "accuracy : 57%",
          "accuracy : 60%",
          "accuracy : 83%",
          "accuracy : 81%",
          "accuracy : 83%",
          "accuracy : 81%"
         ],
         "name": "4",
         "type": "bar",
         "x": [
          "drink at home",
          "drink at the office",
          "drink on the go",
          "drink at a cafe",
          "drink at other place",
          "brew Pour over coffe at home ",
          "brew French press coffee at home",
          "brew Espresso coffee at home",
          "brew Coffee brewing machine (e.g. Mr. Coffee) coffee at home",
          "brew Pod/capsule machine (e.g. Keurig/Nespresso) coffee at home",
          "brew Instant coffee coffee at home",
          "brew Bean-to-cup machine coffee at home",
          "brew Cold brew coffee at home",
          "brew Coffee extract (e.g. Cometeer) coffee at home",
          "brew Other coffee at home",
          "OtG, purchase coffee at National chain (e.g. Starbucks, Dunkin)",
          "OtG, purchase coffee at a Local cafe",
          "OtG, purchase coffee at a Drive-thru",
          "OtG, purchase coffee at a Specialty coffee shop",
          "OtG, purchase coffee at a Deli or supermarket",
          "OtG, purchase coffee at an Other Shop)"
         ],
         "y": [
          100,
          24.107142857142858,
          96.42857142857143,
          15.178571428571427,
          0,
          89.28571428571429,
          12.5,
          29.464285714285715,
          15.178571428571427,
          7.142857142857142,
          2.6785714285714284,
          0,
          11.607142857142858,
          6.25,
          13.392857142857142,
          24.107142857142858,
          19.642857142857142,
          2.6785714285714284,
          96.42857142857143,
          2.6785714285714284,
          3.571428571428571
         ]
        }
       ],
       "layout": {
        "barmode": "group",
        "legend": {
         "tracegroupgap": 0
        },
        "template": {
         "data": {
          "bar": [
           {
            "error_x": {
             "color": "#2a3f5f"
            },
            "error_y": {
             "color": "#2a3f5f"
            },
            "marker": {
             "line": {
              "color": "#E5ECF6",
              "width": 0.5
             },
             "pattern": {
              "fillmode": "overlay",
              "size": 10,
              "solidity": 0.2
             }
            },
            "type": "bar"
           }
          ],
          "barpolar": [
           {
            "marker": {
             "line": {
              "color": "#E5ECF6",
              "width": 0.5
             },
             "pattern": {
              "fillmode": "overlay",
              "size": 10,
              "solidity": 0.2
             }
            },
            "type": "barpolar"
           }
          ],
          "carpet": [
           {
            "aaxis": {
             "endlinecolor": "#2a3f5f",
             "gridcolor": "white",
             "linecolor": "white",
             "minorgridcolor": "white",
             "startlinecolor": "#2a3f5f"
            },
            "baxis": {
             "endlinecolor": "#2a3f5f",
             "gridcolor": "white",
             "linecolor": "white",
             "minorgridcolor": "white",
             "startlinecolor": "#2a3f5f"
            },
            "type": "carpet"
           }
          ],
          "choropleth": [
           {
            "colorbar": {
             "outlinewidth": 0,
             "ticks": ""
            },
            "type": "choropleth"
           }
          ],
          "contour": [
           {
            "colorbar": {
             "outlinewidth": 0,
             "ticks": ""
            },
            "colorscale": [
             [
              0,
              "#0d0887"
             ],
             [
              0.1111111111111111,
              "#46039f"
             ],
             [
              0.2222222222222222,
              "#7201a8"
             ],
             [
              0.3333333333333333,
              "#9c179e"
             ],
             [
              0.4444444444444444,
              "#bd3786"
             ],
             [
              0.5555555555555556,
              "#d8576b"
             ],
             [
              0.6666666666666666,
              "#ed7953"
             ],
             [
              0.7777777777777778,
              "#fb9f3a"
             ],
             [
              0.8888888888888888,
              "#fdca26"
             ],
             [
              1,
              "#f0f921"
             ]
            ],
            "type": "contour"
           }
          ],
          "contourcarpet": [
           {
            "colorbar": {
             "outlinewidth": 0,
             "ticks": ""
            },
            "type": "contourcarpet"
           }
          ],
          "heatmap": [
           {
            "colorbar": {
             "outlinewidth": 0,
             "ticks": ""
            },
            "colorscale": [
             [
              0,
              "#0d0887"
             ],
             [
              0.1111111111111111,
              "#46039f"
             ],
             [
              0.2222222222222222,
              "#7201a8"
             ],
             [
              0.3333333333333333,
              "#9c179e"
             ],
             [
              0.4444444444444444,
              "#bd3786"
             ],
             [
              0.5555555555555556,
              "#d8576b"
             ],
             [
              0.6666666666666666,
              "#ed7953"
             ],
             [
              0.7777777777777778,
              "#fb9f3a"
             ],
             [
              0.8888888888888888,
              "#fdca26"
             ],
             [
              1,
              "#f0f921"
             ]
            ],
            "type": "heatmap"
           }
          ],
          "heatmapgl": [
           {
            "colorbar": {
             "outlinewidth": 0,
             "ticks": ""
            },
            "colorscale": [
             [
              0,
              "#0d0887"
             ],
             [
              0.1111111111111111,
              "#46039f"
             ],
             [
              0.2222222222222222,
              "#7201a8"
             ],
             [
              0.3333333333333333,
              "#9c179e"
             ],
             [
              0.4444444444444444,
              "#bd3786"
             ],
             [
              0.5555555555555556,
              "#d8576b"
             ],
             [
              0.6666666666666666,
              "#ed7953"
             ],
             [
              0.7777777777777778,
              "#fb9f3a"
             ],
             [
              0.8888888888888888,
              "#fdca26"
             ],
             [
              1,
              "#f0f921"
             ]
            ],
            "type": "heatmapgl"
           }
          ],
          "histogram": [
           {
            "marker": {
             "pattern": {
              "fillmode": "overlay",
              "size": 10,
              "solidity": 0.2
             }
            },
            "type": "histogram"
           }
          ],
          "histogram2d": [
           {
            "colorbar": {
             "outlinewidth": 0,
             "ticks": ""
            },
            "colorscale": [
             [
              0,
              "#0d0887"
             ],
             [
              0.1111111111111111,
              "#46039f"
             ],
             [
              0.2222222222222222,
              "#7201a8"
             ],
             [
              0.3333333333333333,
              "#9c179e"
             ],
             [
              0.4444444444444444,
              "#bd3786"
             ],
             [
              0.5555555555555556,
              "#d8576b"
             ],
             [
              0.6666666666666666,
              "#ed7953"
             ],
             [
              0.7777777777777778,
              "#fb9f3a"
             ],
             [
              0.8888888888888888,
              "#fdca26"
             ],
             [
              1,
              "#f0f921"
             ]
            ],
            "type": "histogram2d"
           }
          ],
          "histogram2dcontour": [
           {
            "colorbar": {
             "outlinewidth": 0,
             "ticks": ""
            },
            "colorscale": [
             [
              0,
              "#0d0887"
             ],
             [
              0.1111111111111111,
              "#46039f"
             ],
             [
              0.2222222222222222,
              "#7201a8"
             ],
             [
              0.3333333333333333,
              "#9c179e"
             ],
             [
              0.4444444444444444,
              "#bd3786"
             ],
             [
              0.5555555555555556,
              "#d8576b"
             ],
             [
              0.6666666666666666,
              "#ed7953"
             ],
             [
              0.7777777777777778,
              "#fb9f3a"
             ],
             [
              0.8888888888888888,
              "#fdca26"
             ],
             [
              1,
              "#f0f921"
             ]
            ],
            "type": "histogram2dcontour"
           }
          ],
          "mesh3d": [
           {
            "colorbar": {
             "outlinewidth": 0,
             "ticks": ""
            },
            "type": "mesh3d"
           }
          ],
          "parcoords": [
           {
            "line": {
             "colorbar": {
              "outlinewidth": 0,
              "ticks": ""
             }
            },
            "type": "parcoords"
           }
          ],
          "pie": [
           {
            "automargin": true,
            "type": "pie"
           }
          ],
          "scatter": [
           {
            "fillpattern": {
             "fillmode": "overlay",
             "size": 10,
             "solidity": 0.2
            },
            "type": "scatter"
           }
          ],
          "scatter3d": [
           {
            "line": {
             "colorbar": {
              "outlinewidth": 0,
              "ticks": ""
             }
            },
            "marker": {
             "colorbar": {
              "outlinewidth": 0,
              "ticks": ""
             }
            },
            "type": "scatter3d"
           }
          ],
          "scattercarpet": [
           {
            "marker": {
             "colorbar": {
              "outlinewidth": 0,
              "ticks": ""
             }
            },
            "type": "scattercarpet"
           }
          ],
          "scattergeo": [
           {
            "marker": {
             "colorbar": {
              "outlinewidth": 0,
              "ticks": ""
             }
            },
            "type": "scattergeo"
           }
          ],
          "scattergl": [
           {
            "marker": {
             "colorbar": {
              "outlinewidth": 0,
              "ticks": ""
             }
            },
            "type": "scattergl"
           }
          ],
          "scattermapbox": [
           {
            "marker": {
             "colorbar": {
              "outlinewidth": 0,
              "ticks": ""
             }
            },
            "type": "scattermapbox"
           }
          ],
          "scatterpolar": [
           {
            "marker": {
             "colorbar": {
              "outlinewidth": 0,
              "ticks": ""
             }
            },
            "type": "scatterpolar"
           }
          ],
          "scatterpolargl": [
           {
            "marker": {
             "colorbar": {
              "outlinewidth": 0,
              "ticks": ""
             }
            },
            "type": "scatterpolargl"
           }
          ],
          "scatterternary": [
           {
            "marker": {
             "colorbar": {
              "outlinewidth": 0,
              "ticks": ""
             }
            },
            "type": "scatterternary"
           }
          ],
          "surface": [
           {
            "colorbar": {
             "outlinewidth": 0,
             "ticks": ""
            },
            "colorscale": [
             [
              0,
              "#0d0887"
             ],
             [
              0.1111111111111111,
              "#46039f"
             ],
             [
              0.2222222222222222,
              "#7201a8"
             ],
             [
              0.3333333333333333,
              "#9c179e"
             ],
             [
              0.4444444444444444,
              "#bd3786"
             ],
             [
              0.5555555555555556,
              "#d8576b"
             ],
             [
              0.6666666666666666,
              "#ed7953"
             ],
             [
              0.7777777777777778,
              "#fb9f3a"
             ],
             [
              0.8888888888888888,
              "#fdca26"
             ],
             [
              1,
              "#f0f921"
             ]
            ],
            "type": "surface"
           }
          ],
          "table": [
           {
            "cells": {
             "fill": {
              "color": "#EBF0F8"
             },
             "line": {
              "color": "white"
             }
            },
            "header": {
             "fill": {
              "color": "#C8D4E3"
             },
             "line": {
              "color": "white"
             }
            },
            "type": "table"
           }
          ]
         },
         "layout": {
          "annotationdefaults": {
           "arrowcolor": "#2a3f5f",
           "arrowhead": 0,
           "arrowwidth": 1
          },
          "autotypenumbers": "strict",
          "coloraxis": {
           "colorbar": {
            "outlinewidth": 0,
            "ticks": ""
           }
          },
          "colorscale": {
           "diverging": [
            [
             0,
             "#8e0152"
            ],
            [
             0.1,
             "#c51b7d"
            ],
            [
             0.2,
             "#de77ae"
            ],
            [
             0.3,
             "#f1b6da"
            ],
            [
             0.4,
             "#fde0ef"
            ],
            [
             0.5,
             "#f7f7f7"
            ],
            [
             0.6,
             "#e6f5d0"
            ],
            [
             0.7,
             "#b8e186"
            ],
            [
             0.8,
             "#7fbc41"
            ],
            [
             0.9,
             "#4d9221"
            ],
            [
             1,
             "#276419"
            ]
           ],
           "sequential": [
            [
             0,
             "#0d0887"
            ],
            [
             0.1111111111111111,
             "#46039f"
            ],
            [
             0.2222222222222222,
             "#7201a8"
            ],
            [
             0.3333333333333333,
             "#9c179e"
            ],
            [
             0.4444444444444444,
             "#bd3786"
            ],
            [
             0.5555555555555556,
             "#d8576b"
            ],
            [
             0.6666666666666666,
             "#ed7953"
            ],
            [
             0.7777777777777778,
             "#fb9f3a"
            ],
            [
             0.8888888888888888,
             "#fdca26"
            ],
            [
             1,
             "#f0f921"
            ]
           ],
           "sequentialminus": [
            [
             0,
             "#0d0887"
            ],
            [
             0.1111111111111111,
             "#46039f"
            ],
            [
             0.2222222222222222,
             "#7201a8"
            ],
            [
             0.3333333333333333,
             "#9c179e"
            ],
            [
             0.4444444444444444,
             "#bd3786"
            ],
            [
             0.5555555555555556,
             "#d8576b"
            ],
            [
             0.6666666666666666,
             "#ed7953"
            ],
            [
             0.7777777777777778,
             "#fb9f3a"
            ],
            [
             0.8888888888888888,
             "#fdca26"
            ],
            [
             1,
             "#f0f921"
            ]
           ]
          },
          "colorway": [
           "#636efa",
           "#EF553B",
           "#00cc96",
           "#ab63fa",
           "#FFA15A",
           "#19d3f3",
           "#FF6692",
           "#B6E880",
           "#FF97FF",
           "#FECB52"
          ],
          "font": {
           "color": "#2a3f5f"
          },
          "geo": {
           "bgcolor": "white",
           "lakecolor": "white",
           "landcolor": "#E5ECF6",
           "showlakes": true,
           "showland": true,
           "subunitcolor": "white"
          },
          "hoverlabel": {
           "align": "left"
          },
          "hovermode": "closest",
          "mapbox": {
           "style": "light"
          },
          "paper_bgcolor": "white",
          "plot_bgcolor": "#E5ECF6",
          "polar": {
           "angularaxis": {
            "gridcolor": "white",
            "linecolor": "white",
            "ticks": ""
           },
           "bgcolor": "#E5ECF6",
           "radialaxis": {
            "gridcolor": "white",
            "linecolor": "white",
            "ticks": ""
           }
          },
          "scene": {
           "xaxis": {
            "backgroundcolor": "#E5ECF6",
            "gridcolor": "white",
            "gridwidth": 2,
            "linecolor": "white",
            "showbackground": true,
            "ticks": "",
            "zerolinecolor": "white"
           },
           "yaxis": {
            "backgroundcolor": "#E5ECF6",
            "gridcolor": "white",
            "gridwidth": 2,
            "linecolor": "white",
            "showbackground": true,
            "ticks": "",
            "zerolinecolor": "white"
           },
           "zaxis": {
            "backgroundcolor": "#E5ECF6",
            "gridcolor": "white",
            "gridwidth": 2,
            "linecolor": "white",
            "showbackground": true,
            "ticks": "",
            "zerolinecolor": "white"
           }
          },
          "shapedefaults": {
           "line": {
            "color": "#2a3f5f"
           }
          },
          "ternary": {
           "aaxis": {
            "gridcolor": "white",
            "linecolor": "white",
            "ticks": ""
           },
           "baxis": {
            "gridcolor": "white",
            "linecolor": "white",
            "ticks": ""
           },
           "bgcolor": "#E5ECF6",
           "caxis": {
            "gridcolor": "white",
            "linecolor": "white",
            "ticks": ""
           }
          },
          "title": {
           "x": 0.05
          },
          "xaxis": {
           "automargin": true,
           "gridcolor": "white",
           "linecolor": "white",
           "ticks": "",
           "title": {
            "standoff": 15
           },
           "zerolinecolor": "white",
           "zerolinewidth": 2
          },
          "yaxis": {
           "automargin": true,
           "gridcolor": "white",
           "linecolor": "white",
           "ticks": "",
           "title": {
            "standoff": 15
           },
           "zerolinecolor": "white",
           "zerolinewidth": 2
          }
         }
        },
        "title": {
         "text": "profils type renvoyé pas le model ZMean"
        },
        "xaxis": {
         "anchor": "y",
         "domain": [
          0,
          1
         ]
        },
        "yaxis": {
         "anchor": "x",
         "domain": [
          0,
          1
         ]
        }
       }
      }
     },
     "metadata": {},
     "output_type": "display_data"
    }
   ],
   "source": [
    "fig = px.bar(title=\"profils type renvoyé pas le model ZMean\", barmode='group')\n",
    "values = profils_types.values\n",
    "accuracy_values = accuracy.values\n",
    "for i,j in enumerate(accuracy_values):\n",
    "    j = [ \"accuracy : \"+ str(int((1-x)*100))+'%' for x in j]\n",
    "    fig.add_bar(\n",
    "        x = profils_types.columns,\n",
    "        y = values[i]*100,\n",
    "        hovertext= j,\n",
    "        name = str(i),\n",
    "    )\n",
    "fig.show()\n"
   ]
  }
 ],
 "metadata": {
  "kernelspec": {
   "display_name": "Python 3",
   "language": "python",
   "name": "python3"
  },
  "language_info": {
   "codemirror_mode": {
    "name": "ipython",
    "version": 3
   },
   "file_extension": ".py",
   "mimetype": "text/x-python",
   "name": "python",
   "nbconvert_exporter": "python",
   "pygments_lexer": "ipython3",
   "version": "3.11.2"
  }
 },
 "nbformat": 4,
 "nbformat_minor": 2
}
